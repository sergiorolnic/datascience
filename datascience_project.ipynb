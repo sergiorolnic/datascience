{
  "nbformat": 4,
  "nbformat_minor": 0,
  "metadata": {
    "colab": {
      "name": "datascience-project.ipynb",
      "provenance": [],
      "collapsed_sections": [],
      "authorship_tag": "ABX9TyOX17PqPIAJ2OVF1opWXPtk",
      "include_colab_link": true
    },
    "kernelspec": {
      "name": "python3",
      "display_name": "Python 3"
    },
    "language_info": {
      "name": "python"
    },
    "accelerator": "GPU"
  },
  "cells": [
    {
      "cell_type": "markdown",
      "metadata": {
        "id": "view-in-github",
        "colab_type": "text"
      },
      "source": [
        "<a href=\"https://colab.research.google.com/github/sergiorolnic/datascience/blob/main/datascience_project.ipynb\" target=\"_parent\"><img src=\"https://colab.research.google.com/assets/colab-badge.svg\" alt=\"Open In Colab\"/></a>"
      ]
    },
    {
      "cell_type": "markdown",
      "metadata": {
        "id": "ePL7s6Rrx6Qi"
      },
      "source": [
        "# Box Office Prediction\n",
        "**Programmazione di Applicazioni Data Intensive**\n",
        "\n",
        "Ingegneria e Scienze Informatiche 2021\n",
        "\n",
        "Sergiu Gabriel Rolnic\n",
        "\n",
        "Il seguente progetto riguarda l'analisi  dei dati raccolti dal sito [The Movie Database](https://www.themoviedb.org/). Lo scopo finale sarà quello di prevedere gli incassi di un film avendo a disposizione solo dati esistenti prima della effettiva uscita nelle sale.\n"
      ]
    },
    {
      "cell_type": "markdown",
      "metadata": {
        "id": "UZJcfexXmC59"
      },
      "source": [
        "# **Analisi dei Dati**"
      ]
    },
    {
      "cell_type": "markdown",
      "metadata": {
        "id": "gsO8Vzzz5l_J"
      },
      "source": [
        "Importazione del dataset e delle librerie utili per la sua analisi"
      ]
    },
    {
      "cell_type": "code",
      "metadata": {
        "id": "GmOfJ-UC3d3X"
      },
      "source": [
        "import os.path\n",
        "import numpy as np\n",
        "import pandas as pd\n",
        "import matplotlib.pyplot as plt\n",
        "%matplotlib inline"
      ],
      "execution_count": null,
      "outputs": []
    },
    {
      "cell_type": "code",
      "metadata": {
        "id": "_dMGHS4w3wL7"
      },
      "source": [
        "if not os.path.exists(\"train.csv\"):\n",
        "    from urllib.request import urlretrieve\n",
        "    urlretrieve(\"https://raw.githubusercontent.com/sergiorolnic/datascience/main/train.csv\", \"train.csv\")\n",
        "\n",
        "data = pd.read_csv(\"train.csv\")    "
      ],
      "execution_count": null,
      "outputs": []
    },
    {
      "cell_type": "code",
      "metadata": {
        "id": "doziER_xC46N"
      },
      "source": [
        "data.shape"
      ],
      "execution_count": null,
      "outputs": []
    },
    {
      "cell_type": "code",
      "metadata": {
        "id": "vCahw2vvmj_r"
      },
      "source": [
        "data.head(1)"
      ],
      "execution_count": null,
      "outputs": []
    },
    {
      "cell_type": "code",
      "metadata": {
        "id": "cGNZ9bCamtZU"
      },
      "source": [
        "data.tail(1)"
      ],
      "execution_count": null,
      "outputs": []
    },
    {
      "cell_type": "markdown",
      "metadata": {
        "id": "g1X1uJo596SJ"
      },
      "source": [
        "Notiamo la presenza di feature particolari: dizionari con una o piu' entrate, valori numerici su scale diverse, stringhe di varia natura. La challenge principale sarà quella di riuscire ad estrarre delle informazione utili da piu' variabili possibili.   "
      ]
    },
    {
      "cell_type": "markdown",
      "metadata": {
        "id": "N1eE6E8_7Gfe"
      },
      "source": [
        "La colonna \"id\" può essere usata come indice del nostro dataframe"
      ]
    },
    {
      "cell_type": "code",
      "metadata": {
        "id": "3AR9gIPX7T5g"
      },
      "source": [
        "data = pd.read_csv(\"train.csv\", index_col=0)  \n"
      ],
      "execution_count": null,
      "outputs": []
    },
    {
      "cell_type": "code",
      "metadata": {
        "id": "dRoQFejV93hg"
      },
      "source": [
        "data.head(1)"
      ],
      "execution_count": null,
      "outputs": []
    },
    {
      "cell_type": "markdown",
      "metadata": {
        "id": "NPhp8Ubnm9Eb"
      },
      "source": [
        "## Gestione Features"
      ]
    },
    {
      "cell_type": "markdown",
      "metadata": {
        "id": "85KDEc5EodZQ"
      },
      "source": [
        "\n",
        "\n",
        "*   *belongs_to_collection*: appartenenza ad una serie cinematografica\n",
        "*   *budget*: costo di produzione\n",
        "*   *genres*: generi\n",
        "*   *homepage*: link al sito web\n",
        "\n",
        "\n",
        "*   *imdb_id*: id imbd\n",
        "\n",
        "*   *original_language*: lingua originale\n",
        "\n",
        "*   *original_title*: titolo originale\n",
        "\n",
        "*   *overview*: plot\n",
        "*   *popularity*: popolarità\n",
        "*   *poster_path*: path della locandina ufficiale\n",
        "*   *production_companies*: compagnia di produzione\n",
        "*   *production_countries*: paese di produzione\n",
        "*   *release_date*: data di uscita\n",
        "*   *runtime*: durata\n",
        "*   *spoken_languages*: lingua del film\n",
        "*   *status*: stato del rilascio\n",
        "*   *tagline*: slogan film\n",
        "*   *title*: titolo\n",
        "*   *Keywords*: parole chiavi\n",
        "*   *cast*: cast\n",
        "*   *crew*: trop\n",
        "*   *revenue*: incasso del film --> variabile da predire"
      ]
    },
    {
      "cell_type": "code",
      "metadata": {
        "id": "9DI5y4Ix2HFu"
      },
      "source": [
        "data.info(memory_usage=\"deep\")"
      ],
      "execution_count": null,
      "outputs": []
    },
    {
      "cell_type": "code",
      "metadata": {
        "id": "4i3vhWqHhmcn"
      },
      "source": [
        "data.describe()"
      ],
      "execution_count": null,
      "outputs": []
    },
    {
      "cell_type": "markdown",
      "metadata": {
        "id": "q8QrHzK-kpVv"
      },
      "source": [
        "La variabile budget e la variabile target revenue presentano dei valori molto alti e diversificati che potrebbero causare dei problemi in fase di addestramento. "
      ]
    },
    {
      "cell_type": "markdown",
      "metadata": {
        "id": "UqtDnq0x9qBz"
      },
      "source": [
        "Verifichiamo la presenza di valori null\n"
      ]
    },
    {
      "cell_type": "code",
      "metadata": {
        "id": "QZraRfXXRoya"
      },
      "source": [
        "data.isnull().sum()"
      ],
      "execution_count": null,
      "outputs": []
    },
    {
      "cell_type": "markdown",
      "metadata": {
        "id": "9uC2dmMKuXwl"
      },
      "source": [
        " Notiamo che **Belongs_to_collection** e **Homepage** presentano una preponderanza di valori null. Si decide perciò di binarizzarle attraverso il quesito \"Is Present?\" in quanto sono features che potrebbero risultare particolarmente utili durante l'addestramento."
      ]
    },
    {
      "cell_type": "code",
      "metadata": {
        "id": "jN8hOOSMv66q"
      },
      "source": [
        "data['belongs_to_a_collection'] = data['belongs_to_collection'].apply(lambda x: 0 if pd.isna(x) else 1)\n",
        "data = data.drop(columns='belongs_to_collection')\n",
        "\n",
        "data['homepage_is_present'] = data['homepage'].apply(lambda x: 0 if pd.isna(x) else 1)\n",
        "data = data.drop(columns='homepage')\n",
        "\n"
      ],
      "execution_count": null,
      "outputs": []
    },
    {
      "cell_type": "markdown",
      "metadata": {
        "id": "o7yJOctxfvMf"
      },
      "source": [
        "**Budget**\n",
        "\n"
      ]
    },
    {
      "cell_type": "markdown",
      "metadata": {
        "id": "P7J2_H1-8ha0"
      },
      "source": [
        "Osserviamo la distribuzione del budget e della sua funzione logaritmica in modo da vedere se sia possibile uniformare meglio i valori elevati presenti."
      ]
    },
    {
      "cell_type": "code",
      "metadata": {
        "id": "UZU0i4xa9o3J"
      },
      "source": [
        "plt.figure(figsize=(15, 4))\n",
        "plt.subplot(1, 2, 1).hist(data.budget,50)\n",
        "plt.subplot(1, 2, 2).hist(np.log1p(data.budget),50);\n",
        "\n"
      ],
      "execution_count": null,
      "outputs": []
    },
    {
      "cell_type": "code",
      "metadata": {
        "id": "5ClrEF5t-vGV"
      },
      "source": [
        "data.budget[data.budget>1000000].count()"
      ],
      "execution_count": null,
      "outputs": []
    },
    {
      "cell_type": "markdown",
      "metadata": {
        "id": "_soVj16QDQXs"
      },
      "source": [
        "La quasi totalità dei valori non nulli sono superiori al milione, perciò possiamo togliere le righe con valori inferiori."
      ]
    },
    {
      "cell_type": "code",
      "metadata": {
        "id": "3PIbduF05PHw"
      },
      "source": [
        "data = data[data.budget > 1000000]"
      ],
      "execution_count": null,
      "outputs": []
    },
    {
      "cell_type": "markdown",
      "metadata": {
        "id": "ZI8oMKdZ5MYt"
      },
      "source": [
        "Si usa la funzione \"log(1+x)\" per trasformare la variabile, uniformando i dati e diminuendo il peso dei grandi blockbuster. "
      ]
    },
    {
      "cell_type": "code",
      "metadata": {
        "id": "kttxj5Wx-0g0"
      },
      "source": [
        "data.budget = np.log1p(data.budget)"
      ],
      "execution_count": null,
      "outputs": []
    },
    {
      "cell_type": "code",
      "metadata": {
        "id": "TthG0IotCijV"
      },
      "source": [
        "data.budget.plot.hist(bins=50);\n"
      ],
      "execution_count": null,
      "outputs": []
    },
    {
      "cell_type": "markdown",
      "metadata": {
        "id": "KOaa95LiptAL"
      },
      "source": [
        "Si procede allo stesso modo con l'analisi della variabile target **revenue**"
      ]
    },
    {
      "cell_type": "code",
      "metadata": {
        "id": "0Q8_5MOgRM1R"
      },
      "source": [
        "plt.figure(figsize=(15, 4))\n",
        "plt.subplot(1, 2, 1).hist(data.revenue,50)\n",
        "plt.subplot(1, 2, 2).hist(np.log(data.revenue),50);"
      ],
      "execution_count": null,
      "outputs": []
    },
    {
      "cell_type": "code",
      "metadata": {
        "id": "u6M1m7DhBei2"
      },
      "source": [
        "data.revenue = np.log1p(data.revenue)"
      ],
      "execution_count": null,
      "outputs": []
    },
    {
      "cell_type": "markdown",
      "metadata": {
        "id": "hGSL5fQcn-eN"
      },
      "source": [
        "**Budget** e **revenue** presentano entrambe una distribuzione molto simile, perciò si decide di verificare un'eventuale correlazione tra le due. "
      ]
    },
    {
      "cell_type": "code",
      "metadata": {
        "id": "mkB5V7UBqRh4"
      },
      "source": [
        "plt.scatter(data.budget, data.revenue);\n"
      ],
      "execution_count": null,
      "outputs": []
    },
    {
      "cell_type": "code",
      "metadata": {
        "id": "HFHIQqHwVxfc"
      },
      "source": [
        "np.mean((data.budget-data.budget.mean()) * (data.revenue-data.revenue.mean())) / (data.budget.std() * data.revenue.std())"
      ],
      "execution_count": null,
      "outputs": []
    },
    {
      "cell_type": "markdown",
      "metadata": {
        "id": "KtL5_aWpFNzq"
      },
      "source": [
        "Usando la correlazione di Pearson si ottiene una buona correlazione tra le due variabili"
      ]
    },
    {
      "cell_type": "markdown",
      "metadata": {
        "id": "vDaQEyW4XG7y"
      },
      "source": [
        "**Genres**"
      ]
    },
    {
      "cell_type": "markdown",
      "metadata": {
        "id": "QhkmwnSYGvgr"
      },
      "source": [
        "Il genere è la prima feature di tipo dizionario. I valori distinti sono limitati, perciò si procede con la binarizzazione di tutti gli elementi"
      ]
    },
    {
      "cell_type": "code",
      "metadata": {
        "id": "-rpvbGsqdQwY"
      },
      "source": [
        "data[\"genres\"] = (data['genres'].apply(lambda x: [i['name'] for i in eval(x)] if str(x) != 'nan' else []).values)\n",
        "list_of_genres = {i for x in data.genres for i in x}\n",
        "for genre in list_of_genres:\n",
        "  data[\"genre_\" + genre] = data['genres'].apply(lambda x: 1 if genre in x else 0)\n",
        "data.drop(columns='genres',inplace=True)\n",
        "\n"
      ],
      "execution_count": null,
      "outputs": []
    },
    {
      "cell_type": "markdown",
      "metadata": {
        "id": "R7J9LiklRKeR"
      },
      "source": [
        "Per quanto riguara le features **imdb_id, 'original_title', 'status', 'poster_path'** e **title** di eliminarle in quanto poco significative"
      ]
    },
    {
      "cell_type": "code",
      "metadata": {
        "id": "WzWuyejfRJ6A"
      },
      "source": [
        "data.drop(columns=['imdb_id','original_title','status','poster_path', 'title'], inplace=True)\n"
      ],
      "execution_count": null,
      "outputs": []
    },
    {
      "cell_type": "markdown",
      "metadata": {
        "id": "qEpx_plu5Ucp"
      },
      "source": [
        "**Original_language**\n",
        "\n"
      ]
    },
    {
      "cell_type": "code",
      "metadata": {
        "id": "AXiY4AQzNUNx"
      },
      "source": [
        "data.original_language.value_counts(normalize=True).head(5).plot.pie();\n"
      ],
      "execution_count": null,
      "outputs": []
    },
    {
      "cell_type": "markdown",
      "metadata": {
        "id": "fVkGkGyN5-04"
      },
      "source": [
        "Per quanto a primo impatto potesse risultare un dato interessante, la maggior parte dei film sono in inglese, quindi risulterebbero inutili in fase di addestramento. Lo stesso ragionamento vale per **spoken_language**\n",
        "Un discorso diverso invece va fatto con **popularity**. Non avendo certezza del fatto che il rating di popolarità sia antecedente alla fuoriuscita dei film, si decide cancellare la colonna assieme alle altre."
      ]
    },
    {
      "cell_type": "code",
      "metadata": {
        "id": "5tjWe0SW6RTO"
      },
      "source": [
        "#data.drop(columns= ['original_language','spoken_languages', 'popularity'], inplace=True)\n",
        "data.drop(columns= ['original_language','spoken_languages'], inplace=True)\n"
      ],
      "execution_count": null,
      "outputs": []
    },
    {
      "cell_type": "markdown",
      "metadata": {
        "id": "9fItUK-EC3_K"
      },
      "source": [
        "**Keywords**"
      ]
    },
    {
      "cell_type": "code",
      "metadata": {
        "id": "83cdkU-NK-He"
      },
      "source": [
        "data.Keywords.head()"
      ],
      "execution_count": null,
      "outputs": []
    },
    {
      "cell_type": "markdown",
      "metadata": {
        "id": "htTLRArXOGcv"
      },
      "source": [
        "**tagline** e **overview** svolgono la stessa funzione di **Keywords**, e cioè l'estrazione di parole chiavi da da associare a ciascun film. Si procede ad eliminarle."
      ]
    },
    {
      "cell_type": "code",
      "metadata": {
        "id": "AsGeaw8jlHaA"
      },
      "source": [
        "data.drop(columns=['overview', 'tagline'], inplace=True)\n",
        "\n"
      ],
      "execution_count": null,
      "outputs": []
    },
    {
      "cell_type": "markdown",
      "metadata": {
        "id": "9NZuq-deKzqZ"
      },
      "source": [
        "Si definisce una funzione per l'estrazione dei nomi dai dizionari, la selezione dei 100 nomi piu' diffusi e la loro binarizzazione."
      ]
    },
    {
      "cell_type": "code",
      "metadata": {
        "id": "bF115f_Cjsp4"
      },
      "source": [
        "def cut_and_binariezed(feature):\n",
        "  \n",
        "  data[feature] = (data[feature].apply(lambda x: [i['name'] for i in eval(x)] if str(x) != 'nan' else []).values)\n",
        "  all_values = pd.DataFrame([i for x in data[feature] for i in x])\n",
        "  \n",
        "  split = all_values.value_counts()[:10]\n",
        "  for keys in split.index:\n",
        "      data[feature+\" (\" + keys[0]+ \")\"] = data[feature].apply(lambda x: 1 if keys[0] in x else 0)\n",
        "  data.drop(columns=feature,inplace=True) \n",
        "\n"
      ],
      "execution_count": null,
      "outputs": []
    },
    {
      "cell_type": "code",
      "metadata": {
        "id": "mF-bc4xvk2UX"
      },
      "source": [
        "cut_and_binariezed(\"Keywords\")"
      ],
      "execution_count": null,
      "outputs": []
    },
    {
      "cell_type": "markdown",
      "metadata": {
        "id": "MgSx8azJoVjT"
      },
      "source": [
        "Si procede allo stesso modo con **cast**,**crew**,  **production_companies** e **production_countries**"
      ]
    },
    {
      "cell_type": "code",
      "metadata": {
        "id": "a0u06DpbMhIw"
      },
      "source": [
        "for feature in [\"cast\",\"crew\", \"production_companies\",\"production_countries\"]:\n",
        "  cut_and_binariezed(feature)"
      ],
      "execution_count": null,
      "outputs": []
    },
    {
      "cell_type": "markdown",
      "metadata": {
        "id": "z_faghSxCerW"
      },
      "source": [
        "**Release Date**"
      ]
    },
    {
      "cell_type": "markdown",
      "metadata": {
        "id": "VR_O0Yb1SoB9"
      },
      "source": [
        "Vengono create 3 feature rappresentanti giorno,mese, anno"
      ]
    },
    {
      "cell_type": "code",
      "metadata": {
        "id": "Dkgktd56I5hJ"
      },
      "source": [
        "data[['release_month', 'release_day', 'release_year']] = data['release_date'].str.split('/', expand=True).astype(int)"
      ],
      "execution_count": null,
      "outputs": []
    },
    {
      "cell_type": "code",
      "metadata": {
        "id": "I-amGIBo_A50"
      },
      "source": [
        "plt.figure(figsize=(12, 3))\n",
        "plt.subplot(1, 3, 1).bar(data.release_month.value_counts().index,data.release_month.value_counts().values)\n",
        "plt.subplot(1, 3, 2).bar(data.release_day.value_counts().index,data.release_day.value_counts().values)\n",
        "plt.subplot(1, 3, 3).bar(data.release_year.value_counts().index,data.release_year.value_counts().values)\n"
      ],
      "execution_count": null,
      "outputs": []
    },
    {
      "cell_type": "markdown",
      "metadata": {
        "id": "GCRIzjbjTPmx"
      },
      "source": [
        "Alcuni valori della feature **release_year** presentano solo le ultime cifre, perciò vanno uniformate "
      ]
    },
    {
      "cell_type": "code",
      "metadata": {
        "id": "IxpmCUDvROrA"
      },
      "source": [
        "data[\"release_year\"]=data['release_year'].map(lambda x: 2000 + x if x < 20 else (x+1900 if x<100 else x))\n",
        "plt.figure(figsize=(12, 3))\n",
        "plt.subplot(1, 3, 1).bar(data.release_month.value_counts().index,data.release_month.value_counts().values)\n",
        "plt.subplot(1, 3, 2).bar(data.release_day.value_counts().index,data.release_day.value_counts().values)\n",
        "plt.subplot(1, 3, 3).bar(data.release_year.value_counts().index,data.release_year.value_counts().values)"
      ],
      "execution_count": null,
      "outputs": []
    },
    {
      "cell_type": "code",
      "metadata": {
        "id": "oNDBKnk7faFp"
      },
      "source": [
        "data.drop(columns='release_date', inplace=True)"
      ],
      "execution_count": null,
      "outputs": []
    },
    {
      "cell_type": "code",
      "metadata": {
        "id": "mJSEKwgLH3pN"
      },
      "source": [
        "data.head(1)"
      ],
      "execution_count": null,
      "outputs": []
    },
    {
      "cell_type": "markdown",
      "metadata": {
        "id": "F0FXcSE9a9Gt"
      },
      "source": [
        "**Runtime**"
      ]
    },
    {
      "cell_type": "code",
      "metadata": {
        "id": "-8BonzeNIO1m"
      },
      "source": [
        "data.plot.scatter(\"runtime\", \"revenue\");"
      ],
      "execution_count": null,
      "outputs": []
    },
    {
      "cell_type": "code",
      "metadata": {
        "id": "RltNDzS5o5HW"
      },
      "source": [
        "data"
      ],
      "execution_count": null,
      "outputs": []
    },
    {
      "cell_type": "markdown",
      "metadata": {
        "id": "OtWk6FH5QKB2"
      },
      "source": [
        "# Addestramento\n"
      ]
    },
    {
      "cell_type": "markdown",
      "metadata": {
        "id": "qOPDHXIBsXi3"
      },
      "source": [
        "Prima di procedere all'addestramento controlliamo la presenza di valori null e e nel caso rimuoviamo le righe corrispondenti"
      ]
    },
    {
      "cell_type": "code",
      "metadata": {
        "id": "2iThb3nVc2Tm"
      },
      "source": [
        "data.isna().sum()"
      ],
      "execution_count": null,
      "outputs": []
    },
    {
      "cell_type": "code",
      "metadata": {
        "id": "7RXbXT6ETSf_"
      },
      "source": [
        "data.dropna(inplace=True)\n"
      ],
      "execution_count": null,
      "outputs": []
    },
    {
      "cell_type": "code",
      "metadata": {
        "id": "yTDrTyfsOtF0"
      },
      "source": [
        "data.shape"
      ],
      "execution_count": null,
      "outputs": []
    },
    {
      "cell_type": "code",
      "metadata": {
        "id": "ZjwMDZH5ShzL"
      },
      "source": [
        "Y_data = data.revenue\n",
        "X_data = data.drop(columns='revenue')\n"
      ],
      "execution_count": null,
      "outputs": []
    },
    {
      "cell_type": "code",
      "metadata": {
        "id": "ApQmXDHuNaan"
      },
      "source": [
        "from sklearn.linear_model import LinearRegression\n",
        "from sklearn.preprocessing import StandardScaler\n",
        "from sklearn.model_selection import KFold\n",
        "from sklearn.pipeline import Pipeline\n",
        "from sklearn.model_selection import cross_validate\n",
        "\n",
        "from sklearn.metrics import r2_score, mean_squared_error , mean_absolute_error"
      ],
      "execution_count": null,
      "outputs": []
    },
    {
      "cell_type": "code",
      "metadata": {
        "id": "4BJz9ejaCura"
      },
      "source": [
        "import sklearn.preprocessing"
      ],
      "execution_count": null,
      "outputs": []
    },
    {
      "cell_type": "code",
      "metadata": {
        "id": "xtVRXQC0UA66"
      },
      "source": [
        "\n",
        "def relative_error(y_true, y_pred):\n",
        "    return np.mean(np.abs((y_true - y_pred) / y_true))\n",
        "\n",
        "def print_eval(X, y, model):\n",
        "    preds = model.predict(X)\n",
        "    \n",
        "    print(\"   Mean squared error: \",mean_squared_error( y, preds))\n",
        "    print(\"    Relative error: \",relative_error( y, preds))\n",
        "    print(\"       Mean absolute_error: \",mean_absolute_error(y, preds))\n",
        "    print(\"R-squared coefficient: \",r2_score(y, preds))"
      ],
      "execution_count": null,
      "outputs": []
    },
    {
      "cell_type": "code",
      "metadata": {
        "id": "Dne43VUSefmD"
      },
      "source": [
        ""
      ],
      "execution_count": null,
      "outputs": []
    },
    {
      "cell_type": "code",
      "metadata": {
        "id": "qL9Axv09NwwX"
      },
      "source": [
        "from sklearn.model_selection import train_test_split\n",
        "X_train, X_val, y_train, y_val = \\\n",
        "    train_test_split(X_data, Y_data, test_size=1/3, random_state=42)"
      ],
      "execution_count": null,
      "outputs": []
    },
    {
      "cell_type": "code",
      "metadata": {
        "id": "b7BHdrnDbO4e"
      },
      "source": [
        ""
      ],
      "execution_count": null,
      "outputs": []
    },
    {
      "cell_type": "code",
      "metadata": {
        "id": "gIYhHyQPNwse"
      },
      "source": [
        "model = Pipeline([\n",
        "    (\"scale\", StandardScaler()),\n",
        "    (\"lrn\",  LinearRegression())\n",
        "])\n",
        "linear_model = model.fit(X_train, y_train)\n",
        "print_eval(X_val, y_val, model)"
      ],
      "execution_count": null,
      "outputs": []
    },
    {
      "cell_type": "code",
      "metadata": {
        "id": "0w2NCI64ZEV-"
      },
      "source": [
        "from sklearn.model_selection import KFold\n",
        "from sklearn.linear_model import Lasso\n",
        "from sklearn.model_selection import GridSearchCV"
      ],
      "execution_count": null,
      "outputs": []
    },
    {
      "cell_type": "code",
      "metadata": {
        "id": "S0wkTbS7oAab"
      },
      "source": [
        "model = Pipeline([\n",
        "    (\"scale\",  StandardScaler(with_mean=False)),\n",
        "    (\"linreg\", Lasso())\n",
        "])\n",
        "grid = {\n",
        "    \"linreg__alpha\": [0.001,0.01, 0.1, 1]\n",
        "    }\n",
        "gs = GridSearchCV(model, param_grid=grid, scoring=\"neg_mean_squared_error\", cv=5)\n",
        "result = gs.fit(X_data, Y_data)\n",
        "lasso_model = result.best_estimator_\n",
        "sel = [\"mean_test_score\",\"params\"]\n",
        "pd.DataFrame(gs.cv_results_).sort_values(\"mean_test_score\", ascending=False)[sel]"
      ],
      "execution_count": null,
      "outputs": []
    },
    {
      "cell_type": "code",
      "metadata": {
        "id": "CReh04i6rOmk"
      },
      "source": [
        ""
      ],
      "execution_count": null,
      "outputs": []
    },
    {
      "cell_type": "code",
      "metadata": {
        "id": "sUAelwVgoHpj"
      },
      "source": [
        "model = Pipeline([\n",
        "    (\"scale\",  StandardScaler(with_mean=False)),\n",
        "    (\"linreg\", Lasso(alpha=0.01))\n",
        "])\n",
        "model.fit(X_train, y_train);\n",
        "print_eval(X_val, y_val, model)"
      ],
      "execution_count": null,
      "outputs": []
    },
    {
      "cell_type": "code",
      "metadata": {
        "id": "efJDrDNR-YyU"
      },
      "source": [
        ""
      ],
      "execution_count": null,
      "outputs": []
    },
    {
      "cell_type": "code",
      "metadata": {
        "id": "L2o4ENEIoSlZ"
      },
      "source": [
        "lasso = pd.Series(model.named_steps[\"linreg\"].coef_, X_data.columns)\n",
        "lasso.sort_values(inplace=True)\n",
        "lasso.head(5)"
      ],
      "execution_count": null,
      "outputs": []
    },
    {
      "cell_type": "code",
      "metadata": {
        "id": "Z_j_lQkOuAjT"
      },
      "source": [
        "lasso.tail(5)"
      ],
      "execution_count": null,
      "outputs": []
    },
    {
      "cell_type": "code",
      "metadata": {
        "id": "RPtLCq71Xz0Y"
      },
      "source": [
        ""
      ],
      "execution_count": null,
      "outputs": []
    },
    {
      "cell_type": "code",
      "metadata": {
        "id": "WW_25btLxy--"
      },
      "source": [
        "from sklearn.linear_model import ElasticNet, Ridge"
      ],
      "execution_count": null,
      "outputs": []
    },
    {
      "cell_type": "code",
      "metadata": {
        "id": "UDK23yt2wsPc"
      },
      "source": [
        "model = Pipeline([\n",
        "    (\"scale\",  StandardScaler(with_mean=False)),\n",
        "    (\"reg\", ElasticNet())\n",
        "])\n",
        "grid = {\n",
        "    \"reg__alpha\": [0.01, 0.1, 1, 10],\n",
        "    \"reg__l1_ratio\": [0.1, 0.5, 1]\n",
        "    }\n",
        "gs = GridSearchCV(model, param_grid=grid, scoring=\"neg_mean_squared_error\", cv=5)\n",
        "gs.fit(X_data, Y_data)\n",
        "sel = [\"mean_test_score\",\"param_reg__alpha\",\t\"param_reg__l1_ratio\"]\n",
        "pd.DataFrame(gs.cv_results_).sort_values(\"mean_test_score\", ascending=False)[sel]"
      ],
      "execution_count": null,
      "outputs": []
    },
    {
      "cell_type": "markdown",
      "metadata": {
        "id": "amFPcxRc0SRc"
      },
      "source": [
        "Grazie alla regressione elastic net che combina insieme le regolarizzazioni L2 e L1 usate in ridge e lasso notiamo che comunque non si riesce a migliore i risultati precedentemente acquisiti"
      ]
    },
    {
      "cell_type": "code",
      "metadata": {
        "id": "1NQg986A5vWO"
      },
      "source": [
        "from sklearn.kernel_ridge import KernelRidge\n"
      ],
      "execution_count": null,
      "outputs": []
    },
    {
      "cell_type": "code",
      "metadata": {
        "id": "h4zfLOLaSXcj"
      },
      "source": [
        "model = Pipeline([\n",
        "    (\"scale\", StandardScaler()),\n",
        "    (\"regr\",  KernelRidge(alpha=0.1, kernel=\"poly\", degree=2))\n",
        "])\n",
        "model.fit(X_train, y_train);\n",
        "print_eval(X_val, y_val, model)"
      ],
      "execution_count": null,
      "outputs": []
    },
    {
      "cell_type": "code",
      "metadata": {
        "id": "ksnfr7OE3AFV"
      },
      "source": [
        "model = Pipeline([\n",
        "    (\"scale\", StandardScaler()),\n",
        "    (\"regr\",  KernelRidge(alpha=0.1, kernel=\"rbf\", gamma=0.001))\n",
        "])\n",
        "ridge_model = model.fit(X_train, y_train);\n",
        "print_eval(X_val, y_val, model)"
      ],
      "execution_count": null,
      "outputs": []
    },
    {
      "cell_type": "code",
      "metadata": {
        "id": "poiRAWnH-fEz"
      },
      "source": [
        ""
      ],
      "execution_count": null,
      "outputs": []
    },
    {
      "cell_type": "markdown",
      "metadata": {
        "id": "oO4acfsWVGwU"
      },
      "source": [
        "Passiamo alle reti neurali per vedere se ci sono eventuali miglioramenti"
      ]
    },
    {
      "cell_type": "code",
      "metadata": {
        "id": "X6tj3LGeWiRq"
      },
      "source": [
        "from sklearn.neural_network import MLPRegressor\n",
        "model = MLPRegressor(\n",
        "    hidden_layer_sizes=[10],\n",
        "    activation=\"relu\",\n",
        "    solver=\"lbfgs\",\n",
        "    random_state=12345,\n",
        "    max_iter=10000\n",
        ")\n",
        "model.fit(X_train, y_train);\n",
        "print_eval(X_val, y_val, model)"
      ],
      "execution_count": null,
      "outputs": []
    },
    {
      "cell_type": "code",
      "metadata": {
        "id": "8i2My70c-k7m"
      },
      "source": [
        ""
      ],
      "execution_count": null,
      "outputs": []
    },
    {
      "cell_type": "code",
      "metadata": {
        "id": "RFFiWQeg12pk"
      },
      "source": [
        "from tensorflow.keras.models import Sequential\n",
        "from tensorflow.keras.layers import Dense"
      ],
      "execution_count": null,
      "outputs": []
    },
    {
      "cell_type": "code",
      "metadata": {
        "id": "kHS1sSvF1zB6"
      },
      "source": [
        "model = Sequential([\n",
        "    Dense(128, activation=\"relu\", input_dim=X_train.shape[1]),\n",
        "    \n",
        "    Dense(32, activation=\"relu\"),\n",
        "    Dense(1)\n",
        "])\n",
        "model.compile(optimizer=\"adam\", loss=\"mean_squared_error\")\n"
      ],
      "execution_count": null,
      "outputs": []
    },
    {
      "cell_type": "code",
      "metadata": {
        "id": "u7J2IKNx1_pg"
      },
      "source": [
        "history = model.fit(X_train, y_train, batch_size=100, epochs=5)\n"
      ],
      "execution_count": null,
      "outputs": []
    },
    {
      "cell_type": "code",
      "metadata": {
        "id": "rJMH-aaIiVJc"
      },
      "source": [
        "model.evaluate(X_val, y_val)"
      ],
      "execution_count": null,
      "outputs": []
    },
    {
      "cell_type": "code",
      "metadata": {
        "id": "O0FNL17tgyzv"
      },
      "source": [
        "plt.plot(history.history[\"loss\"], \"ro-\")\n",
        "plt.xlabel(\"Epoche\")\n",
        "plt.ylabel(\"MSE\");"
      ],
      "execution_count": null,
      "outputs": []
    },
    {
      "cell_type": "code",
      "metadata": {
        "id": "AKD5AIgS5TR2"
      },
      "source": [
        "from tensorflow.keras.regularizers import l2\n",
        "model = Sequential([\n",
        "    Dense(128, activation=\"relu\", kernel_regularizer=l2(0.001), input_dim=X_train.shape[1]),\n",
        "    Dense(1)\n",
        "])\n",
        "model.compile(optimizer=\"adam\", loss=\"mean_squared_error\")"
      ],
      "execution_count": null,
      "outputs": []
    },
    {
      "cell_type": "code",
      "metadata": {
        "id": "-M2Gowfh5W7u"
      },
      "source": [
        "model.fit(X_train, y_train, batch_size=100, epochs=10)"
      ],
      "execution_count": null,
      "outputs": []
    },
    {
      "cell_type": "code",
      "metadata": {
        "id": "4WV4O4oXeUdg"
      },
      "source": [
        ""
      ],
      "execution_count": null,
      "outputs": []
    },
    {
      "cell_type": "code",
      "metadata": {
        "id": "TM4KfCcYeUYq"
      },
      "source": [
        ""
      ],
      "execution_count": null,
      "outputs": []
    },
    {
      "cell_type": "code",
      "metadata": {
        "id": "xSI7whMoeUWl"
      },
      "source": [
        "from sklearn.tree import DecisionTreeRegressor\n",
        "model = DecisionTreeRegressor(max_depth=2, random_state=42)\n",
        "model.fit(X_train, y_train);\n",
        "print_eval(X_val, y_val, model)"
      ],
      "execution_count": null,
      "outputs": []
    },
    {
      "cell_type": "code",
      "metadata": {
        "id": "tQG8iK_XenJJ"
      },
      "source": [
        "model = DecisionTreeRegressor(min_samples_split=0.1, random_state=42)\n",
        "model.fit(X_train, y_train);\n",
        "print_eval(X_val, y_val, model)"
      ],
      "execution_count": null,
      "outputs": []
    },
    {
      "cell_type": "code",
      "metadata": {
        "id": "bzrpTSy2eNrk"
      },
      "source": [
        "model = DecisionTreeRegressor(random_state=42)\n",
        "grid = {\n",
        "    \"max_depth\": [3, 5, 10, 100],\n",
        "    \"min_samples_split\": [10,2, 0.02, 0.05, 0.1]\n",
        "}\n",
        "kf = KFold(3, shuffle=True, random_state=42)\n",
        "gs = GridSearchCV(model, grid, cv=kf)\n",
        "result = gs.fit(X_train, y_train)\n",
        "best_model = result.best_estimator_\n",
        "print_eval(X_val, y_val, best_model)"
      ],
      "execution_count": null,
      "outputs": []
    },
    {
      "cell_type": "code",
      "metadata": {
        "id": "k2eb5t8AtnRd"
      },
      "source": [
        "import xgboost as xgb\n",
        "from sklearn.preprocessing import PolynomialFeatures\n",
        "std_xgb = Pipeline([\n",
        "   \n",
        "    ('std', StandardScaler()),\n",
        "    \n",
        "    ('xgb', xgb.XGBRegressor(objective ='reg:squarederror'))\n",
        "])\n",
        "\n",
        "parameters = {\n",
        "    'xgb__eta': [ 0.01],\n",
        "   \n",
        "    'xgb__max_depth': [6,10],\n",
        "\n",
        "}\n",
        "\n",
        "xgb_gs = GridSearchCV(std_xgb, parameters, cv=3, n_jobs=-1, return_train_score=True, scoring='neg_mean_squared_error')\n",
        "result = xgb_gs.fit(X_train, y_train)\n",
        "best_model = result.best_estimator_\n",
        "print_eval(X_val, y_val, best_model)\n"
      ],
      "execution_count": null,
      "outputs": []
    },
    {
      "cell_type": "markdown",
      "metadata": {
        "id": "txYcxbUb2u0N"
      },
      "source": [
        "# Valutazione modelli"
      ]
    },
    {
      "cell_type": "markdown",
      "metadata": {
        "id": "po-SLlug21Bb"
      },
      "source": [
        "Usiamo la **Root Meen Square Error** -- sqrt( mse( y, y_pred) -- per confrontare i modelli migliori tra loro, in sintonia con il criterio di valutazione utilizzato su Kaggle."
      ]
    },
    {
      "cell_type": "code",
      "metadata": {
        "id": "-Eb7yyyOefZX"
      },
      "source": [
        "from scipy import stats\n",
        "from math import sqrt"
      ],
      "execution_count": null,
      "outputs": []
    },
    {
      "cell_type": "code",
      "metadata": {
        "id": "pE26f6rL3624"
      },
      "source": [
        "\n",
        "def root_mse(mse_model):\n",
        "  return sqrt(mse_model)\n",
        "\n"
      ],
      "execution_count": null,
      "outputs": []
    },
    {
      "cell_type": "code",
      "metadata": {
        "id": "JRBxT4vPZutu"
      },
      "source": [
        "def confidence_error(r2):\n",
        "  n = X_val.shape[0]\n",
        "  f = X_val.shape[1]\n",
        "  t_value = stats.t.ppf(1-0.025, n)\n",
        "  dev = (4*r2*((1-r2)**2)*((n-f-1)**2))/(((n**2)-1)*(n+3))\n",
        "  sqrt_dev = sqrt(dev)\n",
        "  min = r2- (t_value*sqrt_dev)\n",
        "  max = r2+ (t_value*sqrt_dev)\n",
        "  return min,max\n",
        "\n"
      ],
      "execution_count": null,
      "outputs": []
    },
    {
      "cell_type": "code",
      "metadata": {
        "id": "kv9USdh16IV7"
      },
      "source": [
        "from prettytable import PrettyTable"
      ],
      "execution_count": null,
      "outputs": []
    },
    {
      "cell_type": "markdown",
      "metadata": {
        "id": "k149sLltA-8p"
      },
      "source": [
        "Aggiungiamo la Root Meen Square Error per confrontare i modelli migliori tra loro, in sintonia con il criterio di valutazione  utilizzato dalla suddetta competizione su Kaggle."
      ]
    },
    {
      "cell_type": "code",
      "metadata": {
        "id": "4OXLiSm06JI_"
      },
      "source": [
        "x = PrettyTable()\n",
        "y = PrettyTable()\n",
        "\n",
        "x.field_names = [\"Errore\",\"Regressione lineare\",\"Regressione lasso\", \"kernel ridge rbf\", 'MLPRegressor']\n",
        "\n",
        "\n",
        "x.add_row(['RMSE',root_mse(2.8846),root_mse(2.848063),root_mse(2.7447),root_mse(2.728464) ])\n",
        "x.add_row(['MAE',1.1260207,1.1073617,1.092814,1.07795 ])\n",
        "x.add_row(['RE',0.086118 , 0.085253, 0.0838466 ,0.08655 ])\n",
        "\n",
        "min_linear,max_linear = confidence_error(0.44675)\n",
        "min_lasso,max_lasso = confidence_error(0.45195)\n",
        "min_rbf,max_rbf = confidence_error(0.47359)\n",
        "min_MLPRegressor,max_MLPRegressor = confidence_error(0.47670)\n",
        "\n",
        "y.field_names = [\"R^2 Confidence\",\"Min\",\"Max\"]\n",
        "\n",
        "y.add_row(['Regressione lineare',min_linear,max_linear ])\n",
        "y.add_row(['Regressione lasso',min_lasso, max_lasso ])\n",
        "y.add_row(['kernel ridge rbf',min_rbf, max_rbf ])\n",
        "y.add_row(['MLPRegressor',min_MLPRegressor, max_MLPRegressor ])\n",
        "\n",
        "\n",
        "print(x)\n",
        "print(y)"
      ],
      "execution_count": null,
      "outputs": []
    },
    {
      "cell_type": "markdown",
      "metadata": {
        "id": "oAqtvDFCUwv-"
      },
      "source": [
        ""
      ]
    },
    {
      "cell_type": "code",
      "metadata": {
        "id": "KJ210OMPth4_"
      },
      "source": [
        "def model_compare(mse_1, mse_2):\n",
        "    d = np.abs(mse_1 - mse_2)\n",
        "    variance = ((mse_1 * (1 - mse_1)) / len(X_val)) + ((mse_2 * (1 - mse_2)) / len(X_val))\n",
        "    d_min = d - (1.96 * sqrt(variance))\n",
        "    d_max = d + (1.96 * sqrt(variance))\n",
        "    return d_min, d_max"
      ],
      "execution_count": null,
      "outputs": []
    },
    {
      "cell_type": "markdown",
      "metadata": {
        "id": "zluiu5TPueY7"
      },
      "source": [
        "**Regressione Lineare vs Regressione Lasso**"
      ]
    },
    {
      "cell_type": "code",
      "metadata": {
        "id": "8YkilVPduNsv"
      },
      "source": [
        "print('Interval {}'.format(np.round(model_compare(0.086118 , 0.085253 ), 4)))"
      ],
      "execution_count": null,
      "outputs": []
    },
    {
      "cell_type": "markdown",
      "metadata": {
        "id": "ZAHVOv_xum_B"
      },
      "source": [
        "**RBF vs MLPRegressor**"
      ]
    },
    {
      "cell_type": "code",
      "metadata": {
        "id": "R6Kst7Byuop5"
      },
      "source": [
        "print('Interval {}'.format(np.round(model_compare(0.0838466, 0.08655), 4)))"
      ],
      "execution_count": null,
      "outputs": []
    },
    {
      "cell_type": "code",
      "metadata": {
        "id": "OH5dQURHB-_k"
      },
      "source": [
        "from sklearn.dummy import DummyRegressor\n"
      ],
      "execution_count": null,
      "outputs": []
    },
    {
      "cell_type": "code",
      "metadata": {
        "id": "gG57F9PyCEmN"
      },
      "source": [
        "dummy_regr = DummyRegressor(strategy=\"median\")\n",
        "dummy_regr.fit(X_train, y_train)\n",
        "print_eval(X_val, y_val, dummy_regr)"
      ],
      "execution_count": null,
      "outputs": []
    },
    {
      "cell_type": "markdown",
      "metadata": {
        "id": "yuVjGe7nCn-5"
      },
      "source": [
        "**DummyRegressor vs RBG**"
      ]
    },
    {
      "cell_type": "code",
      "metadata": {
        "id": "hGsc7__0E2Lf"
      },
      "source": [
        "t_value = stats.t.ppf(1-0.005, X_train.shape[0])\n",
        "t_value"
      ],
      "execution_count": null,
      "outputs": []
    },
    {
      "cell_type": "code",
      "metadata": {
        "id": "AmW1oWgXEhrE"
      },
      "source": [
        "def dummy_compare(r2_rbf, r2_dummy):\n",
        "    t_value = stats.t.ppf(1-0.005, X_train.shape[0])\n",
        "    d = np.abs(r2_rbf - ms)\n",
        "    variance = ((r2_rbf * (1 - r2_rbf)) / len(X_val)) + ((r2_dummy * (1 - r2_dummy)) / len(X_val))\n",
        "    d_min = d - (t_value * sqrt(variance))\n",
        "    d_max = d + (t_value * sqrt(variance))\n",
        "    return d_min, d_max"
      ],
      "execution_count": null,
      "outputs": []
    },
    {
      "cell_type": "code",
      "metadata": {
        "id": "gnC9uSYWC61V"
      },
      "source": [
        "print('Interval {}'.format(np.round(dummy_compare(0.47359, -0.02382), 4)))"
      ],
      "execution_count": null,
      "outputs": []
    },
    {
      "cell_type": "markdown",
      "metadata": {
        "id": "9yAz623zDdy6"
      },
      "source": [
        "La differenza "
      ]
    }
  ]
}