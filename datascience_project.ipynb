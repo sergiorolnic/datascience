{
  "nbformat": 4,
  "nbformat_minor": 0,
  "metadata": {
    "colab": {
      "name": "datascience-project.ipynb",
      "provenance": [],
      "collapsed_sections": [],
      "toc_visible": true,
      "authorship_tag": "ABX9TyN/kIEWVyhZmXy/L2qZE6id",
      "include_colab_link": true
    },
    "kernelspec": {
      "name": "python3",
      "display_name": "Python 3"
    },
    "language_info": {
      "name": "python"
    }
  },
  "cells": [
    {
      "cell_type": "markdown",
      "metadata": {
        "id": "view-in-github",
        "colab_type": "text"
      },
      "source": [
        "<a href=\"https://colab.research.google.com/github/sergiorolnic/datascience/blob/main/datascience_project.ipynb\" target=\"_parent\"><img src=\"https://colab.research.google.com/assets/colab-badge.svg\" alt=\"Open In Colab\"/></a>"
      ]
    },
    {
      "cell_type": "markdown",
      "metadata": {
        "id": "ePL7s6Rrx6Qi"
      },
      "source": [
        "# Box Office Prediction\n",
        "**Programmazione di Applicazioni Data Intensive**\n",
        "\n",
        "Ingegneria e Scienze Informatiche 2021\n",
        "\n",
        "Sergiu Gabriel Rolnic\n",
        "\n",
        "Il seguente progetto riguarda l'analisi  dei dati raccolti dal sito [The Movie Database](https://www.themoviedb.org/). Lo scopo finale sarà quello di prevedere gli incassi di un film avendo a disposizione solo dati esistenti prima della effettiva uscita nelle sale.\n"
      ]
    },
    {
      "cell_type": "markdown",
      "metadata": {
        "id": "UZJcfexXmC59"
      },
      "source": [
        "# **Analisi dei Dati**"
      ]
    },
    {
      "cell_type": "markdown",
      "metadata": {
        "id": "gsO8Vzzz5l_J"
      },
      "source": [
        "Importazione del dataset e delle librerie utili per la sua analisi"
      ]
    },
    {
      "cell_type": "code",
      "metadata": {
        "id": "GmOfJ-UC3d3X"
      },
      "source": [
        "import os.path\n",
        "import numpy as np\n",
        "import pandas as pd\n",
        "import matplotlib.pyplot as plt\n",
        "%matplotlib inline"
      ],
      "execution_count": 110,
      "outputs": []
    },
    {
      "cell_type": "code",
      "metadata": {
        "id": "_dMGHS4w3wL7"
      },
      "source": [
        "if not os.path.exists(\"train.csv\"):\n",
        "    from urllib.request import urlretrieve\n",
        "    urlretrieve(\"https://raw.githubusercontent.com/sergiorolnic/datascience/main/train.csv\", \"train.csv\")\n",
        "\n",
        "data = pd.read_csv(\"train.csv\")    "
      ],
      "execution_count": 111,
      "outputs": []
    },
    {
      "cell_type": "code",
      "metadata": {
        "colab": {
          "base_uri": "https://localhost:8080/"
        },
        "id": "doziER_xC46N",
        "outputId": "479717f0-131d-4c52-f41e-d3449270e344"
      },
      "source": [
        "data.shape"
      ],
      "execution_count": 112,
      "outputs": [
        {
          "output_type": "execute_result",
          "data": {
            "text/plain": [
              "(3000, 23)"
            ]
          },
          "metadata": {
            "tags": []
          },
          "execution_count": 112
        }
      ]
    },
    {
      "cell_type": "code",
      "metadata": {
        "colab": {
          "base_uri": "https://localhost:8080/",
          "height": 214
        },
        "id": "vCahw2vvmj_r",
        "outputId": "5dd46126-f4f5-4538-f1ec-e396de989075"
      },
      "source": [
        "data.head(1)"
      ],
      "execution_count": 113,
      "outputs": [
        {
          "output_type": "execute_result",
          "data": {
            "text/html": [
              "<div>\n",
              "<style scoped>\n",
              "    .dataframe tbody tr th:only-of-type {\n",
              "        vertical-align: middle;\n",
              "    }\n",
              "\n",
              "    .dataframe tbody tr th {\n",
              "        vertical-align: top;\n",
              "    }\n",
              "\n",
              "    .dataframe thead th {\n",
              "        text-align: right;\n",
              "    }\n",
              "</style>\n",
              "<table border=\"1\" class=\"dataframe\">\n",
              "  <thead>\n",
              "    <tr style=\"text-align: right;\">\n",
              "      <th></th>\n",
              "      <th>id</th>\n",
              "      <th>belongs_to_collection</th>\n",
              "      <th>budget</th>\n",
              "      <th>genres</th>\n",
              "      <th>homepage</th>\n",
              "      <th>imdb_id</th>\n",
              "      <th>original_language</th>\n",
              "      <th>original_title</th>\n",
              "      <th>overview</th>\n",
              "      <th>popularity</th>\n",
              "      <th>poster_path</th>\n",
              "      <th>production_companies</th>\n",
              "      <th>production_countries</th>\n",
              "      <th>release_date</th>\n",
              "      <th>runtime</th>\n",
              "      <th>spoken_languages</th>\n",
              "      <th>status</th>\n",
              "      <th>tagline</th>\n",
              "      <th>title</th>\n",
              "      <th>Keywords</th>\n",
              "      <th>cast</th>\n",
              "      <th>crew</th>\n",
              "      <th>revenue</th>\n",
              "    </tr>\n",
              "  </thead>\n",
              "  <tbody>\n",
              "    <tr>\n",
              "      <th>0</th>\n",
              "      <td>1</td>\n",
              "      <td>[{'id': 313576, 'name': 'Hot Tub Time Machine ...</td>\n",
              "      <td>14000000</td>\n",
              "      <td>[{'id': 35, 'name': 'Comedy'}]</td>\n",
              "      <td>NaN</td>\n",
              "      <td>tt2637294</td>\n",
              "      <td>en</td>\n",
              "      <td>Hot Tub Time Machine 2</td>\n",
              "      <td>When Lou, who has become the \"father of the In...</td>\n",
              "      <td>6.575393</td>\n",
              "      <td>/tQtWuwvMf0hCc2QR2tkolwl7c3c.jpg</td>\n",
              "      <td>[{'name': 'Paramount Pictures', 'id': 4}, {'na...</td>\n",
              "      <td>[{'iso_3166_1': 'US', 'name': 'United States o...</td>\n",
              "      <td>2/20/15</td>\n",
              "      <td>93.0</td>\n",
              "      <td>[{'iso_639_1': 'en', 'name': 'English'}]</td>\n",
              "      <td>Released</td>\n",
              "      <td>The Laws of Space and Time are About to be Vio...</td>\n",
              "      <td>Hot Tub Time Machine 2</td>\n",
              "      <td>[{'id': 4379, 'name': 'time travel'}, {'id': 9...</td>\n",
              "      <td>[{'cast_id': 4, 'character': 'Lou', 'credit_id...</td>\n",
              "      <td>[{'credit_id': '59ac067c92514107af02c8c8', 'de...</td>\n",
              "      <td>12314651</td>\n",
              "    </tr>\n",
              "  </tbody>\n",
              "</table>\n",
              "</div>"
            ],
            "text/plain": [
              "   id  ...   revenue\n",
              "0   1  ...  12314651\n",
              "\n",
              "[1 rows x 23 columns]"
            ]
          },
          "metadata": {
            "tags": []
          },
          "execution_count": 113
        }
      ]
    },
    {
      "cell_type": "code",
      "metadata": {
        "colab": {
          "base_uri": "https://localhost:8080/",
          "height": 181
        },
        "id": "cGNZ9bCamtZU",
        "outputId": "5df965a9-a17c-43de-b8ae-aca38fb9b2f7"
      },
      "source": [
        "data.tail(1)"
      ],
      "execution_count": 114,
      "outputs": [
        {
          "output_type": "execute_result",
          "data": {
            "text/html": [
              "<div>\n",
              "<style scoped>\n",
              "    .dataframe tbody tr th:only-of-type {\n",
              "        vertical-align: middle;\n",
              "    }\n",
              "\n",
              "    .dataframe tbody tr th {\n",
              "        vertical-align: top;\n",
              "    }\n",
              "\n",
              "    .dataframe thead th {\n",
              "        text-align: right;\n",
              "    }\n",
              "</style>\n",
              "<table border=\"1\" class=\"dataframe\">\n",
              "  <thead>\n",
              "    <tr style=\"text-align: right;\">\n",
              "      <th></th>\n",
              "      <th>id</th>\n",
              "      <th>belongs_to_collection</th>\n",
              "      <th>budget</th>\n",
              "      <th>genres</th>\n",
              "      <th>homepage</th>\n",
              "      <th>imdb_id</th>\n",
              "      <th>original_language</th>\n",
              "      <th>original_title</th>\n",
              "      <th>overview</th>\n",
              "      <th>popularity</th>\n",
              "      <th>poster_path</th>\n",
              "      <th>production_companies</th>\n",
              "      <th>production_countries</th>\n",
              "      <th>release_date</th>\n",
              "      <th>runtime</th>\n",
              "      <th>spoken_languages</th>\n",
              "      <th>status</th>\n",
              "      <th>tagline</th>\n",
              "      <th>title</th>\n",
              "      <th>Keywords</th>\n",
              "      <th>cast</th>\n",
              "      <th>crew</th>\n",
              "      <th>revenue</th>\n",
              "    </tr>\n",
              "  </thead>\n",
              "  <tbody>\n",
              "    <tr>\n",
              "      <th>2999</th>\n",
              "      <td>3000</td>\n",
              "      <td>NaN</td>\n",
              "      <td>35000000</td>\n",
              "      <td>[{'id': 53, 'name': 'Thriller'}, {'id': 28, 'n...</td>\n",
              "      <td>http://www.abductionthefilm.com/</td>\n",
              "      <td>tt1600195</td>\n",
              "      <td>en</td>\n",
              "      <td>Abduction</td>\n",
              "      <td>A young man sets out to uncover the truth abou...</td>\n",
              "      <td>10.512109</td>\n",
              "      <td>/cUT6NQP5LAJpmUoStGtXmvNt4zA.jpg</td>\n",
              "      <td>[{'name': 'Lions Gate Films', 'id': 35}, {'nam...</td>\n",
              "      <td>[{'iso_3166_1': 'US', 'name': 'United States o...</td>\n",
              "      <td>9/22/11</td>\n",
              "      <td>106.0</td>\n",
              "      <td>[{'iso_639_1': 'en', 'name': 'English'}]</td>\n",
              "      <td>Released</td>\n",
              "      <td>They stole his life. He's taking it back.</td>\n",
              "      <td>Abduction</td>\n",
              "      <td>[{'id': 591, 'name': 'cia'}, {'id': 822, 'name...</td>\n",
              "      <td>[{'cast_id': 2, 'character': 'Nathan Harper', ...</td>\n",
              "      <td>[{'credit_id': '5391990d0e0a260fb5001629', 'de...</td>\n",
              "      <td>82087155</td>\n",
              "    </tr>\n",
              "  </tbody>\n",
              "</table>\n",
              "</div>"
            ],
            "text/plain": [
              "        id  ...   revenue\n",
              "2999  3000  ...  82087155\n",
              "\n",
              "[1 rows x 23 columns]"
            ]
          },
          "metadata": {
            "tags": []
          },
          "execution_count": 114
        }
      ]
    },
    {
      "cell_type": "markdown",
      "metadata": {
        "id": "g1X1uJo596SJ"
      },
      "source": [
        "Notiamo la presenza di feature particolari: dizionari con una o piu' entrate, valori numerici su scale diverse, stringhe di varia natura. La challenge principale sarà quella di riuscire ad estrarre delle informazione utili da piu' variabili possibili.   "
      ]
    },
    {
      "cell_type": "markdown",
      "metadata": {
        "id": "N1eE6E8_7Gfe"
      },
      "source": [
        "La colonna \"id\" può essere usata come indice del nostro dataframe"
      ]
    },
    {
      "cell_type": "code",
      "metadata": {
        "id": "3AR9gIPX7T5g"
      },
      "source": [
        "data = pd.read_csv(\"train.csv\", index_col=0)  "
      ],
      "execution_count": 115,
      "outputs": []
    },
    {
      "cell_type": "code",
      "metadata": {
        "colab": {
          "base_uri": "https://localhost:8080/",
          "height": 244
        },
        "id": "dRoQFejV93hg",
        "outputId": "6eb79b34-f402-4429-f257-d2827827e849"
      },
      "source": [
        "data.head(1)"
      ],
      "execution_count": 116,
      "outputs": [
        {
          "output_type": "execute_result",
          "data": {
            "text/html": [
              "<div>\n",
              "<style scoped>\n",
              "    .dataframe tbody tr th:only-of-type {\n",
              "        vertical-align: middle;\n",
              "    }\n",
              "\n",
              "    .dataframe tbody tr th {\n",
              "        vertical-align: top;\n",
              "    }\n",
              "\n",
              "    .dataframe thead th {\n",
              "        text-align: right;\n",
              "    }\n",
              "</style>\n",
              "<table border=\"1\" class=\"dataframe\">\n",
              "  <thead>\n",
              "    <tr style=\"text-align: right;\">\n",
              "      <th></th>\n",
              "      <th>belongs_to_collection</th>\n",
              "      <th>budget</th>\n",
              "      <th>genres</th>\n",
              "      <th>homepage</th>\n",
              "      <th>imdb_id</th>\n",
              "      <th>original_language</th>\n",
              "      <th>original_title</th>\n",
              "      <th>overview</th>\n",
              "      <th>popularity</th>\n",
              "      <th>poster_path</th>\n",
              "      <th>production_companies</th>\n",
              "      <th>production_countries</th>\n",
              "      <th>release_date</th>\n",
              "      <th>runtime</th>\n",
              "      <th>spoken_languages</th>\n",
              "      <th>status</th>\n",
              "      <th>tagline</th>\n",
              "      <th>title</th>\n",
              "      <th>Keywords</th>\n",
              "      <th>cast</th>\n",
              "      <th>crew</th>\n",
              "      <th>revenue</th>\n",
              "    </tr>\n",
              "    <tr>\n",
              "      <th>id</th>\n",
              "      <th></th>\n",
              "      <th></th>\n",
              "      <th></th>\n",
              "      <th></th>\n",
              "      <th></th>\n",
              "      <th></th>\n",
              "      <th></th>\n",
              "      <th></th>\n",
              "      <th></th>\n",
              "      <th></th>\n",
              "      <th></th>\n",
              "      <th></th>\n",
              "      <th></th>\n",
              "      <th></th>\n",
              "      <th></th>\n",
              "      <th></th>\n",
              "      <th></th>\n",
              "      <th></th>\n",
              "      <th></th>\n",
              "      <th></th>\n",
              "      <th></th>\n",
              "      <th></th>\n",
              "    </tr>\n",
              "  </thead>\n",
              "  <tbody>\n",
              "    <tr>\n",
              "      <th>1</th>\n",
              "      <td>[{'id': 313576, 'name': 'Hot Tub Time Machine ...</td>\n",
              "      <td>14000000</td>\n",
              "      <td>[{'id': 35, 'name': 'Comedy'}]</td>\n",
              "      <td>NaN</td>\n",
              "      <td>tt2637294</td>\n",
              "      <td>en</td>\n",
              "      <td>Hot Tub Time Machine 2</td>\n",
              "      <td>When Lou, who has become the \"father of the In...</td>\n",
              "      <td>6.575393</td>\n",
              "      <td>/tQtWuwvMf0hCc2QR2tkolwl7c3c.jpg</td>\n",
              "      <td>[{'name': 'Paramount Pictures', 'id': 4}, {'na...</td>\n",
              "      <td>[{'iso_3166_1': 'US', 'name': 'United States o...</td>\n",
              "      <td>2/20/15</td>\n",
              "      <td>93.0</td>\n",
              "      <td>[{'iso_639_1': 'en', 'name': 'English'}]</td>\n",
              "      <td>Released</td>\n",
              "      <td>The Laws of Space and Time are About to be Vio...</td>\n",
              "      <td>Hot Tub Time Machine 2</td>\n",
              "      <td>[{'id': 4379, 'name': 'time travel'}, {'id': 9...</td>\n",
              "      <td>[{'cast_id': 4, 'character': 'Lou', 'credit_id...</td>\n",
              "      <td>[{'credit_id': '59ac067c92514107af02c8c8', 'de...</td>\n",
              "      <td>12314651</td>\n",
              "    </tr>\n",
              "  </tbody>\n",
              "</table>\n",
              "</div>"
            ],
            "text/plain": [
              "                                belongs_to_collection  ...   revenue\n",
              "id                                                     ...          \n",
              "1   [{'id': 313576, 'name': 'Hot Tub Time Machine ...  ...  12314651\n",
              "\n",
              "[1 rows x 22 columns]"
            ]
          },
          "metadata": {
            "tags": []
          },
          "execution_count": 116
        }
      ]
    },
    {
      "cell_type": "markdown",
      "metadata": {
        "id": "NPhp8Ubnm9Eb"
      },
      "source": [
        "## Gestione Features"
      ]
    },
    {
      "cell_type": "markdown",
      "metadata": {
        "id": "85KDEc5EodZQ"
      },
      "source": [
        "\n",
        "\n",
        "*   *belongs_to_collection*: appartenenza ad una serie cinematografica\n",
        "*   *budget*: costo di produzione\n",
        "*   *genres*: generi\n",
        "*   *homepage*: link al sito web\n",
        "\n",
        "\n",
        "*   *imdb_id*: id imbd\n",
        "\n",
        "*   *original_language*: lingua originale\n",
        "\n",
        "*   *original_title*: titolo originale\n",
        "\n",
        "*   *overview*: plot\n",
        "*   *popularity*: popolarità\n",
        "*   *poster_path*: path della locandina ufficiale\n",
        "*   *production_companies*: compagnia di produzione\n",
        "*   *production_countries*: paese di produzione\n",
        "*   *release_date*: data di uscita\n",
        "*   *runtime*: durata\n",
        "*   *spoken_languages*: lingua del film\n",
        "*   *status*: stato del rilascio\n",
        "*   *tagline*: slogan film\n",
        "*   *title*: titolo\n",
        "*   *Keywords*: parole chiavi\n",
        "*   *cast*: cast\n",
        "*   *crew*: trop\n",
        "*   *revenue*: incasso del film --> variabile da predire"
      ]
    },
    {
      "cell_type": "code",
      "metadata": {
        "id": "9DI5y4Ix2HFu",
        "colab": {
          "base_uri": "https://localhost:8080/"
        },
        "outputId": "793019c5-ef8e-480e-9527-d3108d408df1"
      },
      "source": [
        "data.info(memory_usage=\"deep\")"
      ],
      "execution_count": 117,
      "outputs": [
        {
          "output_type": "stream",
          "text": [
            "<class 'pandas.core.frame.DataFrame'>\n",
            "Int64Index: 3000 entries, 1 to 3000\n",
            "Data columns (total 22 columns):\n",
            " #   Column                 Non-Null Count  Dtype  \n",
            "---  ------                 --------------  -----  \n",
            " 0   belongs_to_collection  604 non-null    object \n",
            " 1   budget                 3000 non-null   int64  \n",
            " 2   genres                 2993 non-null   object \n",
            " 3   homepage               946 non-null    object \n",
            " 4   imdb_id                3000 non-null   object \n",
            " 5   original_language      3000 non-null   object \n",
            " 6   original_title         3000 non-null   object \n",
            " 7   overview               2992 non-null   object \n",
            " 8   popularity             3000 non-null   float64\n",
            " 9   poster_path            2999 non-null   object \n",
            " 10  production_companies   2844 non-null   object \n",
            " 11  production_countries   2945 non-null   object \n",
            " 12  release_date           3000 non-null   object \n",
            " 13  runtime                2998 non-null   float64\n",
            " 14  spoken_languages       2980 non-null   object \n",
            " 15  status                 3000 non-null   object \n",
            " 16  tagline                2403 non-null   object \n",
            " 17  title                  3000 non-null   object \n",
            " 18  Keywords               2724 non-null   object \n",
            " 19  cast                   2987 non-null   object \n",
            " 20  crew                   2984 non-null   object \n",
            " 21  revenue                3000 non-null   int64  \n",
            "dtypes: float64(2), int64(2), object(18)\n",
            "memory usage: 38.5 MB\n"
          ],
          "name": "stdout"
        }
      ]
    },
    {
      "cell_type": "code",
      "metadata": {
        "id": "4i3vhWqHhmcn",
        "outputId": "75be9013-2d58-4b5f-bbe7-e3a695e1feea",
        "colab": {
          "base_uri": "https://localhost:8080/",
          "height": 284
        }
      },
      "source": [
        "data.describe()"
      ],
      "execution_count": 118,
      "outputs": [
        {
          "output_type": "execute_result",
          "data": {
            "text/html": [
              "<div>\n",
              "<style scoped>\n",
              "    .dataframe tbody tr th:only-of-type {\n",
              "        vertical-align: middle;\n",
              "    }\n",
              "\n",
              "    .dataframe tbody tr th {\n",
              "        vertical-align: top;\n",
              "    }\n",
              "\n",
              "    .dataframe thead th {\n",
              "        text-align: right;\n",
              "    }\n",
              "</style>\n",
              "<table border=\"1\" class=\"dataframe\">\n",
              "  <thead>\n",
              "    <tr style=\"text-align: right;\">\n",
              "      <th></th>\n",
              "      <th>budget</th>\n",
              "      <th>popularity</th>\n",
              "      <th>runtime</th>\n",
              "      <th>revenue</th>\n",
              "    </tr>\n",
              "  </thead>\n",
              "  <tbody>\n",
              "    <tr>\n",
              "      <th>count</th>\n",
              "      <td>3.000000e+03</td>\n",
              "      <td>3000.000000</td>\n",
              "      <td>2998.000000</td>\n",
              "      <td>3.000000e+03</td>\n",
              "    </tr>\n",
              "    <tr>\n",
              "      <th>mean</th>\n",
              "      <td>2.253133e+07</td>\n",
              "      <td>8.463274</td>\n",
              "      <td>107.856571</td>\n",
              "      <td>6.672585e+07</td>\n",
              "    </tr>\n",
              "    <tr>\n",
              "      <th>std</th>\n",
              "      <td>3.702609e+07</td>\n",
              "      <td>12.104000</td>\n",
              "      <td>22.086434</td>\n",
              "      <td>1.375323e+08</td>\n",
              "    </tr>\n",
              "    <tr>\n",
              "      <th>min</th>\n",
              "      <td>0.000000e+00</td>\n",
              "      <td>0.000001</td>\n",
              "      <td>0.000000</td>\n",
              "      <td>1.000000e+00</td>\n",
              "    </tr>\n",
              "    <tr>\n",
              "      <th>25%</th>\n",
              "      <td>0.000000e+00</td>\n",
              "      <td>4.018053</td>\n",
              "      <td>94.000000</td>\n",
              "      <td>2.379808e+06</td>\n",
              "    </tr>\n",
              "    <tr>\n",
              "      <th>50%</th>\n",
              "      <td>8.000000e+06</td>\n",
              "      <td>7.374861</td>\n",
              "      <td>104.000000</td>\n",
              "      <td>1.680707e+07</td>\n",
              "    </tr>\n",
              "    <tr>\n",
              "      <th>75%</th>\n",
              "      <td>2.900000e+07</td>\n",
              "      <td>10.890983</td>\n",
              "      <td>118.000000</td>\n",
              "      <td>6.891920e+07</td>\n",
              "    </tr>\n",
              "    <tr>\n",
              "      <th>max</th>\n",
              "      <td>3.800000e+08</td>\n",
              "      <td>294.337037</td>\n",
              "      <td>338.000000</td>\n",
              "      <td>1.519558e+09</td>\n",
              "    </tr>\n",
              "  </tbody>\n",
              "</table>\n",
              "</div>"
            ],
            "text/plain": [
              "             budget   popularity      runtime       revenue\n",
              "count  3.000000e+03  3000.000000  2998.000000  3.000000e+03\n",
              "mean   2.253133e+07     8.463274   107.856571  6.672585e+07\n",
              "std    3.702609e+07    12.104000    22.086434  1.375323e+08\n",
              "min    0.000000e+00     0.000001     0.000000  1.000000e+00\n",
              "25%    0.000000e+00     4.018053    94.000000  2.379808e+06\n",
              "50%    8.000000e+06     7.374861   104.000000  1.680707e+07\n",
              "75%    2.900000e+07    10.890983   118.000000  6.891920e+07\n",
              "max    3.800000e+08   294.337037   338.000000  1.519558e+09"
            ]
          },
          "metadata": {
            "tags": []
          },
          "execution_count": 118
        }
      ]
    },
    {
      "cell_type": "markdown",
      "metadata": {
        "id": "UqtDnq0x9qBz"
      },
      "source": [
        "Verifichiamo la presenza di valori null\n"
      ]
    },
    {
      "cell_type": "code",
      "metadata": {
        "id": "QZraRfXXRoya",
        "colab": {
          "base_uri": "https://localhost:8080/"
        },
        "outputId": "b44f67cf-7af8-4b08-d54e-d0cdd08c650d"
      },
      "source": [
        "data.isnull().sum()"
      ],
      "execution_count": 119,
      "outputs": [
        {
          "output_type": "execute_result",
          "data": {
            "text/plain": [
              "belongs_to_collection    2396\n",
              "budget                      0\n",
              "genres                      7\n",
              "homepage                 2054\n",
              "imdb_id                     0\n",
              "original_language           0\n",
              "original_title              0\n",
              "overview                    8\n",
              "popularity                  0\n",
              "poster_path                 1\n",
              "production_companies      156\n",
              "production_countries       55\n",
              "release_date                0\n",
              "runtime                     2\n",
              "spoken_languages           20\n",
              "status                      0\n",
              "tagline                   597\n",
              "title                       0\n",
              "Keywords                  276\n",
              "cast                       13\n",
              "crew                       16\n",
              "revenue                     0\n",
              "dtype: int64"
            ]
          },
          "metadata": {
            "tags": []
          },
          "execution_count": 119
        }
      ]
    },
    {
      "cell_type": "markdown",
      "metadata": {
        "id": "juJ93ljGskjZ"
      },
      "source": [
        "Analizziamo le features individualmente ed eventualmente evidenziamo eventuali rapporti tra esse o con la target feature"
      ]
    },
    {
      "cell_type": "markdown",
      "metadata": {
        "id": "9uC2dmMKuXwl"
      },
      "source": [
        " Notiamo che **Belongs_to_collection** e **Homepage** presentano una preponderanza di valori null. Si decide perciò di binarizzarle attraverso il quesito \"Is Present?\" in quanto sono features che potrebbero risultare particolarmente utili durante l'addestramento."
      ]
    },
    {
      "cell_type": "code",
      "metadata": {
        "id": "jN8hOOSMv66q"
      },
      "source": [
        "data['belongs_to_a_collection'] = data['belongs_to_collection'].apply(lambda x: 0 if pd.isna(x) else 1)\n",
        "data = data.drop(columns='belongs_to_collection')\n",
        "\n",
        "data['homepage_is_present'] = data['homepage'].apply(lambda x: 0 if pd.isna(x) else 1)\n",
        "data = data.drop(columns='homepage')\n",
        "\n"
      ],
      "execution_count": 120,
      "outputs": []
    },
    {
      "cell_type": "markdown",
      "metadata": {
        "id": "o7yJOctxfvMf"
      },
      "source": [
        "**Budget**\n",
        "\n"
      ]
    },
    {
      "cell_type": "code",
      "metadata": {
        "id": "ClW-ggqyllAP",
        "outputId": "750722f4-b577-4cde-e606-800ba3f19316",
        "colab": {
          "base_uri": "https://localhost:8080/"
        }
      },
      "source": [
        "data.budget"
      ],
      "execution_count": 130,
      "outputs": [
        {
          "output_type": "execute_result",
          "data": {
            "text/plain": [
              "id\n",
              "1       14000000\n",
              "2       40000000\n",
              "3        3300000\n",
              "4        1200000\n",
              "5              0\n",
              "          ...   \n",
              "2996           0\n",
              "2997           0\n",
              "2998    65000000\n",
              "2999    42000000\n",
              "3000    35000000\n",
              "Name: budget, Length: 3000, dtype: int64"
            ]
          },
          "metadata": {
            "tags": []
          },
          "execution_count": 130
        }
      ]
    },
    {
      "cell_type": "code",
      "metadata": {
        "id": "T5sBqesff3LB",
        "outputId": "eb960378-a83f-4341-d112-a6e733ddf32a",
        "colab": {
          "base_uri": "https://localhost:8080/"
        }
      },
      "source": [
        "data[data.budget>1000000].budget.sort_values()"
      ],
      "execution_count": 149,
      "outputs": [
        {
          "output_type": "execute_result",
          "data": {
            "text/plain": [
              "id\n",
              "1777      1070000\n",
              "2762      1089360\n",
              "2008      1114000\n",
              "1190      1119000\n",
              "2993      1135654\n",
              "          ...    \n",
              "1271    260000000\n",
              "1426    270000000\n",
              "2771    280000000\n",
              "2210    300000000\n",
              "2136    380000000\n",
              "Name: budget, Length: 2012, dtype: int64"
            ]
          },
          "metadata": {
            "tags": []
          },
          "execution_count": 149
        }
      ]
    },
    {
      "cell_type": "code",
      "metadata": {
        "id": "GMbCyAtllOXh"
      },
      "source": [
        ""
      ],
      "execution_count": null,
      "outputs": []
    },
    {
      "cell_type": "code",
      "metadata": {
        "id": "cYKuUw4lhUTI"
      },
      "source": [
        "data.budget[data.budget== 0] = data.budget[data.budget>]"
      ],
      "execution_count": 121,
      "outputs": []
    },
    {
      "cell_type": "markdown",
      "metadata": {
        "id": "I65xlp0S6HbC"
      },
      "source": [
        "**Budget** è l'unica feature che presenta delle caratteristiche simili alla variabile target **revenue**, perciò si decide di verificare un'eventuale correlazione tra le due"
      ]
    },
    {
      "cell_type": "code",
      "metadata": {
        "id": "XsAc5Dm56hV5",
        "colab": {
          "base_uri": "https://localhost:8080/",
          "height": 290
        },
        "outputId": "a91db8f3-ee37-4447-becf-08cc7cc5fa4d"
      },
      "source": [
        "data.plot.scatter(\"budget\", \"revenue\",);"
      ],
      "execution_count": 122,
      "outputs": [
        {
          "output_type": "display_data",
          "data": {
            "image/png": "[encoded data removed]",
            "text/plain": [
              "<Figure size 432x288 with 1 Axes>"
            ]
          },
          "metadata": {
            "tags": [],
            "needs_background": "light"
          }
        }
      ]
    },
    {
      "cell_type": "code",
      "metadata": {
        "id": "HFHIQqHwVxfc",
        "outputId": "9eb5620e-bcc8-4db9-edc5-12b9ce97a140",
        "colab": {
          "base_uri": "https://localhost:8080/"
        }
      },
      "source": [
        "np.mean((data.budget-data.budget.mean()) * (data.revenue-data.revenue.mean())) / (data.budget.std() * data.revenue.std())"
      ],
      "execution_count": 123,
      "outputs": [
        {
          "output_type": "execute_result",
          "data": {
            "text/plain": [
              "0.7527135222113918"
            ]
          },
          "metadata": {
            "tags": []
          },
          "execution_count": 123
        }
      ]
    },
    {
      "cell_type": "code",
      "metadata": {
        "id": "XRFEJCAhWZ1p",
        "outputId": "1bf5ea84-08fd-4cb8-bb3f-e3a76e5931d0",
        "colab": {
          "base_uri": "https://localhost:8080/"
        }
      },
      "source": [
        "np.mean((np.log1p(data.budget)-np.log1p(data.budget).mean()) * (np.log1p(data.revenue)-np.log1p(data.revenue).mean())) / (np.log1p(data.budget).std() * np.log1p(data.revenue).std())"
      ],
      "execution_count": 124,
      "outputs": [
        {
          "output_type": "execute_result",
          "data": {
            "text/plain": [
              "0.4980178346810494"
            ]
          },
          "metadata": {
            "tags": []
          },
          "execution_count": 124
        }
      ]
    },
    {
      "cell_type": "code",
      "metadata": {
        "id": "cAZXDNoXWTty",
        "outputId": "e37bed3e-a41d-4827-9c41-e4c57618c8ec",
        "colab": {
          "base_uri": "https://localhost:8080/"
        }
      },
      "source": [
        "data.revenue"
      ],
      "execution_count": 125,
      "outputs": [
        {
          "output_type": "execute_result",
          "data": {
            "text/plain": [
              "id\n",
              "1        12314651\n",
              "2        95149435\n",
              "3        13092000\n",
              "4        16000000\n",
              "5         3923970\n",
              "          ...    \n",
              "2996      1596687\n",
              "2997       180590\n",
              "2998     89456761\n",
              "2999    171963386\n",
              "3000     82087155\n",
              "Name: revenue, Length: 3000, dtype: int64"
            ]
          },
          "metadata": {
            "tags": []
          },
          "execution_count": 125
        }
      ]
    },
    {
      "cell_type": "code",
      "metadata": {
        "id": "-YnSQJfJqu9l",
        "colab": {
          "base_uri": "https://localhost:8080/",
          "height": 290
        },
        "outputId": "9bd02758-d59e-4277-be45-4376a39d8da8"
      },
      "source": [
        "#data.budget = np.log1p(data.budget)\n",
        "#data.revenue = np.log1p(data.revenue)\n",
        "\n",
        "data.plot.scatter(\"budget\", \"revenue\");"
      ],
      "execution_count": 126,
      "outputs": [
        {
          "output_type": "display_data",
          "data": {
            "image/png": "[encoded data removed]",
            "text/plain": [
              "<Figure size 432x288 with 1 Axes>"
            ]
          },
          "metadata": {
            "tags": [],
            "needs_background": "light"
          }
        }
      ]
    },
    {
      "cell_type": "markdown",
      "metadata": {
        "id": "KtL5_aWpFNzq"
      },
      "source": [
        "Usando la correlazione di Pearson si ottiene una correlazione modesta tra le due variabili"
      ]
    },
    {
      "cell_type": "markdown",
      "metadata": {
        "id": "vDaQEyW4XG7y"
      },
      "source": [
        "**Genres**"
      ]
    },
    {
      "cell_type": "code",
      "metadata": {
        "id": "-rpvbGsqdQwY",
        "colab": {
          "base_uri": "https://localhost:8080/",
          "height": 162
        },
        "outputId": "cbf53a10-470b-4529-e6d7-f1db7753c944"
      },
      "source": [
        "train_data[\"genres\"] = (train_data['genres'].apply(lambda x: [i['name'] for i in eval(x)] if str(x) != 'nan' else []).values)\n"
      ],
      "execution_count": 127,
      "outputs": [
        {
          "output_type": "error",
          "ename": "NameError",
          "evalue": "ignored",
          "traceback": [
            "\u001b[0;31m---------------------------------------------------------------------------\u001b[0m",
            "\u001b[0;31mNameError\u001b[0m                                 Traceback (most recent call last)",
            "\u001b[0;32m<ipython-input-127-0ee3f9f5519e>\u001b[0m in \u001b[0;36m<module>\u001b[0;34m()\u001b[0m\n\u001b[0;32m----> 1\u001b[0;31m \u001b[0mtrain_data\u001b[0m\u001b[0;34m[\u001b[0m\u001b[0;34m\"genres\"\u001b[0m\u001b[0;34m]\u001b[0m \u001b[0;34m=\u001b[0m \u001b[0;34m(\u001b[0m\u001b[0mtrain_data\u001b[0m\u001b[0;34m[\u001b[0m\u001b[0;34m'genres'\u001b[0m\u001b[0;34m]\u001b[0m\u001b[0;34m.\u001b[0m\u001b[0mapply\u001b[0m\u001b[0;34m(\u001b[0m\u001b[0;32mlambda\u001b[0m \u001b[0mx\u001b[0m\u001b[0;34m:\u001b[0m \u001b[0;34m[\u001b[0m\u001b[0mi\u001b[0m\u001b[0;34m[\u001b[0m\u001b[0;34m'name'\u001b[0m\u001b[0;34m]\u001b[0m \u001b[0;32mfor\u001b[0m \u001b[0mi\u001b[0m \u001b[0;32min\u001b[0m \u001b[0meval\u001b[0m\u001b[0;34m(\u001b[0m\u001b[0mx\u001b[0m\u001b[0;34m)\u001b[0m\u001b[0;34m]\u001b[0m \u001b[0;32mif\u001b[0m \u001b[0mstr\u001b[0m\u001b[0;34m(\u001b[0m\u001b[0mx\u001b[0m\u001b[0;34m)\u001b[0m \u001b[0;34m!=\u001b[0m \u001b[0;34m'nan'\u001b[0m \u001b[0;32melse\u001b[0m \u001b[0;34m[\u001b[0m\u001b[0;34m]\u001b[0m\u001b[0;34m)\u001b[0m\u001b[0;34m.\u001b[0m\u001b[0mvalues\u001b[0m\u001b[0;34m)\u001b[0m\u001b[0;34m\u001b[0m\u001b[0;34m\u001b[0m\u001b[0m\n\u001b[0m",
            "\u001b[0;31mNameError\u001b[0m: name 'train_data' is not defined"
          ]
        }
      ]
    },
    {
      "cell_type": "code",
      "metadata": {
        "id": "8owCg6e8Kzs2"
      },
      "source": [
        "list_of_genres = {i for x in train_data.genres for i in x}"
      ],
      "execution_count": null,
      "outputs": []
    },
    {
      "cell_type": "code",
      "metadata": {
        "id": "8s85lH2bLG-j"
      },
      "source": [
        "for genre in list_of_genres:\n",
        "  train_data[\"genre_\" + genre] = train_data['genres'].apply(lambda x: 1 if genre in x else 0)\n",
        "train_data.drop(columns='genres',inplace=True)  "
      ],
      "execution_count": null,
      "outputs": []
    },
    {
      "cell_type": "markdown",
      "metadata": {
        "id": "R7J9LiklRKeR"
      },
      "source": [
        "Per quanto riguara le features **imdb_id, 'original_title', 'status', 'poster_path'** e **title** di eliminarle in quanto poco significative"
      ]
    },
    {
      "cell_type": "code",
      "metadata": {
        "id": "F7APesT3Bab2"
      },
      "source": [
        "train_data.head(1)"
      ],
      "execution_count": null,
      "outputs": []
    },
    {
      "cell_type": "code",
      "metadata": {
        "id": "bf2YqOeSBfD2"
      },
      "source": [
        ""
      ],
      "execution_count": null,
      "outputs": []
    },
    {
      "cell_type": "code",
      "metadata": {
        "id": "WzWuyejfRJ6A"
      },
      "source": [
        "train_data.drop(columns=['imdb_id','original_title','status','poster_path', 'title'], inplace=True)"
      ],
      "execution_count": null,
      "outputs": []
    },
    {
      "cell_type": "code",
      "metadata": {
        "id": "xeVyaYjjBknE"
      },
      "source": [
        "train_data.dtypes"
      ],
      "execution_count": null,
      "outputs": []
    },
    {
      "cell_type": "markdown",
      "metadata": {
        "id": "qEpx_plu5Ucp"
      },
      "source": [
        "**Original_language**\n",
        "\n"
      ]
    },
    {
      "cell_type": "code",
      "metadata": {
        "id": "p7HSbzVHx3ge"
      },
      "source": [
        ""
      ],
      "execution_count": null,
      "outputs": []
    },
    {
      "cell_type": "code",
      "metadata": {
        "id": "AXiY4AQzNUNx"
      },
      "source": [
        "train_data.original_language.value_counts(normalize=True).head(5).plot.pie()\n"
      ],
      "execution_count": null,
      "outputs": []
    },
    {
      "cell_type": "markdown",
      "metadata": {
        "id": "fVkGkGyN5-04"
      },
      "source": [
        "Per quanto a primo impatto potesse risultare un dato interessante, la maggior parte dei film sono in inglese, quindi risulterebbero inutili in fase di addestramento. Lo stesso ragionamento vale per **spoken_language**\n",
        "Un discorso diverso invece va fatto con **popularity**. Non avendo certezza del fatto che il rating di popolarità sia antecedente alla fuoriuscita dei film, si decide cancellare la colonna assieme alle altre."
      ]
    },
    {
      "cell_type": "code",
      "metadata": {
        "id": "5tjWe0SW6RTO"
      },
      "source": [
        "train_data.drop(columns= ['original_language','spoken_languages'], inplace=True)"
      ],
      "execution_count": null,
      "outputs": []
    },
    {
      "cell_type": "markdown",
      "metadata": {
        "id": "9fItUK-EC3_K"
      },
      "source": [
        "**Keywords**"
      ]
    },
    {
      "cell_type": "markdown",
      "metadata": {
        "id": "zpy9S2GzC9CL"
      },
      "source": [
        "Keywords permette di determinare delle parole chiavi da associare ad ogni film, e perciò svolge lo stesso ruole di **tagline** e **overview**"
      ]
    },
    {
      "cell_type": "code",
      "metadata": {
        "id": "AsGeaw8jlHaA"
      },
      "source": [
        "train_data.drop(columns=['overview', 'tagline'], inplace=True)\n"
      ],
      "execution_count": null,
      "outputs": []
    },
    {
      "cell_type": "code",
      "metadata": {
        "id": "Ou32XWq-o-qX"
      },
      "source": [
        "train_data.head(1)"
      ],
      "execution_count": null,
      "outputs": []
    },
    {
      "cell_type": "code",
      "metadata": {
        "id": "NXRV6GAUDnlm"
      },
      "source": [
        "\n"
      ],
      "execution_count": null,
      "outputs": []
    },
    {
      "cell_type": "code",
      "metadata": {
        "id": "-Y7Fr0a1EZK4"
      },
      "source": [
        ""
      ],
      "execution_count": null,
      "outputs": []
    },
    {
      "cell_type": "code",
      "metadata": {
        "id": "bF115f_Cjsp4"
      },
      "source": [
        "def cut_and_binariezed(feature):\n",
        "  train_data[feature] = (train_data[feature].apply(lambda x: [i['name'] for i in eval(x)] if str(x) != 'nan' else []).values)\n",
        "  all_values = pd.DataFrame([i for x in train_data[feature] for i in x])\n",
        "  \n",
        "  split = all_values.value_counts()[:100]\n",
        "  for keys in split.index:\n",
        "      train_data[feature+\" (\" + keys[0]+ \")\"] = train_data[feature].apply(lambda x: 1 if keys[0] in x else 0)\n",
        "  train_data.drop(columns=feature,inplace=True) \n"
      ],
      "execution_count": null,
      "outputs": []
    },
    {
      "cell_type": "code",
      "metadata": {
        "id": "mF-bc4xvk2UX"
      },
      "source": [
        "cut_and_binariezed(\"Keywords\")"
      ],
      "execution_count": null,
      "outputs": []
    },
    {
      "cell_type": "markdown",
      "metadata": {
        "id": "MgSx8azJoVjT"
      },
      "source": [
        "Analogamente si procede allo stesso modo con **cast**,**crew**,  **production_companies** e **production_countries**"
      ]
    },
    {
      "cell_type": "code",
      "metadata": {
        "id": "VrGI-J2RKHOF"
      },
      "source": [
        "train_data.head(1)"
      ],
      "execution_count": null,
      "outputs": []
    },
    {
      "cell_type": "code",
      "metadata": {
        "id": "DLvNNCKKKK-G"
      },
      "source": [
        "cut_and_binariezed(\"production_companies\")"
      ],
      "execution_count": null,
      "outputs": []
    },
    {
      "cell_type": "code",
      "metadata": {
        "id": "6p-l8yEsLWig"
      },
      "source": [
        "cut_and_binariezed(\"production_countries\")"
      ],
      "execution_count": null,
      "outputs": []
    },
    {
      "cell_type": "code",
      "metadata": {
        "id": "uuON9ORytktS"
      },
      "source": [
        "cut_and_binariezed(\"cast\")"
      ],
      "execution_count": null,
      "outputs": []
    },
    {
      "cell_type": "code",
      "metadata": {
        "id": "IRTDnk0dGE0I"
      },
      "source": [
        "cut_and_binariezed(\"crew\")"
      ],
      "execution_count": null,
      "outputs": []
    },
    {
      "cell_type": "markdown",
      "metadata": {
        "id": "z_faghSxCerW"
      },
      "source": [
        "**Release Date**"
      ]
    },
    {
      "cell_type": "code",
      "metadata": {
        "id": "ag_ah9kvd0s1"
      },
      "source": [
        "train_data.release_date.shape"
      ],
      "execution_count": null,
      "outputs": []
    },
    {
      "cell_type": "code",
      "metadata": {
        "id": "Dkgktd56I5hJ"
      },
      "source": [
        "train_data[['release_month', 'release_day', 'release_year']] = train_data['release_date'].str.split('/', expand=True).astype(int)"
      ],
      "execution_count": null,
      "outputs": []
    },
    {
      "cell_type": "code",
      "metadata": {
        "id": "zJxglcIU00FM"
      },
      "source": [
        ""
      ],
      "execution_count": null,
      "outputs": []
    },
    {
      "cell_type": "code",
      "metadata": {
        "id": "2ebz-3ozAJg5"
      },
      "source": [
        "train_data[\"release_year\"]=train_data['release_year'].map(lambda x: 2000 + x if x < 20 else (x+1900 if x<100 else x))"
      ],
      "execution_count": null,
      "outputs": []
    },
    {
      "cell_type": "code",
      "metadata": {
        "id": "I-amGIBo_A50"
      },
      "source": [
        "plt.figure(figsize=(12, 3))\n",
        "plt.subplot(1, 3, 1).bar(train_data.release_month.value_counts().index,train_data.release_month.value_counts().values)\n",
        "plt.subplot(1, 3, 2).bar(train_data.release_day.value_counts().index,train_data.release_day.value_counts().values)\n",
        "plt.subplot(1, 3, 3).bar(train_data.release_year.value_counts().index,train_data.release_year.value_counts().values)\n"
      ],
      "execution_count": null,
      "outputs": []
    },
    {
      "cell_type": "code",
      "metadata": {
        "id": "oNDBKnk7faFp"
      },
      "source": [
        "train_data.drop(columns='release_date', inplace=True)"
      ],
      "execution_count": null,
      "outputs": []
    },
    {
      "cell_type": "code",
      "metadata": {
        "id": "mJSEKwgLH3pN"
      },
      "source": [
        "train_data.head(1)"
      ],
      "execution_count": null,
      "outputs": []
    },
    {
      "cell_type": "code",
      "metadata": {
        "id": "IUbHz8GWO3L6"
      },
      "source": [
        "train_data.runtime.isnull().sum()"
      ],
      "execution_count": null,
      "outputs": []
    },
    {
      "cell_type": "code",
      "metadata": {
        "id": "WDhDlxcUUl1a"
      },
      "source": [
        ""
      ],
      "execution_count": null,
      "outputs": []
    },
    {
      "cell_type": "code",
      "metadata": {
        "id": "-8BonzeNIO1m"
      },
      "source": [
        "train_data.plot.scatter(\"runtime\", \"revenue\")"
      ],
      "execution_count": null,
      "outputs": []
    },
    {
      "cell_type": "markdown",
      "metadata": {
        "id": "OtWk6FH5QKB2"
      },
      "source": [
        "# Addestramento\n"
      ]
    },
    {
      "cell_type": "code",
      "metadata": {
        "id": "7RXbXT6ETSf_"
      },
      "source": [
        "train_data.dropna(inplace=True)"
      ],
      "execution_count": null,
      "outputs": []
    },
    {
      "cell_type": "code",
      "metadata": {
        "id": "KGp97Neh_XKS"
      },
      "source": [
        "train_data.isna().sum()"
      ],
      "execution_count": null,
      "outputs": []
    },
    {
      "cell_type": "code",
      "metadata": {
        "id": "ZjwMDZH5ShzL"
      },
      "source": [
        "y_data = train_data.revenue\n",
        "train_data.drop(columns='revenue', inplace=True)"
      ],
      "execution_count": null,
      "outputs": []
    },
    {
      "cell_type": "code",
      "metadata": {
        "id": "MtaSzJEhTTQL"
      },
      "source": [
        ""
      ],
      "execution_count": null,
      "outputs": []
    },
    {
      "cell_type": "code",
      "metadata": {
        "id": "_scv4UEvjWJu"
      },
      "source": [
        "\n"
      ],
      "execution_count": null,
      "outputs": []
    },
    {
      "cell_type": "code",
      "metadata": {
        "id": "4qXg4NUCCpRw"
      },
      "source": [
        "X = train_data"
      ],
      "execution_count": null,
      "outputs": []
    },
    {
      "cell_type": "code",
      "metadata": {
        "id": "oWb1k7diwKqA"
      },
      "source": [
        "from sklearn.linear_model import LinearRegression, Ridge\n",
        "from sklearn.preprocessing import StandardScaler\n",
        "from sklearn.pipeline import Pipeline\n",
        "from sklearn.metrics import mean_squared_error, r2_score\n",
        "from sklearn.model_selection import GridSearchCV\n",
        "from sklearn.kernel_ridge import KernelRidge"
      ],
      "execution_count": null,
      "outputs": []
    },
    {
      "cell_type": "code",
      "metadata": {
        "id": "cuU9r3n8hL5M"
      },
      "source": [
        ""
      ],
      "execution_count": null,
      "outputs": []
    },
    {
      "cell_type": "code",
      "metadata": {
        "id": "veHvyuzgBa5g"
      },
      "source": [
        "# importo MSE e R²\n",
        "from sklearn.metrics import mean_squared_error, r2_score\n",
        "\n",
        "# definisco funzione per errore relativo\n",
        "def relative_error(y_true, y_pred):\n",
        "    return np.mean(np.abs((y_true - y_pred) / y_true))\n",
        "\n",
        "# funzione per calcolare e stampare tutte e tre\n",
        "def print_eval(X, y, model):\n",
        "    preds = model.predict(X)\n",
        "    print(\"   Mean squared error: {:.5}\".format(mean_squared_error(y, preds)))\n",
        "    print(\"       Relative error: {:.5%}\".format(relative_error(y, preds)))\n",
        "    print(\"R-squared coefficient: {:.5}\".format(r2_score(y, preds)))"
      ],
      "execution_count": null,
      "outputs": []
    },
    {
      "cell_type": "code",
      "metadata": {
        "id": "PLdY4qk2cUL3"
      },
      "source": [
        "from sklearn.model_selection import KFold\n",
        "kf = KFold(5, shuffle=True, random_state=42)\n",
        "model = Pipeline([\n",
        "    (\"scale\", StandardScaler()),\n",
        "    (\"regr\",  KernelRidge(alpha=2, kernel=\"poly\", degree=2))\n",
        "])\n",
        "from sklearn.model_selection import cross_validate\n",
        "cv_result = cross_validate(model, X, y_data, cv=kf, return_train_score=True)\n",
        "cv_result"
      ],
      "execution_count": null,
      "outputs": []
    },
    {
      "cell_type": "code",
      "metadata": {
        "id": "7UyEmZdUcXEE"
      },
      "source": [
        "outer_cv = KFold(3, shuffle=True, random_state=42)\n",
        "inner_cv = KFold(5, shuffle=True, random_state=42)\n"
      ],
      "execution_count": null,
      "outputs": []
    },
    {
      "cell_type": "code",
      "metadata": {
        "id": "BO7KyF7yh0Me"
      },
      "source": [
        "def nested_cv(model, grid):\n",
        "    results = []\n",
        "    for train_indices, val_indices in outer_cv.split(train_data, y_data):\n",
        "        X_train, y_train = train_data.iloc[train_indices], y_data.iloc[train_indices]\n",
        "        X_val, y_val = train_data.iloc[val_indices], y_data.iloc[val_indices]\n",
        "        gs = GridSearchCV(model, grid, cv=inner_cv)\n",
        "        gs.fit(X_train, y_train)\n",
        "        score = gs.score(X_val, y_val)\n",
        "        results.append(score)\n",
        "    return results"
      ],
      "execution_count": null,
      "outputs": []
    },
    {
      "cell_type": "markdown",
      "metadata": {
        "id": "u0JuAR_Z2lOw"
      },
      "source": [
        "model = Pipeline([\n",
        "    (\"scale\", StandardScaler()),\n",
        "    (\"regr\", KernelRidge(kernel=\"poly\"))\n",
        "])\n",
        "grid = {\n",
        "    \"regr__degree\": range(2, 11),\n",
        "    \"regr__alpha\": [0.01, 0.1, 1, 10],\n",
        "}\n",
        "nested_cv(model, grid)"
      ]
    },
    {
      "cell_type": "code",
      "metadata": {
        "id": "h3jhf8cqwS7p"
      },
      "source": [
        "from sklearn.model_selection import train_test_split\n",
        "X_train, X_val, y_train, y_val = \\\n",
        "    train_test_split(X, y_data, test_size=1/3, random_state=42)"
      ],
      "execution_count": null,
      "outputs": []
    },
    {
      "cell_type": "code",
      "metadata": {
        "id": "h4zfLOLaSXcj"
      },
      "source": [
        "model = Pipeline([\n",
        "    (\"scale\", StandardScaler()),\n",
        "    (\"regr\",  KernelRidge(alpha=2, kernel=\"poly\", degree=2))\n",
        "])\n",
        "model.fit(X_train, y_train);"
      ],
      "execution_count": null,
      "outputs": []
    },
    {
      "cell_type": "code",
      "metadata": {
        "id": "dwQb2AWWSbpV"
      },
      "source": [
        "model.score(X_train, y_train)"
      ],
      "execution_count": null,
      "outputs": []
    },
    {
      "cell_type": "code",
      "metadata": {
        "id": "qZK0af26SeUB"
      },
      "source": [
        "print_eval(X_train, y_train, model)"
      ],
      "execution_count": null,
      "outputs": []
    },
    {
      "cell_type": "code",
      "metadata": {
        "id": "VHERyrHqSsjS"
      },
      "source": [
        "print_eval(X_val, y_val, model)"
      ],
      "execution_count": null,
      "outputs": []
    },
    {
      "cell_type": "code",
      "metadata": {
        "id": "jTX04BbovoaX"
      },
      "source": [
        "from sklearn.tree import DecisionTreeRegressor\n",
        "model = DecisionTreeRegressor(max_depth=6, random_state=42)\n",
        "model.fit(X_train, y_train);"
      ],
      "execution_count": null,
      "outputs": []
    },
    {
      "cell_type": "code",
      "metadata": {
        "id": "I01Qg-gZw0bP"
      },
      "source": [
        "model.score(X_train, y_train)"
      ],
      "execution_count": null,
      "outputs": []
    },
    {
      "cell_type": "code",
      "metadata": {
        "id": "aLWB2NBhGMLV"
      },
      "source": [
        "print_eval(X_train, y_train, model)"
      ],
      "execution_count": null,
      "outputs": []
    },
    {
      "cell_type": "code",
      "metadata": {
        "id": "ZBIcYn24GTI8"
      },
      "source": [
        "print_eval(X_val, y_val, model)"
      ],
      "execution_count": null,
      "outputs": []
    },
    {
      "cell_type": "code",
      "metadata": {
        "id": "v5Cq6LLIwag5"
      },
      "source": [
        "model.score(X_val, y_val)"
      ],
      "execution_count": null,
      "outputs": []
    },
    {
      "cell_type": "code",
      "metadata": {
        "id": "EfWqpi3ZwxxO"
      },
      "source": [
        "model = DecisionTreeRegressor(min_samples_split=0.4, random_state=42)\n",
        "model.fit(X_train, y_train);"
      ],
      "execution_count": null,
      "outputs": []
    },
    {
      "cell_type": "code",
      "metadata": {
        "id": "ZzXO4_-Lw8Dx"
      },
      "source": [
        "model.score(X_train, y_train)"
      ],
      "execution_count": null,
      "outputs": []
    },
    {
      "cell_type": "code",
      "metadata": {
        "id": "r7PPuHwaxAhJ"
      },
      "source": [
        "model.score(X_val, y_val)"
      ],
      "execution_count": null,
      "outputs": []
    },
    {
      "cell_type": "code",
      "metadata": {
        "id": "YXnDJMeuyg4Q"
      },
      "source": [
        "model = DecisionTreeRegressor(random_state=42)\n",
        "grid = {\n",
        "    \"max_depth\": [3, 5, 10, None],\n",
        "    \"min_samples_split\": [2, 0.02, 0.05, 0.1]\n",
        "}\n",
        "kf = KFold(3, shuffle=True, random_state=42)\n",
        "gs = GridSearchCV(model, grid, cv=kf)\n",
        "gs.fit(X_train, y_train)\n",
        "gs.best_params_"
      ],
      "execution_count": null,
      "outputs": []
    },
    {
      "cell_type": "code",
      "metadata": {
        "id": "MFHv62tWykn2"
      },
      "source": [
        "gs.score(X_val, y_val)"
      ],
      "execution_count": null,
      "outputs": []
    },
    {
      "cell_type": "code",
      "metadata": {
        "id": "s_xPc8ke1NDq"
      },
      "source": [
        "from sklearn.neural_network import MLPRegressor\n",
        "model = MLPRegressor(\n",
        "    hidden_layer_sizes=[4],\n",
        "    activation=\"relu\",\n",
        "    solver=\"sgd\",\n",
        "    random_state=12345\n",
        ")"
      ],
      "execution_count": null,
      "outputs": []
    },
    {
      "cell_type": "code",
      "metadata": {
        "id": "2MAs-jKn1RF6"
      },
      "source": [
        "model.fit(X_train, y_train);"
      ],
      "execution_count": null,
      "outputs": []
    },
    {
      "cell_type": "code",
      "metadata": {
        "id": "SvysjAM81UXy"
      },
      "source": [
        "model.score(X_val, y_val)"
      ],
      "execution_count": null,
      "outputs": []
    },
    {
      "cell_type": "code",
      "metadata": {
        "id": "RFFiWQeg12pk"
      },
      "source": [
        "from tensorflow.keras.models import Sequential\n",
        "from tensorflow.keras.layers import Dense"
      ],
      "execution_count": null,
      "outputs": []
    },
    {
      "cell_type": "code",
      "metadata": {
        "id": "kHS1sSvF1zB6"
      },
      "source": [
        "model = Sequential([\n",
        "    Dense(128, activation=\"relu\", input_dim=X_train.shape[1]),\n",
        "    Dense(1)\n",
        "])\n",
        "model.compile(optimizer=\"adam\", loss=\"mean_squared_error\")"
      ],
      "execution_count": null,
      "outputs": []
    },
    {
      "cell_type": "code",
      "metadata": {
        "id": "u7J2IKNx1_pg"
      },
      "source": [
        "model.fit(X_train, y_train, batch_size=100, epochs=5)\n"
      ],
      "execution_count": null,
      "outputs": []
    },
    {
      "cell_type": "code",
      "metadata": {
        "id": "E20Ja7er3sbG"
      },
      "source": [
        "model = Sequential([\n",
        "    Dense(512, activation=\"relu\", input_dim=X_train.shape[1]),\n",
        "    Dense(128, activation=\"relu\"),\n",
        "    Dense(32, activation=\"relu\"),\n",
        "    Dense(1)\n",
        "])\n",
        "model.compile(optimizer=\"adam\", loss=\"mean_squared_error\")"
      ],
      "execution_count": null,
      "outputs": []
    },
    {
      "cell_type": "code",
      "metadata": {
        "id": "ESXRUzrn5JSq"
      },
      "source": [
        "model.fit(X_train, y_train, batch_size=100, epochs=5)"
      ],
      "execution_count": null,
      "outputs": []
    },
    {
      "cell_type": "code",
      "metadata": {
        "id": "AKD5AIgS5TR2"
      },
      "source": [
        "from tensorflow.keras.regularizers import l2\n",
        "model = Sequential([\n",
        "    Dense(128, activation=\"relu\", kernel_regularizer=l2(0.001), input_dim=X_train.shape[1]),\n",
        "    Dense(1)\n",
        "])\n",
        "model.compile(optimizer=\"adam\", loss=\"mean_squared_error\")"
      ],
      "execution_count": null,
      "outputs": []
    },
    {
      "cell_type": "code",
      "metadata": {
        "id": "-M2Gowfh5W7u"
      },
      "source": [
        "model.fit(X_train, y_train, batch_size=100, epochs=50)"
      ],
      "execution_count": null,
      "outputs": []
    },
    {
      "cell_type": "code",
      "metadata": {
        "id": "CnUMihQg-g2T"
      },
      "source": [
        "X_train.head(1)"
      ],
      "execution_count": null,
      "outputs": []
    },
    {
      "cell_type": "code",
      "metadata": {
        "id": "g528NHf5-gzF"
      },
      "source": [
        ""
      ],
      "execution_count": null,
      "outputs": []
    }
  ]
}