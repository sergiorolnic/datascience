{
  "nbformat": 4,
  "nbformat_minor": 0,
  "metadata": {
    "colab": {
      "name": "datascience-project.ipynb",
      "provenance": [],
      "collapsed_sections": [],
      "authorship_tag": "ABX9TyOAS45wE+O9w86IiCA+qzC9",
      "include_colab_link": true
    },
    "kernelspec": {
      "name": "python3",
      "display_name": "Python 3"
    },
    "language_info": {
      "name": "python"
    }
  },
  "cells": [
    {
      "cell_type": "markdown",
      "metadata": {
        "id": "view-in-github",
        "colab_type": "text"
      },
      "source": [
        "<a href=\"https://colab.research.google.com/github/sergiorolnic/datascience/blob/main/datascience_project.ipynb\" target=\"_parent\"><img src=\"https://colab.research.google.com/assets/colab-badge.svg\" alt=\"Open In Colab\"/></a>"
      ]
    },
    {
      "cell_type": "markdown",
      "metadata": {
        "id": "ePL7s6Rrx6Qi"
      },
      "source": [
        "# Box Office Prediction\n",
        "**Programmazione di Applicazioni Data Intensive**\n",
        "\n",
        "Ingegneria e Scienze Informatiche 2021\n",
        "\n",
        "Sergiu Gabriel Rolnic\n",
        "\n",
        "Il seguente progetto riguarda l'analisi  dei dati raccolti dal sito [The Movie Database](https://www.themoviedb.org/). Lo scopo finale sarà quello di prevedere gli incassi di un film avendo a disposizione solo dati esistenti prima della effettiva uscita nelle sale.\n"
      ]
    },
    {
      "cell_type": "markdown",
      "metadata": {
        "id": "UZJcfexXmC59"
      },
      "source": [
        "# **Analisi dei Dati**"
      ]
    },
    {
      "cell_type": "markdown",
      "metadata": {
        "id": "gsO8Vzzz5l_J"
      },
      "source": [
        "Importazione del dataset e delle librerie utili per la sua analisi"
      ]
    },
    {
      "cell_type": "code",
      "metadata": {
        "id": "GmOfJ-UC3d3X"
      },
      "source": [
        "import os.path\n",
        "import numpy as np\n",
        "import pandas as pd\n",
        "import matplotlib.pyplot as plt\n",
        "%matplotlib inline"
      ],
      "execution_count": 86,
      "outputs": []
    },
    {
      "cell_type": "code",
      "metadata": {
        "id": "_dMGHS4w3wL7"
      },
      "source": [
        "if not os.path.exists(\"train.csv\"):\n",
        "    from urllib.request import urlretrieve\n",
        "    urlretrieve(\"https://raw.githubusercontent.com/sergiorolnic/datascience/main/train.csv\", \"train.csv\")\n",
        "\n",
        "data = pd.read_csv(\"train.csv\")    "
      ],
      "execution_count": 87,
      "outputs": []
    },
    {
      "cell_type": "code",
      "metadata": {
        "id": "Q1cAORnFJZOI"
      },
      "source": [
        "\n",
        "if not os.path.exists(\"test.csv\"):\n",
        "    from urllib.request import urlretrieve\n",
        "    urlretrieve(\"https://raw.githubusercontent.com/sergiorolnic/datascience/main/test.csv\", \"test.csv\")\n",
        "\n",
        "test = pd.read_csv(\"test.csv\") "
      ],
      "execution_count": 88,
      "outputs": []
    },
    {
      "cell_type": "code",
      "metadata": {
        "id": "PuxuexjiF0Wk"
      },
      "source": [
        ""
      ],
      "execution_count": 88,
      "outputs": []
    },
    {
      "cell_type": "code",
      "metadata": {
        "colab": {
          "base_uri": "https://localhost:8080/"
        },
        "id": "doziER_xC46N",
        "outputId": "7c6c4a6d-462c-4cd2-b8dd-9d7e43c149c7"
      },
      "source": [
        "data.shape"
      ],
      "execution_count": 89,
      "outputs": [
        {
          "output_type": "execute_result",
          "data": {
            "text/plain": [
              "(3000, 23)"
            ]
          },
          "metadata": {
            "tags": []
          },
          "execution_count": 89
        }
      ]
    },
    {
      "cell_type": "code",
      "metadata": {
        "colab": {
          "base_uri": "https://localhost:8080/",
          "height": 214
        },
        "id": "vCahw2vvmj_r",
        "outputId": "5b55704e-9dbc-44eb-9777-11ba6fa19f7f"
      },
      "source": [
        "data.head(1)"
      ],
      "execution_count": 90,
      "outputs": [
        {
          "output_type": "execute_result",
          "data": {
            "text/html": [
              "<div>\n",
              "<style scoped>\n",
              "    .dataframe tbody tr th:only-of-type {\n",
              "        vertical-align: middle;\n",
              "    }\n",
              "\n",
              "    .dataframe tbody tr th {\n",
              "        vertical-align: top;\n",
              "    }\n",
              "\n",
              "    .dataframe thead th {\n",
              "        text-align: right;\n",
              "    }\n",
              "</style>\n",
              "<table border=\"1\" class=\"dataframe\">\n",
              "  <thead>\n",
              "    <tr style=\"text-align: right;\">\n",
              "      <th></th>\n",
              "      <th>id</th>\n",
              "      <th>belongs_to_collection</th>\n",
              "      <th>budget</th>\n",
              "      <th>genres</th>\n",
              "      <th>homepage</th>\n",
              "      <th>imdb_id</th>\n",
              "      <th>original_language</th>\n",
              "      <th>original_title</th>\n",
              "      <th>overview</th>\n",
              "      <th>popularity</th>\n",
              "      <th>poster_path</th>\n",
              "      <th>production_companies</th>\n",
              "      <th>production_countries</th>\n",
              "      <th>release_date</th>\n",
              "      <th>runtime</th>\n",
              "      <th>spoken_languages</th>\n",
              "      <th>status</th>\n",
              "      <th>tagline</th>\n",
              "      <th>title</th>\n",
              "      <th>Keywords</th>\n",
              "      <th>cast</th>\n",
              "      <th>crew</th>\n",
              "      <th>revenue</th>\n",
              "    </tr>\n",
              "  </thead>\n",
              "  <tbody>\n",
              "    <tr>\n",
              "      <th>0</th>\n",
              "      <td>1</td>\n",
              "      <td>[{'id': 313576, 'name': 'Hot Tub Time Machine ...</td>\n",
              "      <td>14000000</td>\n",
              "      <td>[{'id': 35, 'name': 'Comedy'}]</td>\n",
              "      <td>NaN</td>\n",
              "      <td>tt2637294</td>\n",
              "      <td>en</td>\n",
              "      <td>Hot Tub Time Machine 2</td>\n",
              "      <td>When Lou, who has become the \"father of the In...</td>\n",
              "      <td>6.575393</td>\n",
              "      <td>/tQtWuwvMf0hCc2QR2tkolwl7c3c.jpg</td>\n",
              "      <td>[{'name': 'Paramount Pictures', 'id': 4}, {'na...</td>\n",
              "      <td>[{'iso_3166_1': 'US', 'name': 'United States o...</td>\n",
              "      <td>2/20/15</td>\n",
              "      <td>93.0</td>\n",
              "      <td>[{'iso_639_1': 'en', 'name': 'English'}]</td>\n",
              "      <td>Released</td>\n",
              "      <td>The Laws of Space and Time are About to be Vio...</td>\n",
              "      <td>Hot Tub Time Machine 2</td>\n",
              "      <td>[{'id': 4379, 'name': 'time travel'}, {'id': 9...</td>\n",
              "      <td>[{'cast_id': 4, 'character': 'Lou', 'credit_id...</td>\n",
              "      <td>[{'credit_id': '59ac067c92514107af02c8c8', 'de...</td>\n",
              "      <td>12314651</td>\n",
              "    </tr>\n",
              "  </tbody>\n",
              "</table>\n",
              "</div>"
            ],
            "text/plain": [
              "   id  ...   revenue\n",
              "0   1  ...  12314651\n",
              "\n",
              "[1 rows x 23 columns]"
            ]
          },
          "metadata": {
            "tags": []
          },
          "execution_count": 90
        }
      ]
    },
    {
      "cell_type": "code",
      "metadata": {
        "colab": {
          "base_uri": "https://localhost:8080/",
          "height": 181
        },
        "id": "cGNZ9bCamtZU",
        "outputId": "08cc9ab2-c21b-4970-95c7-eaaadefd3d1c"
      },
      "source": [
        "data.tail(1)"
      ],
      "execution_count": 91,
      "outputs": [
        {
          "output_type": "execute_result",
          "data": {
            "text/html": [
              "<div>\n",
              "<style scoped>\n",
              "    .dataframe tbody tr th:only-of-type {\n",
              "        vertical-align: middle;\n",
              "    }\n",
              "\n",
              "    .dataframe tbody tr th {\n",
              "        vertical-align: top;\n",
              "    }\n",
              "\n",
              "    .dataframe thead th {\n",
              "        text-align: right;\n",
              "    }\n",
              "</style>\n",
              "<table border=\"1\" class=\"dataframe\">\n",
              "  <thead>\n",
              "    <tr style=\"text-align: right;\">\n",
              "      <th></th>\n",
              "      <th>id</th>\n",
              "      <th>belongs_to_collection</th>\n",
              "      <th>budget</th>\n",
              "      <th>genres</th>\n",
              "      <th>homepage</th>\n",
              "      <th>imdb_id</th>\n",
              "      <th>original_language</th>\n",
              "      <th>original_title</th>\n",
              "      <th>overview</th>\n",
              "      <th>popularity</th>\n",
              "      <th>poster_path</th>\n",
              "      <th>production_companies</th>\n",
              "      <th>production_countries</th>\n",
              "      <th>release_date</th>\n",
              "      <th>runtime</th>\n",
              "      <th>spoken_languages</th>\n",
              "      <th>status</th>\n",
              "      <th>tagline</th>\n",
              "      <th>title</th>\n",
              "      <th>Keywords</th>\n",
              "      <th>cast</th>\n",
              "      <th>crew</th>\n",
              "      <th>revenue</th>\n",
              "    </tr>\n",
              "  </thead>\n",
              "  <tbody>\n",
              "    <tr>\n",
              "      <th>2999</th>\n",
              "      <td>3000</td>\n",
              "      <td>NaN</td>\n",
              "      <td>35000000</td>\n",
              "      <td>[{'id': 53, 'name': 'Thriller'}, {'id': 28, 'n...</td>\n",
              "      <td>http://www.abductionthefilm.com/</td>\n",
              "      <td>tt1600195</td>\n",
              "      <td>en</td>\n",
              "      <td>Abduction</td>\n",
              "      <td>A young man sets out to uncover the truth abou...</td>\n",
              "      <td>10.512109</td>\n",
              "      <td>/cUT6NQP5LAJpmUoStGtXmvNt4zA.jpg</td>\n",
              "      <td>[{'name': 'Lions Gate Films', 'id': 35}, {'nam...</td>\n",
              "      <td>[{'iso_3166_1': 'US', 'name': 'United States o...</td>\n",
              "      <td>9/22/11</td>\n",
              "      <td>106.0</td>\n",
              "      <td>[{'iso_639_1': 'en', 'name': 'English'}]</td>\n",
              "      <td>Released</td>\n",
              "      <td>They stole his life. He's taking it back.</td>\n",
              "      <td>Abduction</td>\n",
              "      <td>[{'id': 591, 'name': 'cia'}, {'id': 822, 'name...</td>\n",
              "      <td>[{'cast_id': 2, 'character': 'Nathan Harper', ...</td>\n",
              "      <td>[{'credit_id': '5391990d0e0a260fb5001629', 'de...</td>\n",
              "      <td>82087155</td>\n",
              "    </tr>\n",
              "  </tbody>\n",
              "</table>\n",
              "</div>"
            ],
            "text/plain": [
              "        id  ...   revenue\n",
              "2999  3000  ...  82087155\n",
              "\n",
              "[1 rows x 23 columns]"
            ]
          },
          "metadata": {
            "tags": []
          },
          "execution_count": 91
        }
      ]
    },
    {
      "cell_type": "markdown",
      "metadata": {
        "id": "g1X1uJo596SJ"
      },
      "source": [
        "Notiamo la presenza di feature particolari: dizionari con una o piu' entrate, valori numerici su scale diverse, stringhe di varia natura. La challenge principale sarà quella di riuscire ad estrarre delle informazione utili da piu' variabili possibili.   "
      ]
    },
    {
      "cell_type": "markdown",
      "metadata": {
        "id": "N1eE6E8_7Gfe"
      },
      "source": [
        "La colonna \"id\" può essere usata come indice del nostro dataframe"
      ]
    },
    {
      "cell_type": "code",
      "metadata": {
        "id": "3AR9gIPX7T5g"
      },
      "source": [
        "data = pd.read_csv(\"train.csv\", index_col=0)  \n",
        "test = pd.read_csv(\"test.csv\", index_col=0)  "
      ],
      "execution_count": 92,
      "outputs": []
    },
    {
      "cell_type": "code",
      "metadata": {
        "id": "FrCDCB4AObmB",
        "outputId": "e27336d9-a70f-4014-c504-a02e558af543",
        "colab": {
          "base_uri": "https://localhost:8080/"
        }
      },
      "source": [
        "data.shape"
      ],
      "execution_count": 93,
      "outputs": [
        {
          "output_type": "execute_result",
          "data": {
            "text/plain": [
              "(3000, 22)"
            ]
          },
          "metadata": {
            "tags": []
          },
          "execution_count": 93
        }
      ]
    },
    {
      "cell_type": "code",
      "metadata": {
        "id": "S7e-kYWtOdvb",
        "outputId": "cd68be3a-36a1-483f-c30b-6264040338a4",
        "colab": {
          "base_uri": "https://localhost:8080/"
        }
      },
      "source": [
        "test.shape"
      ],
      "execution_count": 94,
      "outputs": [
        {
          "output_type": "execute_result",
          "data": {
            "text/plain": [
              "(4398, 21)"
            ]
          },
          "metadata": {
            "tags": []
          },
          "execution_count": 94
        }
      ]
    },
    {
      "cell_type": "code",
      "metadata": {
        "colab": {
          "base_uri": "https://localhost:8080/",
          "height": 244
        },
        "id": "dRoQFejV93hg",
        "outputId": "268589f8-727e-4c63-9340-b8cdb03d8aaa"
      },
      "source": [
        "data.head(1)"
      ],
      "execution_count": 95,
      "outputs": [
        {
          "output_type": "execute_result",
          "data": {
            "text/html": [
              "<div>\n",
              "<style scoped>\n",
              "    .dataframe tbody tr th:only-of-type {\n",
              "        vertical-align: middle;\n",
              "    }\n",
              "\n",
              "    .dataframe tbody tr th {\n",
              "        vertical-align: top;\n",
              "    }\n",
              "\n",
              "    .dataframe thead th {\n",
              "        text-align: right;\n",
              "    }\n",
              "</style>\n",
              "<table border=\"1\" class=\"dataframe\">\n",
              "  <thead>\n",
              "    <tr style=\"text-align: right;\">\n",
              "      <th></th>\n",
              "      <th>belongs_to_collection</th>\n",
              "      <th>budget</th>\n",
              "      <th>genres</th>\n",
              "      <th>homepage</th>\n",
              "      <th>imdb_id</th>\n",
              "      <th>original_language</th>\n",
              "      <th>original_title</th>\n",
              "      <th>overview</th>\n",
              "      <th>popularity</th>\n",
              "      <th>poster_path</th>\n",
              "      <th>production_companies</th>\n",
              "      <th>production_countries</th>\n",
              "      <th>release_date</th>\n",
              "      <th>runtime</th>\n",
              "      <th>spoken_languages</th>\n",
              "      <th>status</th>\n",
              "      <th>tagline</th>\n",
              "      <th>title</th>\n",
              "      <th>Keywords</th>\n",
              "      <th>cast</th>\n",
              "      <th>crew</th>\n",
              "      <th>revenue</th>\n",
              "    </tr>\n",
              "    <tr>\n",
              "      <th>id</th>\n",
              "      <th></th>\n",
              "      <th></th>\n",
              "      <th></th>\n",
              "      <th></th>\n",
              "      <th></th>\n",
              "      <th></th>\n",
              "      <th></th>\n",
              "      <th></th>\n",
              "      <th></th>\n",
              "      <th></th>\n",
              "      <th></th>\n",
              "      <th></th>\n",
              "      <th></th>\n",
              "      <th></th>\n",
              "      <th></th>\n",
              "      <th></th>\n",
              "      <th></th>\n",
              "      <th></th>\n",
              "      <th></th>\n",
              "      <th></th>\n",
              "      <th></th>\n",
              "      <th></th>\n",
              "    </tr>\n",
              "  </thead>\n",
              "  <tbody>\n",
              "    <tr>\n",
              "      <th>1</th>\n",
              "      <td>[{'id': 313576, 'name': 'Hot Tub Time Machine ...</td>\n",
              "      <td>14000000</td>\n",
              "      <td>[{'id': 35, 'name': 'Comedy'}]</td>\n",
              "      <td>NaN</td>\n",
              "      <td>tt2637294</td>\n",
              "      <td>en</td>\n",
              "      <td>Hot Tub Time Machine 2</td>\n",
              "      <td>When Lou, who has become the \"father of the In...</td>\n",
              "      <td>6.575393</td>\n",
              "      <td>/tQtWuwvMf0hCc2QR2tkolwl7c3c.jpg</td>\n",
              "      <td>[{'name': 'Paramount Pictures', 'id': 4}, {'na...</td>\n",
              "      <td>[{'iso_3166_1': 'US', 'name': 'United States o...</td>\n",
              "      <td>2/20/15</td>\n",
              "      <td>93.0</td>\n",
              "      <td>[{'iso_639_1': 'en', 'name': 'English'}]</td>\n",
              "      <td>Released</td>\n",
              "      <td>The Laws of Space and Time are About to be Vio...</td>\n",
              "      <td>Hot Tub Time Machine 2</td>\n",
              "      <td>[{'id': 4379, 'name': 'time travel'}, {'id': 9...</td>\n",
              "      <td>[{'cast_id': 4, 'character': 'Lou', 'credit_id...</td>\n",
              "      <td>[{'credit_id': '59ac067c92514107af02c8c8', 'de...</td>\n",
              "      <td>12314651</td>\n",
              "    </tr>\n",
              "  </tbody>\n",
              "</table>\n",
              "</div>"
            ],
            "text/plain": [
              "                                belongs_to_collection  ...   revenue\n",
              "id                                                     ...          \n",
              "1   [{'id': 313576, 'name': 'Hot Tub Time Machine ...  ...  12314651\n",
              "\n",
              "[1 rows x 22 columns]"
            ]
          },
          "metadata": {
            "tags": []
          },
          "execution_count": 95
        }
      ]
    },
    {
      "cell_type": "markdown",
      "metadata": {
        "id": "NPhp8Ubnm9Eb"
      },
      "source": [
        "## Gestione Features"
      ]
    },
    {
      "cell_type": "markdown",
      "metadata": {
        "id": "85KDEc5EodZQ"
      },
      "source": [
        "\n",
        "\n",
        "*   *belongs_to_collection*: appartenenza ad una serie cinematografica\n",
        "*   *budget*: costo di produzione\n",
        "*   *genres*: generi\n",
        "*   *homepage*: link al sito web\n",
        "\n",
        "\n",
        "*   *imdb_id*: id imbd\n",
        "\n",
        "*   *original_language*: lingua originale\n",
        "\n",
        "*   *original_title*: titolo originale\n",
        "\n",
        "*   *overview*: plot\n",
        "*   *popularity*: popolarità\n",
        "*   *poster_path*: path della locandina ufficiale\n",
        "*   *production_companies*: compagnia di produzione\n",
        "*   *production_countries*: paese di produzione\n",
        "*   *release_date*: data di uscita\n",
        "*   *runtime*: durata\n",
        "*   *spoken_languages*: lingua del film\n",
        "*   *status*: stato del rilascio\n",
        "*   *tagline*: slogan film\n",
        "*   *title*: titolo\n",
        "*   *Keywords*: parole chiavi\n",
        "*   *cast*: cast\n",
        "*   *crew*: trop\n",
        "*   *revenue*: incasso del film --> variabile da predire"
      ]
    },
    {
      "cell_type": "code",
      "metadata": {
        "id": "9DI5y4Ix2HFu",
        "colab": {
          "base_uri": "https://localhost:8080/"
        },
        "outputId": "b89881cc-48bb-4c78-bf06-328961fe3867"
      },
      "source": [
        "data.info(memory_usage=\"deep\")"
      ],
      "execution_count": 96,
      "outputs": [
        {
          "output_type": "stream",
          "text": [
            "<class 'pandas.core.frame.DataFrame'>\n",
            "Int64Index: 3000 entries, 1 to 3000\n",
            "Data columns (total 22 columns):\n",
            " #   Column                 Non-Null Count  Dtype  \n",
            "---  ------                 --------------  -----  \n",
            " 0   belongs_to_collection  604 non-null    object \n",
            " 1   budget                 3000 non-null   int64  \n",
            " 2   genres                 2993 non-null   object \n",
            " 3   homepage               946 non-null    object \n",
            " 4   imdb_id                3000 non-null   object \n",
            " 5   original_language      3000 non-null   object \n",
            " 6   original_title         3000 non-null   object \n",
            " 7   overview               2992 non-null   object \n",
            " 8   popularity             3000 non-null   float64\n",
            " 9   poster_path            2999 non-null   object \n",
            " 10  production_companies   2844 non-null   object \n",
            " 11  production_countries   2945 non-null   object \n",
            " 12  release_date           3000 non-null   object \n",
            " 13  runtime                2998 non-null   float64\n",
            " 14  spoken_languages       2980 non-null   object \n",
            " 15  status                 3000 non-null   object \n",
            " 16  tagline                2403 non-null   object \n",
            " 17  title                  3000 non-null   object \n",
            " 18  Keywords               2724 non-null   object \n",
            " 19  cast                   2987 non-null   object \n",
            " 20  crew                   2984 non-null   object \n",
            " 21  revenue                3000 non-null   int64  \n",
            "dtypes: float64(2), int64(2), object(18)\n",
            "memory usage: 38.5 MB\n"
          ],
          "name": "stdout"
        }
      ]
    },
    {
      "cell_type": "code",
      "metadata": {
        "id": "4i3vhWqHhmcn",
        "colab": {
          "base_uri": "https://localhost:8080/",
          "height": 284
        },
        "outputId": "d6eb7f8a-fccd-4853-b252-03abe1fd332f"
      },
      "source": [
        "data.describe()"
      ],
      "execution_count": 97,
      "outputs": [
        {
          "output_type": "execute_result",
          "data": {
            "text/html": [
              "<div>\n",
              "<style scoped>\n",
              "    .dataframe tbody tr th:only-of-type {\n",
              "        vertical-align: middle;\n",
              "    }\n",
              "\n",
              "    .dataframe tbody tr th {\n",
              "        vertical-align: top;\n",
              "    }\n",
              "\n",
              "    .dataframe thead th {\n",
              "        text-align: right;\n",
              "    }\n",
              "</style>\n",
              "<table border=\"1\" class=\"dataframe\">\n",
              "  <thead>\n",
              "    <tr style=\"text-align: right;\">\n",
              "      <th></th>\n",
              "      <th>budget</th>\n",
              "      <th>popularity</th>\n",
              "      <th>runtime</th>\n",
              "      <th>revenue</th>\n",
              "    </tr>\n",
              "  </thead>\n",
              "  <tbody>\n",
              "    <tr>\n",
              "      <th>count</th>\n",
              "      <td>3.000000e+03</td>\n",
              "      <td>3000.000000</td>\n",
              "      <td>2998.000000</td>\n",
              "      <td>3.000000e+03</td>\n",
              "    </tr>\n",
              "    <tr>\n",
              "      <th>mean</th>\n",
              "      <td>2.253133e+07</td>\n",
              "      <td>8.463274</td>\n",
              "      <td>107.856571</td>\n",
              "      <td>6.672585e+07</td>\n",
              "    </tr>\n",
              "    <tr>\n",
              "      <th>std</th>\n",
              "      <td>3.702609e+07</td>\n",
              "      <td>12.104000</td>\n",
              "      <td>22.086434</td>\n",
              "      <td>1.375323e+08</td>\n",
              "    </tr>\n",
              "    <tr>\n",
              "      <th>min</th>\n",
              "      <td>0.000000e+00</td>\n",
              "      <td>0.000001</td>\n",
              "      <td>0.000000</td>\n",
              "      <td>1.000000e+00</td>\n",
              "    </tr>\n",
              "    <tr>\n",
              "      <th>25%</th>\n",
              "      <td>0.000000e+00</td>\n",
              "      <td>4.018053</td>\n",
              "      <td>94.000000</td>\n",
              "      <td>2.379808e+06</td>\n",
              "    </tr>\n",
              "    <tr>\n",
              "      <th>50%</th>\n",
              "      <td>8.000000e+06</td>\n",
              "      <td>7.374861</td>\n",
              "      <td>104.000000</td>\n",
              "      <td>1.680707e+07</td>\n",
              "    </tr>\n",
              "    <tr>\n",
              "      <th>75%</th>\n",
              "      <td>2.900000e+07</td>\n",
              "      <td>10.890983</td>\n",
              "      <td>118.000000</td>\n",
              "      <td>6.891920e+07</td>\n",
              "    </tr>\n",
              "    <tr>\n",
              "      <th>max</th>\n",
              "      <td>3.800000e+08</td>\n",
              "      <td>294.337037</td>\n",
              "      <td>338.000000</td>\n",
              "      <td>1.519558e+09</td>\n",
              "    </tr>\n",
              "  </tbody>\n",
              "</table>\n",
              "</div>"
            ],
            "text/plain": [
              "             budget   popularity      runtime       revenue\n",
              "count  3.000000e+03  3000.000000  2998.000000  3.000000e+03\n",
              "mean   2.253133e+07     8.463274   107.856571  6.672585e+07\n",
              "std    3.702609e+07    12.104000    22.086434  1.375323e+08\n",
              "min    0.000000e+00     0.000001     0.000000  1.000000e+00\n",
              "25%    0.000000e+00     4.018053    94.000000  2.379808e+06\n",
              "50%    8.000000e+06     7.374861   104.000000  1.680707e+07\n",
              "75%    2.900000e+07    10.890983   118.000000  6.891920e+07\n",
              "max    3.800000e+08   294.337037   338.000000  1.519558e+09"
            ]
          },
          "metadata": {
            "tags": []
          },
          "execution_count": 97
        }
      ]
    },
    {
      "cell_type": "markdown",
      "metadata": {
        "id": "UqtDnq0x9qBz"
      },
      "source": [
        "Verifichiamo la presenza di valori null\n"
      ]
    },
    {
      "cell_type": "code",
      "metadata": {
        "id": "QZraRfXXRoya",
        "colab": {
          "base_uri": "https://localhost:8080/"
        },
        "outputId": "9943f6f9-f8a0-4e0c-d9d6-6d648fe7a1a1"
      },
      "source": [
        "data.isnull().sum()"
      ],
      "execution_count": 98,
      "outputs": [
        {
          "output_type": "execute_result",
          "data": {
            "text/plain": [
              "belongs_to_collection    2396\n",
              "budget                      0\n",
              "genres                      7\n",
              "homepage                 2054\n",
              "imdb_id                     0\n",
              "original_language           0\n",
              "original_title              0\n",
              "overview                    8\n",
              "popularity                  0\n",
              "poster_path                 1\n",
              "production_companies      156\n",
              "production_countries       55\n",
              "release_date                0\n",
              "runtime                     2\n",
              "spoken_languages           20\n",
              "status                      0\n",
              "tagline                   597\n",
              "title                       0\n",
              "Keywords                  276\n",
              "cast                       13\n",
              "crew                       16\n",
              "revenue                     0\n",
              "dtype: int64"
            ]
          },
          "metadata": {
            "tags": []
          },
          "execution_count": 98
        }
      ]
    },
    {
      "cell_type": "code",
      "metadata": {
        "id": "cSbaMYPOfFKy",
        "outputId": "7c0a6169-eaa0-48a9-9343-4b588bfbcb1b",
        "colab": {
          "base_uri": "https://localhost:8080/"
        }
      },
      "source": [
        "test.isnull().sum()"
      ],
      "execution_count": 99,
      "outputs": [
        {
          "output_type": "execute_result",
          "data": {
            "text/plain": [
              "belongs_to_collection    3521\n",
              "budget                      0\n",
              "genres                     16\n",
              "homepage                 2978\n",
              "imdb_id                     0\n",
              "original_language           0\n",
              "original_title              0\n",
              "overview                   14\n",
              "popularity                  0\n",
              "poster_path                 1\n",
              "production_companies      258\n",
              "production_countries      102\n",
              "release_date                1\n",
              "runtime                     4\n",
              "spoken_languages           42\n",
              "status                      2\n",
              "tagline                   863\n",
              "title                       3\n",
              "Keywords                  393\n",
              "cast                       13\n",
              "crew                       22\n",
              "dtype: int64"
            ]
          },
          "metadata": {
            "tags": []
          },
          "execution_count": 99
        }
      ]
    },
    {
      "cell_type": "markdown",
      "metadata": {
        "id": "juJ93ljGskjZ"
      },
      "source": [
        "Analizziamo le features individualmente ed eventualmente evidenziamo eventuali rapporti tra esse o con la variabile target"
      ]
    },
    {
      "cell_type": "markdown",
      "metadata": {
        "id": "9uC2dmMKuXwl"
      },
      "source": [
        " Notiamo che **Belongs_to_collection** e **Homepage** presentano una preponderanza di valori null. Si decide perciò di binarizzarle attraverso il quesito \"Is Present?\" in quanto sono features che potrebbero risultare particolarmente utili durante l'addestramento."
      ]
    },
    {
      "cell_type": "code",
      "metadata": {
        "id": "jN8hOOSMv66q"
      },
      "source": [
        "data['belongs_to_a_collection'] = data['belongs_to_collection'].apply(lambda x: 0 if pd.isna(x) else 1)\n",
        "data = data.drop(columns='belongs_to_collection')\n",
        "\n",
        "data['homepage_is_present'] = data['homepage'].apply(lambda x: 0 if pd.isna(x) else 1)\n",
        "data = data.drop(columns='homepage')\n",
        "\n"
      ],
      "execution_count": 100,
      "outputs": []
    },
    {
      "cell_type": "code",
      "metadata": {
        "id": "6g-L98JxJvTv"
      },
      "source": [
        "test['belongs_to_a_collection'] = test['belongs_to_collection'].apply(lambda x: 0 if pd.isna(x) else 1)\n",
        "test = test.drop(columns='belongs_to_collection')\n",
        "\n",
        "test['homepage_is_present'] = test['homepage'].apply(lambda x: 0 if pd.isna(x) else 1)\n",
        "test = test.drop(columns='homepage')"
      ],
      "execution_count": 101,
      "outputs": []
    },
    {
      "cell_type": "markdown",
      "metadata": {
        "id": "o7yJOctxfvMf"
      },
      "source": [
        "**Budget**\n",
        "\n"
      ]
    },
    {
      "cell_type": "markdown",
      "metadata": {
        "id": "P7J2_H1-8ha0"
      },
      "source": [
        "Osserviamo la distribuzione del budget e della sua funzione logaritmica in modo da uniformare il piu' possibile i dati."
      ]
    },
    {
      "cell_type": "code",
      "metadata": {
        "colab": {
          "base_uri": "https://localhost:8080/",
          "height": 278
        },
        "id": "UZU0i4xa9o3J",
        "outputId": "2b1d6049-81a4-4405-c04a-63b5c0657362"
      },
      "source": [
        "plt.figure(figsize=(15, 4))\n",
        "plt.subplot(1, 2, 1).hist(data.budget,50)\n",
        "plt.subplot(1, 2, 2).hist(np.log1p(data.budget),50);\n",
        "\n"
      ],
      "execution_count": 102,
      "outputs": [
        {
          "output_type": "display_data",
          "data": {
            "image/png": "[encoded data removed]",
            "text/plain": [
              "<Figure size 1080x288 with 2 Axes>"
            ]
          },
          "metadata": {
            "tags": [],
            "needs_background": "light"
          }
        }
      ]
    },
    {
      "cell_type": "code",
      "metadata": {
        "colab": {
          "base_uri": "https://localhost:8080/"
        },
        "id": "5ClrEF5t-vGV",
        "outputId": "2fd97d86-a491-4016-f6ac-ec6d3d0ef357"
      },
      "source": [
        "data.budget[data.budget>1000000].count()"
      ],
      "execution_count": 103,
      "outputs": [
        {
          "output_type": "execute_result",
          "data": {
            "text/plain": [
              "2012"
            ]
          },
          "metadata": {
            "tags": []
          },
          "execution_count": 103
        }
      ]
    },
    {
      "cell_type": "markdown",
      "metadata": {
        "id": "_soVj16QDQXs"
      },
      "source": [
        "La quasi totalità dei valori non nulli sono superiori al milione, perciò possiamo togliere le righe con valori inferiori, oppure usare la media dei valori superiori. Si opta per la seconda soluzione a causa della ridotta disponibilità di dati."
      ]
    },
    {
      "cell_type": "code",
      "metadata": {
        "id": "NYb1iqh2-887"
      },
      "source": [
        ""
      ],
      "execution_count": 103,
      "outputs": []
    },
    {
      "cell_type": "code",
      "metadata": {
        "id": "ClW-ggqyllAP"
      },
      "source": [
        "#data.budget[data.budget<1000000] = data.budget[data.budget>1000000].mean();\n",
        "data = data[data.budget > 1000000]\n"
      ],
      "execution_count": 104,
      "outputs": []
    },
    {
      "cell_type": "code",
      "metadata": {
        "colab": {
          "base_uri": "https://localhost:8080/",
          "height": 278
        },
        "id": "TthG0IotCijV",
        "outputId": "bb868b5c-fbfd-46e2-fa9d-850e65275e6e"
      },
      "source": [
        "plt.figure(figsize=(15, 4))\n",
        "plt.subplot(1, 2, 1).hist(data.budget,50)\n",
        "plt.subplot(1, 2, 2).hist(np.log1p(data.budget),50);"
      ],
      "execution_count": 105,
      "outputs": [
        {
          "output_type": "display_data",
          "data": {
            "image/png": "[encoded data removed]",
            "text/plain": [
              "<Figure size 1080x288 with 2 Axes>"
            ]
          },
          "metadata": {
            "tags": [],
            "needs_background": "light"
          }
        }
      ]
    },
    {
      "cell_type": "markdown",
      "metadata": {
        "id": "I65xlp0S6HbC"
      },
      "source": [
        "**Budget** è l'unica feature che presenta delle caratteristiche simili alla variabile target **revenue**, perciò si decide di verificare un'eventuale correlazione tra le due"
      ]
    },
    {
      "cell_type": "code",
      "metadata": {
        "id": "0Q8_5MOgRM1R",
        "outputId": "09cb6010-1ae1-490d-918a-c90c04d57299",
        "colab": {
          "base_uri": "https://localhost:8080/",
          "height": 282
        }
      },
      "source": [
        "plt.figure(figsize=(15, 4))\n",
        "plt.subplot(1, 2, 1).hist(data.revenue,50)\n",
        "plt.subplot(1, 2, 2).hist(np.log(data.revenue),50);"
      ],
      "execution_count": 106,
      "outputs": [
        {
          "output_type": "display_data",
          "data": {
            "image/png": "[encoded data removed]",
            "text/plain": [
              "<Figure size 1080x288 with 2 Axes>"
            ]
          },
          "metadata": {
            "tags": [],
            "needs_background": "light"
          }
        }
      ]
    },
    {
      "cell_type": "code",
      "metadata": {
        "id": "XsAc5Dm56hV5",
        "colab": {
          "base_uri": "https://localhost:8080/",
          "height": 289
        },
        "outputId": "e038f86f-f7fe-45d4-bc9d-0a5fe1ef316b"
      },
      "source": [
        "plt.figure(figsize=(15, 4))\n",
        "plt.subplot(1, 2, 1).scatter(data.budget, data.revenue);\n",
        "plt.subplot(1, 2, 2).scatter(np.log1p(data.budget), np.log1p(data.revenue));\n"
      ],
      "execution_count": 107,
      "outputs": [
        {
          "output_type": "display_data",
          "data": {
            "image/png": "[encoded data removed]",
            "text/plain": [
              "<Figure size 1080x288 with 2 Axes>"
            ]
          },
          "metadata": {
            "tags": [],
            "needs_background": "light"
          }
        }
      ]
    },
    {
      "cell_type": "code",
      "metadata": {
        "id": "HFHIQqHwVxfc",
        "colab": {
          "base_uri": "https://localhost:8080/"
        },
        "outputId": "a63214a8-6988-4968-cdba-4d0148329e7e"
      },
      "source": [
        "np.mean((data.budget-data.budget.mean()) * (data.revenue-data.revenue.mean())) / (data.budget.std() * data.revenue.std())"
      ],
      "execution_count": 108,
      "outputs": [
        {
          "output_type": "execute_result",
          "data": {
            "text/plain": [
              "0.7336418909776768"
            ]
          },
          "metadata": {
            "tags": []
          },
          "execution_count": 108
        }
      ]
    },
    {
      "cell_type": "code",
      "metadata": {
        "id": "XRFEJCAhWZ1p"
      },
      "source": [
        "#np.mean((np.log1p(data.budget)-np.log1p(data.budget).mean()) * (np.log1p(data.revenue)-np.log1p(data.revenue).mean())) / (np.log1p(data.budget).std() * np.log1p(data.revenue).std())"
      ],
      "execution_count": 109,
      "outputs": []
    },
    {
      "cell_type": "markdown",
      "metadata": {
        "id": "KtL5_aWpFNzq"
      },
      "source": [
        "Usando la correlazione di Pearson si ottiene una buona correlazione tra le due variabili"
      ]
    },
    {
      "cell_type": "markdown",
      "metadata": {
        "id": "vDaQEyW4XG7y"
      },
      "source": [
        "**Genres**"
      ]
    },
    {
      "cell_type": "markdown",
      "metadata": {
        "id": "QhkmwnSYGvgr"
      },
      "source": [
        "Il genere è la prima feature di tipo dizionario. I valori distinti sono limitati, perciò si procede con la binarizzazione di tutti gli elementi"
      ]
    },
    {
      "cell_type": "code",
      "metadata": {
        "id": "-rpvbGsqdQwY"
      },
      "source": [
        "data[\"genres\"] = (data['genres'].apply(lambda x: [i['name'] for i in eval(x)] if str(x) != 'nan' else []).values)\n",
        "list_of_genres = {i for x in data.genres for i in x}\n",
        "for genre in list_of_genres:\n",
        "  data[\"genre_\" + genre] = data['genres'].apply(lambda x: 1 if genre in x else 0)\n",
        "\n",
        "\n",
        "\n",
        "data.drop(columns='genres',inplace=True)\n",
        "\n"
      ],
      "execution_count": 110,
      "outputs": []
    },
    {
      "cell_type": "code",
      "metadata": {
        "id": "WWPcLyb3J9Lf"
      },
      "source": [
        "test[\"genres\"] = (test['genres'].apply(lambda x: [i['name'] for i in eval(x)] if str(x) != 'nan' else []).values)\n",
        "\n",
        "for genre in list_of_genres:\n",
        "  test[\"genre_\" + genre] = test['genres'].apply(lambda x: 1 if genre in x else 0)\n",
        "\n",
        "\n",
        "\n",
        "test.drop(columns='genres',inplace=True)\n"
      ],
      "execution_count": 111,
      "outputs": []
    },
    {
      "cell_type": "markdown",
      "metadata": {
        "id": "R7J9LiklRKeR"
      },
      "source": [
        "Per quanto riguara le features **imdb_id, 'original_title', 'status', 'poster_path'** e **title** di eliminarle in quanto poco significative"
      ]
    },
    {
      "cell_type": "code",
      "metadata": {
        "id": "WzWuyejfRJ6A"
      },
      "source": [
        "data.drop(columns=['imdb_id','original_title','status','poster_path', 'title'], inplace=True)\n",
        "test.drop(columns=['imdb_id','original_title','status','poster_path', 'title'], inplace=True)"
      ],
      "execution_count": 112,
      "outputs": []
    },
    {
      "cell_type": "markdown",
      "metadata": {
        "id": "qEpx_plu5Ucp"
      },
      "source": [
        "**Original_language**\n",
        "\n"
      ]
    },
    {
      "cell_type": "code",
      "metadata": {
        "id": "AXiY4AQzNUNx",
        "colab": {
          "base_uri": "https://localhost:8080/",
          "height": 248
        },
        "outputId": "a8f6c59e-bd1d-4a81-eb74-77a86bfe8e88"
      },
      "source": [
        "data.original_language.value_counts(normalize=True).head(5).plot.pie();\n"
      ],
      "execution_count": 113,
      "outputs": [
        {
          "output_type": "display_data",
          "data": {
            "image/png": "[encoded data removed]",
            "text/plain": [
              "<Figure size 432x288 with 1 Axes>"
            ]
          },
          "metadata": {
            "tags": []
          }
        }
      ]
    },
    {
      "cell_type": "markdown",
      "metadata": {
        "id": "fVkGkGyN5-04"
      },
      "source": [
        "Per quanto a primo impatto potesse risultare un dato interessante, la maggior parte dei film sono in inglese, quindi risulterebbero inutili in fase di addestramento. Lo stesso ragionamento vale per **spoken_language**\n",
        "Un discorso diverso invece va fatto con **popularity**. Non avendo certezza del fatto che il rating di popolarità sia antecedente alla fuoriuscita dei film, si decide cancellare la colonna assieme alle altre."
      ]
    },
    {
      "cell_type": "code",
      "metadata": {
        "id": "5tjWe0SW6RTO"
      },
      "source": [
        "#data.drop(columns= ['original_language','spoken_languages', 'popularity'], inplace=True)\n",
        "data.drop(columns= ['original_language','spoken_languages'], inplace=True)\n",
        "test.drop(columns= ['original_language','spoken_languages'], inplace=True)"
      ],
      "execution_count": 114,
      "outputs": []
    },
    {
      "cell_type": "markdown",
      "metadata": {
        "id": "9fItUK-EC3_K"
      },
      "source": [
        "**Keywords**"
      ]
    },
    {
      "cell_type": "code",
      "metadata": {
        "colab": {
          "base_uri": "https://localhost:8080/"
        },
        "id": "83cdkU-NK-He",
        "outputId": "a8935f64-8f22-4c05-970a-2a6b2163d76f"
      },
      "source": [
        "data.Keywords.head()"
      ],
      "execution_count": 115,
      "outputs": [
        {
          "output_type": "execute_result",
          "data": {
            "text/plain": [
              "id\n",
              "1    [{'id': 4379, 'name': 'time travel'}, {'id': 9...\n",
              "2    [{'id': 2505, 'name': 'coronation'}, {'id': 42...\n",
              "3    [{'id': 1416, 'name': 'jazz'}, {'id': 1523, 'n...\n",
              "4    [{'id': 10092, 'name': 'mystery'}, {'id': 1054...\n",
              "6                                                  NaN\n",
              "Name: Keywords, dtype: object"
            ]
          },
          "metadata": {
            "tags": []
          },
          "execution_count": 115
        }
      ]
    },
    {
      "cell_type": "markdown",
      "metadata": {
        "id": "htTLRArXOGcv"
      },
      "source": [
        "**tagline** e **overview** svolgono la stessa funzione di **Keywords**, e cioè l'estrazione di parole chiavi da da associare a ciascun film. Si procede ad eliminarle."
      ]
    },
    {
      "cell_type": "code",
      "metadata": {
        "id": "AsGeaw8jlHaA"
      },
      "source": [
        "data.drop(columns=['overview', 'tagline'], inplace=True)\n",
        "test.drop(columns=['overview', 'tagline'], inplace=True)\n"
      ],
      "execution_count": 116,
      "outputs": []
    },
    {
      "cell_type": "markdown",
      "metadata": {
        "id": "9NZuq-deKzqZ"
      },
      "source": [
        "Si definisce una funzione per l'estrazione dei nomi dai dizionari, la selezione dei 100 nomi piu' diffusi e la loro binarizzazione."
      ]
    },
    {
      "cell_type": "code",
      "metadata": {
        "id": "bF115f_Cjsp4"
      },
      "source": [
        "def cut_and_binariezed(feature):\n",
        "  data[feature] = (data[feature].apply(lambda x: [i['name'] for i in eval(x)] if str(x) != 'nan' else []).values)\n",
        "\n",
        "  test[feature] = (test[feature].apply(lambda x: [i['name'] for i in eval(x)] if str(x) != 'nan' else []).values)\n",
        "\n",
        "  all_values = pd.DataFrame([i for x in data[feature] for i in x])\n",
        "  \n",
        "  split = all_values.value_counts()[:10]\n",
        "  for keys in split.index:\n",
        "      data[feature+\" (\" + keys[0]+ \")\"] = data[feature].apply(lambda x: 1 if keys[0] in x else 0)\n",
        "  data.drop(columns=feature,inplace=True) \n",
        "\n",
        "  for keys in split.index:\n",
        "      test[feature+\" (\" + keys[0]+ \")\"] = test[feature].apply(lambda x: 1 if keys[0] in x else 0)\n",
        "  test.drop(columns=feature,inplace=True)\n"
      ],
      "execution_count": 117,
      "outputs": []
    },
    {
      "cell_type": "code",
      "metadata": {
        "id": "mF-bc4xvk2UX"
      },
      "source": [
        "cut_and_binariezed(\"Keywords\")"
      ],
      "execution_count": 118,
      "outputs": []
    },
    {
      "cell_type": "code",
      "metadata": {
        "id": "zoypTwf4MyvK"
      },
      "source": [
        ""
      ],
      "execution_count": 118,
      "outputs": []
    },
    {
      "cell_type": "markdown",
      "metadata": {
        "id": "MgSx8azJoVjT"
      },
      "source": [
        "Si procede allo stesso modo con **cast**,**crew**,  **production_companies** e **production_countries**"
      ]
    },
    {
      "cell_type": "code",
      "metadata": {
        "id": "a0u06DpbMhIw"
      },
      "source": [
        "for feature in [\"cast\",\"crew\", \"production_companies\",\"production_countries\"]:\n",
        "  cut_and_binariezed(feature)"
      ],
      "execution_count": 119,
      "outputs": []
    },
    {
      "cell_type": "code",
      "metadata": {
        "id": "00GUoiFQKgvZ"
      },
      "source": [
        ""
      ],
      "execution_count": 119,
      "outputs": []
    },
    {
      "cell_type": "markdown",
      "metadata": {
        "id": "z_faghSxCerW"
      },
      "source": [
        "**Release Date**"
      ]
    },
    {
      "cell_type": "markdown",
      "metadata": {
        "id": "VR_O0Yb1SoB9"
      },
      "source": [
        "Vengono create 3 feature rappresentanti giorno,mese, anno"
      ]
    },
    {
      "cell_type": "code",
      "metadata": {
        "id": "Dkgktd56I5hJ"
      },
      "source": [
        "data[['release_month', 'release_day', 'release_year']] = data['release_date'].str.split('/', expand=True).astype(int)"
      ],
      "execution_count": 120,
      "outputs": []
    },
    {
      "cell_type": "code",
      "metadata": {
        "id": "JDjICKBSc_xD"
      },
      "source": [
        "test.release_date.fillna(\"01/01/01\", inplace=True)"
      ],
      "execution_count": 121,
      "outputs": []
    },
    {
      "cell_type": "code",
      "metadata": {
        "id": "i4Z-JyTEd1zW",
        "outputId": "1cf40aac-53fc-4741-ac1b-f5d1a72b2736",
        "colab": {
          "base_uri": "https://localhost:8080/"
        }
      },
      "source": [
        "test.release_date.notna().value_counts()"
      ],
      "execution_count": 122,
      "outputs": [
        {
          "output_type": "execute_result",
          "data": {
            "text/plain": [
              "True    4398\n",
              "Name: release_date, dtype: int64"
            ]
          },
          "metadata": {
            "tags": []
          },
          "execution_count": 122
        }
      ]
    },
    {
      "cell_type": "code",
      "metadata": {
        "id": "K7QetTCWKpcG"
      },
      "source": [
        "test[['release_month', 'release_day', 'release_year']] = test['release_date'].str.split('/', expand=True).astype(int)"
      ],
      "execution_count": 123,
      "outputs": []
    },
    {
      "cell_type": "code",
      "metadata": {
        "id": "I-amGIBo_A50",
        "colab": {
          "base_uri": "https://localhost:8080/",
          "height": 228
        },
        "outputId": "d710bac6-1c8e-4011-9dd9-e2c74c108bbb"
      },
      "source": [
        "plt.figure(figsize=(12, 3))\n",
        "plt.subplot(1, 3, 1).bar(data.release_month.value_counts().index,data.release_month.value_counts().values)\n",
        "plt.subplot(1, 3, 2).bar(data.release_day.value_counts().index,data.release_day.value_counts().values)\n",
        "plt.subplot(1, 3, 3).bar(data.release_year.value_counts().index,data.release_year.value_counts().values)\n"
      ],
      "execution_count": 124,
      "outputs": [
        {
          "output_type": "execute_result",
          "data": {
            "text/plain": [
              "<BarContainer object of 76 artists>"
            ]
          },
          "metadata": {
            "tags": []
          },
          "execution_count": 124
        },
        {
          "output_type": "display_data",
          "data": {
            "image/png": "[encoded data removed]",
            "text/plain": [
              "<Figure size 864x216 with 3 Axes>"
            ]
          },
          "metadata": {
            "tags": [],
            "needs_background": "light"
          }
        }
      ]
    },
    {
      "cell_type": "markdown",
      "metadata": {
        "id": "GCRIzjbjTPmx"
      },
      "source": [
        "Alcuni valori della feature **release_year** presentano solo le ultime cifre, perciò vanno uniformate "
      ]
    },
    {
      "cell_type": "code",
      "metadata": {
        "colab": {
          "base_uri": "https://localhost:8080/",
          "height": 228
        },
        "id": "IxpmCUDvROrA",
        "outputId": "a92e2679-1c9f-4a1a-e211-2fbd230a82f3"
      },
      "source": [
        "data[\"release_year\"]=data['release_year'].map(lambda x: 2000 + x if x < 20 else (x+1900 if x<100 else x))\n",
        "plt.figure(figsize=(12, 3))\n",
        "plt.subplot(1, 3, 1).bar(data.release_month.value_counts().index,data.release_month.value_counts().values)\n",
        "plt.subplot(1, 3, 2).bar(data.release_day.value_counts().index,data.release_day.value_counts().values)\n",
        "plt.subplot(1, 3, 3).bar(data.release_year.value_counts().index,data.release_year.value_counts().values)"
      ],
      "execution_count": 125,
      "outputs": [
        {
          "output_type": "execute_result",
          "data": {
            "text/plain": [
              "<BarContainer object of 76 artists>"
            ]
          },
          "metadata": {
            "tags": []
          },
          "execution_count": 125
        },
        {
          "output_type": "display_data",
          "data": {
            "image/png": "[encoded data removed]",
            "text/plain": [
              "<Figure size 864x216 with 3 Axes>"
            ]
          },
          "metadata": {
            "tags": [],
            "needs_background": "light"
          }
        }
      ]
    },
    {
      "cell_type": "code",
      "metadata": {
        "id": "D-EWagRkKul2"
      },
      "source": [
        "test[\"release_year\"]=test['release_year'].map(lambda x: 2000 + x if x < 20 else (x+1900 if x<100 else x))\n",
        "test.drop(columns='release_date', inplace=True)"
      ],
      "execution_count": 126,
      "outputs": []
    },
    {
      "cell_type": "code",
      "metadata": {
        "id": "oNDBKnk7faFp"
      },
      "source": [
        "data.drop(columns='release_date', inplace=True)"
      ],
      "execution_count": 127,
      "outputs": []
    },
    {
      "cell_type": "code",
      "metadata": {
        "id": "mJSEKwgLH3pN",
        "colab": {
          "base_uri": "https://localhost:8080/",
          "height": 177
        },
        "outputId": "b0b61f43-e543-42e9-ec6c-c543082b4ff4"
      },
      "source": [
        "data.head(1)"
      ],
      "execution_count": 128,
      "outputs": [
        {
          "output_type": "execute_result",
          "data": {
            "text/html": [
              "<div>\n",
              "<style scoped>\n",
              "    .dataframe tbody tr th:only-of-type {\n",
              "        vertical-align: middle;\n",
              "    }\n",
              "\n",
              "    .dataframe tbody tr th {\n",
              "        vertical-align: top;\n",
              "    }\n",
              "\n",
              "    .dataframe thead th {\n",
              "        text-align: right;\n",
              "    }\n",
              "</style>\n",
              "<table border=\"1\" class=\"dataframe\">\n",
              "  <thead>\n",
              "    <tr style=\"text-align: right;\">\n",
              "      <th></th>\n",
              "      <th>budget</th>\n",
              "      <th>popularity</th>\n",
              "      <th>runtime</th>\n",
              "      <th>revenue</th>\n",
              "      <th>belongs_to_a_collection</th>\n",
              "      <th>homepage_is_present</th>\n",
              "      <th>genre_Animation</th>\n",
              "      <th>genre_Music</th>\n",
              "      <th>genre_War</th>\n",
              "      <th>genre_Romance</th>\n",
              "      <th>genre_Comedy</th>\n",
              "      <th>genre_TV Movie</th>\n",
              "      <th>genre_Drama</th>\n",
              "      <th>genre_Mystery</th>\n",
              "      <th>genre_Western</th>\n",
              "      <th>genre_Documentary</th>\n",
              "      <th>genre_Foreign</th>\n",
              "      <th>genre_Thriller</th>\n",
              "      <th>genre_Action</th>\n",
              "      <th>genre_Science Fiction</th>\n",
              "      <th>genre_Adventure</th>\n",
              "      <th>genre_History</th>\n",
              "      <th>genre_Fantasy</th>\n",
              "      <th>genre_Family</th>\n",
              "      <th>genre_Crime</th>\n",
              "      <th>genre_Horror</th>\n",
              "      <th>Keywords (duringcreditsstinger)</th>\n",
              "      <th>Keywords (woman director)</th>\n",
              "      <th>Keywords (murder)</th>\n",
              "      <th>Keywords (based on novel)</th>\n",
              "      <th>Keywords (independent film)</th>\n",
              "      <th>Keywords (violence)</th>\n",
              "      <th>Keywords (dystopia)</th>\n",
              "      <th>Keywords (aftercreditsstinger)</th>\n",
              "      <th>Keywords (sport)</th>\n",
              "      <th>Keywords (revenge)</th>\n",
              "      <th>cast (Samuel L. Jackson)</th>\n",
              "      <th>cast (Bruce Willis)</th>\n",
              "      <th>cast (J.K. Simmons)</th>\n",
              "      <th>cast (Morgan Freeman)</th>\n",
              "      <th>cast (Bruce McGill)</th>\n",
              "      <th>cast (Robert De Niro)</th>\n",
              "      <th>cast (Nicolas Cage)</th>\n",
              "      <th>cast (Jason Statham)</th>\n",
              "      <th>cast (Owen Wilson)</th>\n",
              "      <th>cast (George Clooney)</th>\n",
              "      <th>crew (Robert Rodriguez)</th>\n",
              "      <th>crew (Avy Kaufman)</th>\n",
              "      <th>crew (James Newton Howard)</th>\n",
              "      <th>crew (Francine Maisler)</th>\n",
              "      <th>crew (Deborah Aquila)</th>\n",
              "      <th>crew (Steven Spielberg)</th>\n",
              "      <th>crew (Mary Vernieu)</th>\n",
              "      <th>crew (Jerry Goldsmith)</th>\n",
              "      <th>crew (Luc Besson)</th>\n",
              "      <th>crew (Tricia Wood)</th>\n",
              "      <th>production_companies (Warner Bros.)</th>\n",
              "      <th>production_companies (Universal Pictures)</th>\n",
              "      <th>production_companies (Paramount Pictures)</th>\n",
              "      <th>production_companies (Twentieth Century Fox Film Corporation)</th>\n",
              "      <th>production_companies (Columbia Pictures)</th>\n",
              "      <th>production_companies (New Line Cinema)</th>\n",
              "      <th>production_companies (Metro-Goldwyn-Mayer (MGM))</th>\n",
              "      <th>production_companies (Walt Disney Pictures)</th>\n",
              "      <th>production_companies (Touchstone Pictures)</th>\n",
              "      <th>production_companies (Columbia Pictures Corporation)</th>\n",
              "      <th>production_countries (United States of America)</th>\n",
              "      <th>production_countries (United Kingdom)</th>\n",
              "      <th>production_countries (France)</th>\n",
              "      <th>production_countries (Germany)</th>\n",
              "      <th>production_countries (Canada)</th>\n",
              "      <th>production_countries (India)</th>\n",
              "      <th>production_countries (Australia)</th>\n",
              "      <th>production_countries (Italy)</th>\n",
              "      <th>production_countries (China)</th>\n",
              "      <th>production_countries (Russia)</th>\n",
              "      <th>release_month</th>\n",
              "      <th>release_day</th>\n",
              "      <th>release_year</th>\n",
              "    </tr>\n",
              "    <tr>\n",
              "      <th>id</th>\n",
              "      <th></th>\n",
              "      <th></th>\n",
              "      <th></th>\n",
              "      <th></th>\n",
              "      <th></th>\n",
              "      <th></th>\n",
              "      <th></th>\n",
              "      <th></th>\n",
              "      <th></th>\n",
              "      <th></th>\n",
              "      <th></th>\n",
              "      <th></th>\n",
              "      <th></th>\n",
              "      <th></th>\n",
              "      <th></th>\n",
              "      <th></th>\n",
              "      <th></th>\n",
              "      <th></th>\n",
              "      <th></th>\n",
              "      <th></th>\n",
              "      <th></th>\n",
              "      <th></th>\n",
              "      <th></th>\n",
              "      <th></th>\n",
              "      <th></th>\n",
              "      <th></th>\n",
              "      <th></th>\n",
              "      <th></th>\n",
              "      <th></th>\n",
              "      <th></th>\n",
              "      <th></th>\n",
              "      <th></th>\n",
              "      <th></th>\n",
              "      <th></th>\n",
              "      <th></th>\n",
              "      <th></th>\n",
              "      <th></th>\n",
              "      <th></th>\n",
              "      <th></th>\n",
              "      <th></th>\n",
              "      <th></th>\n",
              "      <th></th>\n",
              "      <th></th>\n",
              "      <th></th>\n",
              "      <th></th>\n",
              "      <th></th>\n",
              "      <th></th>\n",
              "      <th></th>\n",
              "      <th></th>\n",
              "      <th></th>\n",
              "      <th></th>\n",
              "      <th></th>\n",
              "      <th></th>\n",
              "      <th></th>\n",
              "      <th></th>\n",
              "      <th></th>\n",
              "      <th></th>\n",
              "      <th></th>\n",
              "      <th></th>\n",
              "      <th></th>\n",
              "      <th></th>\n",
              "      <th></th>\n",
              "      <th></th>\n",
              "      <th></th>\n",
              "      <th></th>\n",
              "      <th></th>\n",
              "      <th></th>\n",
              "      <th></th>\n",
              "      <th></th>\n",
              "      <th></th>\n",
              "      <th></th>\n",
              "      <th></th>\n",
              "      <th></th>\n",
              "      <th></th>\n",
              "      <th></th>\n",
              "      <th></th>\n",
              "      <th></th>\n",
              "      <th></th>\n",
              "      <th></th>\n",
              "    </tr>\n",
              "  </thead>\n",
              "  <tbody>\n",
              "    <tr>\n",
              "      <th>1</th>\n",
              "      <td>14000000</td>\n",
              "      <td>6.575393</td>\n",
              "      <td>93.0</td>\n",
              "      <td>12314651</td>\n",
              "      <td>1</td>\n",
              "      <td>0</td>\n",
              "      <td>0</td>\n",
              "      <td>0</td>\n",
              "      <td>0</td>\n",
              "      <td>0</td>\n",
              "      <td>1</td>\n",
              "      <td>0</td>\n",
              "      <td>0</td>\n",
              "      <td>0</td>\n",
              "      <td>0</td>\n",
              "      <td>0</td>\n",
              "      <td>0</td>\n",
              "      <td>0</td>\n",
              "      <td>0</td>\n",
              "      <td>0</td>\n",
              "      <td>0</td>\n",
              "      <td>0</td>\n",
              "      <td>0</td>\n",
              "      <td>0</td>\n",
              "      <td>0</td>\n",
              "      <td>0</td>\n",
              "      <td>1</td>\n",
              "      <td>0</td>\n",
              "      <td>0</td>\n",
              "      <td>0</td>\n",
              "      <td>0</td>\n",
              "      <td>0</td>\n",
              "      <td>0</td>\n",
              "      <td>0</td>\n",
              "      <td>0</td>\n",
              "      <td>0</td>\n",
              "      <td>0</td>\n",
              "      <td>0</td>\n",
              "      <td>0</td>\n",
              "      <td>0</td>\n",
              "      <td>0</td>\n",
              "      <td>0</td>\n",
              "      <td>0</td>\n",
              "      <td>0</td>\n",
              "      <td>0</td>\n",
              "      <td>0</td>\n",
              "      <td>0</td>\n",
              "      <td>0</td>\n",
              "      <td>0</td>\n",
              "      <td>0</td>\n",
              "      <td>0</td>\n",
              "      <td>0</td>\n",
              "      <td>0</td>\n",
              "      <td>0</td>\n",
              "      <td>0</td>\n",
              "      <td>0</td>\n",
              "      <td>0</td>\n",
              "      <td>0</td>\n",
              "      <td>1</td>\n",
              "      <td>0</td>\n",
              "      <td>0</td>\n",
              "      <td>0</td>\n",
              "      <td>1</td>\n",
              "      <td>0</td>\n",
              "      <td>0</td>\n",
              "      <td>0</td>\n",
              "      <td>1</td>\n",
              "      <td>0</td>\n",
              "      <td>0</td>\n",
              "      <td>0</td>\n",
              "      <td>0</td>\n",
              "      <td>0</td>\n",
              "      <td>0</td>\n",
              "      <td>0</td>\n",
              "      <td>0</td>\n",
              "      <td>0</td>\n",
              "      <td>2</td>\n",
              "      <td>20</td>\n",
              "      <td>2015</td>\n",
              "    </tr>\n",
              "  </tbody>\n",
              "</table>\n",
              "</div>"
            ],
            "text/plain": [
              "      budget  popularity  runtime  ...  release_month  release_day  release_year\n",
              "id                                 ...                                          \n",
              "1   14000000    6.575393     93.0  ...              2           20          2015\n",
              "\n",
              "[1 rows x 79 columns]"
            ]
          },
          "metadata": {
            "tags": []
          },
          "execution_count": 128
        }
      ]
    },
    {
      "cell_type": "markdown",
      "metadata": {
        "id": "F0FXcSE9a9Gt"
      },
      "source": [
        "**Runtime**"
      ]
    },
    {
      "cell_type": "code",
      "metadata": {
        "id": "-8BonzeNIO1m",
        "colab": {
          "base_uri": "https://localhost:8080/",
          "height": 307
        },
        "outputId": "4bb1fc36-de64-40cc-8082-ee5ef0df3ad5"
      },
      "source": [
        "data.plot.scatter(\"runtime\", \"revenue\")"
      ],
      "execution_count": 129,
      "outputs": [
        {
          "output_type": "execute_result",
          "data": {
            "text/plain": [
              "<matplotlib.axes._subplots.AxesSubplot at 0x7f7b20718b10>"
            ]
          },
          "metadata": {
            "tags": []
          },
          "execution_count": 129
        },
        {
          "output_type": "display_data",
          "data": {
            "image/png": "[encoded data removed]",
            "text/plain": [
              "<Figure size 432x288 with 1 Axes>"
            ]
          },
          "metadata": {
            "tags": [],
            "needs_background": "light"
          }
        }
      ]
    },
    {
      "cell_type": "code",
      "metadata": {
        "colab": {
          "base_uri": "https://localhost:8080/",
          "height": 502
        },
        "id": "RltNDzS5o5HW",
        "outputId": "2c897522-f6c2-48a5-d82f-46e96a154351"
      },
      "source": [
        "data"
      ],
      "execution_count": 130,
      "outputs": [
        {
          "output_type": "execute_result",
          "data": {
            "text/html": [
              "<div>\n",
              "<style scoped>\n",
              "    .dataframe tbody tr th:only-of-type {\n",
              "        vertical-align: middle;\n",
              "    }\n",
              "\n",
              "    .dataframe tbody tr th {\n",
              "        vertical-align: top;\n",
              "    }\n",
              "\n",
              "    .dataframe thead th {\n",
              "        text-align: right;\n",
              "    }\n",
              "</style>\n",
              "<table border=\"1\" class=\"dataframe\">\n",
              "  <thead>\n",
              "    <tr style=\"text-align: right;\">\n",
              "      <th></th>\n",
              "      <th>budget</th>\n",
              "      <th>popularity</th>\n",
              "      <th>runtime</th>\n",
              "      <th>revenue</th>\n",
              "      <th>belongs_to_a_collection</th>\n",
              "      <th>homepage_is_present</th>\n",
              "      <th>genre_Animation</th>\n",
              "      <th>genre_Music</th>\n",
              "      <th>genre_War</th>\n",
              "      <th>genre_Romance</th>\n",
              "      <th>genre_Comedy</th>\n",
              "      <th>genre_TV Movie</th>\n",
              "      <th>genre_Drama</th>\n",
              "      <th>genre_Mystery</th>\n",
              "      <th>genre_Western</th>\n",
              "      <th>genre_Documentary</th>\n",
              "      <th>genre_Foreign</th>\n",
              "      <th>genre_Thriller</th>\n",
              "      <th>genre_Action</th>\n",
              "      <th>genre_Science Fiction</th>\n",
              "      <th>genre_Adventure</th>\n",
              "      <th>genre_History</th>\n",
              "      <th>genre_Fantasy</th>\n",
              "      <th>genre_Family</th>\n",
              "      <th>genre_Crime</th>\n",
              "      <th>genre_Horror</th>\n",
              "      <th>Keywords (duringcreditsstinger)</th>\n",
              "      <th>Keywords (woman director)</th>\n",
              "      <th>Keywords (murder)</th>\n",
              "      <th>Keywords (based on novel)</th>\n",
              "      <th>Keywords (independent film)</th>\n",
              "      <th>Keywords (violence)</th>\n",
              "      <th>Keywords (dystopia)</th>\n",
              "      <th>Keywords (aftercreditsstinger)</th>\n",
              "      <th>Keywords (sport)</th>\n",
              "      <th>Keywords (revenge)</th>\n",
              "      <th>cast (Samuel L. Jackson)</th>\n",
              "      <th>cast (Bruce Willis)</th>\n",
              "      <th>cast (J.K. Simmons)</th>\n",
              "      <th>cast (Morgan Freeman)</th>\n",
              "      <th>cast (Bruce McGill)</th>\n",
              "      <th>cast (Robert De Niro)</th>\n",
              "      <th>cast (Nicolas Cage)</th>\n",
              "      <th>cast (Jason Statham)</th>\n",
              "      <th>cast (Owen Wilson)</th>\n",
              "      <th>cast (George Clooney)</th>\n",
              "      <th>crew (Robert Rodriguez)</th>\n",
              "      <th>crew (Avy Kaufman)</th>\n",
              "      <th>crew (James Newton Howard)</th>\n",
              "      <th>crew (Francine Maisler)</th>\n",
              "      <th>crew (Deborah Aquila)</th>\n",
              "      <th>crew (Steven Spielberg)</th>\n",
              "      <th>crew (Mary Vernieu)</th>\n",
              "      <th>crew (Jerry Goldsmith)</th>\n",
              "      <th>crew (Luc Besson)</th>\n",
              "      <th>crew (Tricia Wood)</th>\n",
              "      <th>production_companies (Warner Bros.)</th>\n",
              "      <th>production_companies (Universal Pictures)</th>\n",
              "      <th>production_companies (Paramount Pictures)</th>\n",
              "      <th>production_companies (Twentieth Century Fox Film Corporation)</th>\n",
              "      <th>production_companies (Columbia Pictures)</th>\n",
              "      <th>production_companies (New Line Cinema)</th>\n",
              "      <th>production_companies (Metro-Goldwyn-Mayer (MGM))</th>\n",
              "      <th>production_companies (Walt Disney Pictures)</th>\n",
              "      <th>production_companies (Touchstone Pictures)</th>\n",
              "      <th>production_companies (Columbia Pictures Corporation)</th>\n",
              "      <th>production_countries (United States of America)</th>\n",
              "      <th>production_countries (United Kingdom)</th>\n",
              "      <th>production_countries (France)</th>\n",
              "      <th>production_countries (Germany)</th>\n",
              "      <th>production_countries (Canada)</th>\n",
              "      <th>production_countries (India)</th>\n",
              "      <th>production_countries (Australia)</th>\n",
              "      <th>production_countries (Italy)</th>\n",
              "      <th>production_countries (China)</th>\n",
              "      <th>production_countries (Russia)</th>\n",
              "      <th>release_month</th>\n",
              "      <th>release_day</th>\n",
              "      <th>release_year</th>\n",
              "    </tr>\n",
              "    <tr>\n",
              "      <th>id</th>\n",
              "      <th></th>\n",
              "      <th></th>\n",
              "      <th></th>\n",
              "      <th></th>\n",
              "      <th></th>\n",
              "      <th></th>\n",
              "      <th></th>\n",
              "      <th></th>\n",
              "      <th></th>\n",
              "      <th></th>\n",
              "      <th></th>\n",
              "      <th></th>\n",
              "      <th></th>\n",
              "      <th></th>\n",
              "      <th></th>\n",
              "      <th></th>\n",
              "      <th></th>\n",
              "      <th></th>\n",
              "      <th></th>\n",
              "      <th></th>\n",
              "      <th></th>\n",
              "      <th></th>\n",
              "      <th></th>\n",
              "      <th></th>\n",
              "      <th></th>\n",
              "      <th></th>\n",
              "      <th></th>\n",
              "      <th></th>\n",
              "      <th></th>\n",
              "      <th></th>\n",
              "      <th></th>\n",
              "      <th></th>\n",
              "      <th></th>\n",
              "      <th></th>\n",
              "      <th></th>\n",
              "      <th></th>\n",
              "      <th></th>\n",
              "      <th></th>\n",
              "      <th></th>\n",
              "      <th></th>\n",
              "      <th></th>\n",
              "      <th></th>\n",
              "      <th></th>\n",
              "      <th></th>\n",
              "      <th></th>\n",
              "      <th></th>\n",
              "      <th></th>\n",
              "      <th></th>\n",
              "      <th></th>\n",
              "      <th></th>\n",
              "      <th></th>\n",
              "      <th></th>\n",
              "      <th></th>\n",
              "      <th></th>\n",
              "      <th></th>\n",
              "      <th></th>\n",
              "      <th></th>\n",
              "      <th></th>\n",
              "      <th></th>\n",
              "      <th></th>\n",
              "      <th></th>\n",
              "      <th></th>\n",
              "      <th></th>\n",
              "      <th></th>\n",
              "      <th></th>\n",
              "      <th></th>\n",
              "      <th></th>\n",
              "      <th></th>\n",
              "      <th></th>\n",
              "      <th></th>\n",
              "      <th></th>\n",
              "      <th></th>\n",
              "      <th></th>\n",
              "      <th></th>\n",
              "      <th></th>\n",
              "      <th></th>\n",
              "      <th></th>\n",
              "      <th></th>\n",
              "      <th></th>\n",
              "    </tr>\n",
              "  </thead>\n",
              "  <tbody>\n",
              "    <tr>\n",
              "      <th>1</th>\n",
              "      <td>14000000</td>\n",
              "      <td>6.575393</td>\n",
              "      <td>93.0</td>\n",
              "      <td>12314651</td>\n",
              "      <td>1</td>\n",
              "      <td>0</td>\n",
              "      <td>0</td>\n",
              "      <td>0</td>\n",
              "      <td>0</td>\n",
              "      <td>0</td>\n",
              "      <td>1</td>\n",
              "      <td>0</td>\n",
              "      <td>0</td>\n",
              "      <td>0</td>\n",
              "      <td>0</td>\n",
              "      <td>0</td>\n",
              "      <td>0</td>\n",
              "      <td>0</td>\n",
              "      <td>0</td>\n",
              "      <td>0</td>\n",
              "      <td>0</td>\n",
              "      <td>0</td>\n",
              "      <td>0</td>\n",
              "      <td>0</td>\n",
              "      <td>0</td>\n",
              "      <td>0</td>\n",
              "      <td>1</td>\n",
              "      <td>0</td>\n",
              "      <td>0</td>\n",
              "      <td>0</td>\n",
              "      <td>0</td>\n",
              "      <td>0</td>\n",
              "      <td>0</td>\n",
              "      <td>0</td>\n",
              "      <td>0</td>\n",
              "      <td>0</td>\n",
              "      <td>0</td>\n",
              "      <td>0</td>\n",
              "      <td>0</td>\n",
              "      <td>0</td>\n",
              "      <td>0</td>\n",
              "      <td>0</td>\n",
              "      <td>0</td>\n",
              "      <td>0</td>\n",
              "      <td>0</td>\n",
              "      <td>0</td>\n",
              "      <td>0</td>\n",
              "      <td>0</td>\n",
              "      <td>0</td>\n",
              "      <td>0</td>\n",
              "      <td>0</td>\n",
              "      <td>0</td>\n",
              "      <td>0</td>\n",
              "      <td>0</td>\n",
              "      <td>0</td>\n",
              "      <td>0</td>\n",
              "      <td>0</td>\n",
              "      <td>0</td>\n",
              "      <td>1</td>\n",
              "      <td>0</td>\n",
              "      <td>0</td>\n",
              "      <td>0</td>\n",
              "      <td>1</td>\n",
              "      <td>0</td>\n",
              "      <td>0</td>\n",
              "      <td>0</td>\n",
              "      <td>1</td>\n",
              "      <td>0</td>\n",
              "      <td>0</td>\n",
              "      <td>0</td>\n",
              "      <td>0</td>\n",
              "      <td>0</td>\n",
              "      <td>0</td>\n",
              "      <td>0</td>\n",
              "      <td>0</td>\n",
              "      <td>0</td>\n",
              "      <td>2</td>\n",
              "      <td>20</td>\n",
              "      <td>2015</td>\n",
              "    </tr>\n",
              "    <tr>\n",
              "      <th>2</th>\n",
              "      <td>40000000</td>\n",
              "      <td>8.248895</td>\n",
              "      <td>113.0</td>\n",
              "      <td>95149435</td>\n",
              "      <td>1</td>\n",
              "      <td>0</td>\n",
              "      <td>0</td>\n",
              "      <td>0</td>\n",
              "      <td>0</td>\n",
              "      <td>1</td>\n",
              "      <td>1</td>\n",
              "      <td>0</td>\n",
              "      <td>1</td>\n",
              "      <td>0</td>\n",
              "      <td>0</td>\n",
              "      <td>0</td>\n",
              "      <td>0</td>\n",
              "      <td>0</td>\n",
              "      <td>0</td>\n",
              "      <td>0</td>\n",
              "      <td>0</td>\n",
              "      <td>0</td>\n",
              "      <td>0</td>\n",
              "      <td>1</td>\n",
              "      <td>0</td>\n",
              "      <td>0</td>\n",
              "      <td>0</td>\n",
              "      <td>0</td>\n",
              "      <td>0</td>\n",
              "      <td>0</td>\n",
              "      <td>0</td>\n",
              "      <td>0</td>\n",
              "      <td>0</td>\n",
              "      <td>0</td>\n",
              "      <td>0</td>\n",
              "      <td>0</td>\n",
              "      <td>0</td>\n",
              "      <td>0</td>\n",
              "      <td>0</td>\n",
              "      <td>0</td>\n",
              "      <td>0</td>\n",
              "      <td>0</td>\n",
              "      <td>0</td>\n",
              "      <td>0</td>\n",
              "      <td>0</td>\n",
              "      <td>0</td>\n",
              "      <td>0</td>\n",
              "      <td>0</td>\n",
              "      <td>0</td>\n",
              "      <td>0</td>\n",
              "      <td>0</td>\n",
              "      <td>0</td>\n",
              "      <td>0</td>\n",
              "      <td>0</td>\n",
              "      <td>0</td>\n",
              "      <td>0</td>\n",
              "      <td>0</td>\n",
              "      <td>0</td>\n",
              "      <td>0</td>\n",
              "      <td>0</td>\n",
              "      <td>0</td>\n",
              "      <td>0</td>\n",
              "      <td>0</td>\n",
              "      <td>1</td>\n",
              "      <td>0</td>\n",
              "      <td>0</td>\n",
              "      <td>1</td>\n",
              "      <td>0</td>\n",
              "      <td>0</td>\n",
              "      <td>0</td>\n",
              "      <td>0</td>\n",
              "      <td>0</td>\n",
              "      <td>0</td>\n",
              "      <td>0</td>\n",
              "      <td>0</td>\n",
              "      <td>0</td>\n",
              "      <td>8</td>\n",
              "      <td>6</td>\n",
              "      <td>2004</td>\n",
              "    </tr>\n",
              "    <tr>\n",
              "      <th>3</th>\n",
              "      <td>3300000</td>\n",
              "      <td>64.299990</td>\n",
              "      <td>105.0</td>\n",
              "      <td>13092000</td>\n",
              "      <td>0</td>\n",
              "      <td>1</td>\n",
              "      <td>0</td>\n",
              "      <td>0</td>\n",
              "      <td>0</td>\n",
              "      <td>0</td>\n",
              "      <td>0</td>\n",
              "      <td>0</td>\n",
              "      <td>1</td>\n",
              "      <td>0</td>\n",
              "      <td>0</td>\n",
              "      <td>0</td>\n",
              "      <td>0</td>\n",
              "      <td>0</td>\n",
              "      <td>0</td>\n",
              "      <td>0</td>\n",
              "      <td>0</td>\n",
              "      <td>0</td>\n",
              "      <td>0</td>\n",
              "      <td>0</td>\n",
              "      <td>0</td>\n",
              "      <td>0</td>\n",
              "      <td>0</td>\n",
              "      <td>0</td>\n",
              "      <td>0</td>\n",
              "      <td>0</td>\n",
              "      <td>0</td>\n",
              "      <td>1</td>\n",
              "      <td>0</td>\n",
              "      <td>0</td>\n",
              "      <td>0</td>\n",
              "      <td>0</td>\n",
              "      <td>0</td>\n",
              "      <td>0</td>\n",
              "      <td>1</td>\n",
              "      <td>0</td>\n",
              "      <td>0</td>\n",
              "      <td>0</td>\n",
              "      <td>0</td>\n",
              "      <td>0</td>\n",
              "      <td>0</td>\n",
              "      <td>0</td>\n",
              "      <td>0</td>\n",
              "      <td>0</td>\n",
              "      <td>0</td>\n",
              "      <td>0</td>\n",
              "      <td>0</td>\n",
              "      <td>0</td>\n",
              "      <td>0</td>\n",
              "      <td>0</td>\n",
              "      <td>0</td>\n",
              "      <td>0</td>\n",
              "      <td>0</td>\n",
              "      <td>0</td>\n",
              "      <td>0</td>\n",
              "      <td>0</td>\n",
              "      <td>0</td>\n",
              "      <td>0</td>\n",
              "      <td>0</td>\n",
              "      <td>0</td>\n",
              "      <td>0</td>\n",
              "      <td>0</td>\n",
              "      <td>1</td>\n",
              "      <td>0</td>\n",
              "      <td>0</td>\n",
              "      <td>0</td>\n",
              "      <td>0</td>\n",
              "      <td>0</td>\n",
              "      <td>0</td>\n",
              "      <td>0</td>\n",
              "      <td>0</td>\n",
              "      <td>0</td>\n",
              "      <td>10</td>\n",
              "      <td>10</td>\n",
              "      <td>2014</td>\n",
              "    </tr>\n",
              "    <tr>\n",
              "      <th>4</th>\n",
              "      <td>1200000</td>\n",
              "      <td>3.174936</td>\n",
              "      <td>122.0</td>\n",
              "      <td>16000000</td>\n",
              "      <td>0</td>\n",
              "      <td>1</td>\n",
              "      <td>0</td>\n",
              "      <td>0</td>\n",
              "      <td>0</td>\n",
              "      <td>0</td>\n",
              "      <td>0</td>\n",
              "      <td>0</td>\n",
              "      <td>1</td>\n",
              "      <td>0</td>\n",
              "      <td>0</td>\n",
              "      <td>0</td>\n",
              "      <td>0</td>\n",
              "      <td>1</td>\n",
              "      <td>0</td>\n",
              "      <td>0</td>\n",
              "      <td>0</td>\n",
              "      <td>0</td>\n",
              "      <td>0</td>\n",
              "      <td>0</td>\n",
              "      <td>0</td>\n",
              "      <td>0</td>\n",
              "      <td>0</td>\n",
              "      <td>0</td>\n",
              "      <td>0</td>\n",
              "      <td>0</td>\n",
              "      <td>0</td>\n",
              "      <td>0</td>\n",
              "      <td>0</td>\n",
              "      <td>0</td>\n",
              "      <td>0</td>\n",
              "      <td>0</td>\n",
              "      <td>0</td>\n",
              "      <td>0</td>\n",
              "      <td>0</td>\n",
              "      <td>0</td>\n",
              "      <td>0</td>\n",
              "      <td>0</td>\n",
              "      <td>0</td>\n",
              "      <td>0</td>\n",
              "      <td>0</td>\n",
              "      <td>0</td>\n",
              "      <td>0</td>\n",
              "      <td>0</td>\n",
              "      <td>0</td>\n",
              "      <td>0</td>\n",
              "      <td>0</td>\n",
              "      <td>0</td>\n",
              "      <td>0</td>\n",
              "      <td>0</td>\n",
              "      <td>0</td>\n",
              "      <td>0</td>\n",
              "      <td>0</td>\n",
              "      <td>0</td>\n",
              "      <td>0</td>\n",
              "      <td>0</td>\n",
              "      <td>0</td>\n",
              "      <td>0</td>\n",
              "      <td>0</td>\n",
              "      <td>0</td>\n",
              "      <td>0</td>\n",
              "      <td>0</td>\n",
              "      <td>0</td>\n",
              "      <td>0</td>\n",
              "      <td>0</td>\n",
              "      <td>0</td>\n",
              "      <td>0</td>\n",
              "      <td>1</td>\n",
              "      <td>0</td>\n",
              "      <td>0</td>\n",
              "      <td>0</td>\n",
              "      <td>0</td>\n",
              "      <td>3</td>\n",
              "      <td>9</td>\n",
              "      <td>2012</td>\n",
              "    </tr>\n",
              "    <tr>\n",
              "      <th>6</th>\n",
              "      <td>8000000</td>\n",
              "      <td>0.743274</td>\n",
              "      <td>83.0</td>\n",
              "      <td>3261638</td>\n",
              "      <td>0</td>\n",
              "      <td>0</td>\n",
              "      <td>1</td>\n",
              "      <td>0</td>\n",
              "      <td>0</td>\n",
              "      <td>0</td>\n",
              "      <td>0</td>\n",
              "      <td>0</td>\n",
              "      <td>0</td>\n",
              "      <td>0</td>\n",
              "      <td>0</td>\n",
              "      <td>0</td>\n",
              "      <td>0</td>\n",
              "      <td>0</td>\n",
              "      <td>0</td>\n",
              "      <td>0</td>\n",
              "      <td>1</td>\n",
              "      <td>0</td>\n",
              "      <td>0</td>\n",
              "      <td>1</td>\n",
              "      <td>0</td>\n",
              "      <td>0</td>\n",
              "      <td>0</td>\n",
              "      <td>0</td>\n",
              "      <td>0</td>\n",
              "      <td>0</td>\n",
              "      <td>0</td>\n",
              "      <td>0</td>\n",
              "      <td>0</td>\n",
              "      <td>0</td>\n",
              "      <td>0</td>\n",
              "      <td>0</td>\n",
              "      <td>0</td>\n",
              "      <td>0</td>\n",
              "      <td>0</td>\n",
              "      <td>0</td>\n",
              "      <td>0</td>\n",
              "      <td>0</td>\n",
              "      <td>0</td>\n",
              "      <td>0</td>\n",
              "      <td>0</td>\n",
              "      <td>0</td>\n",
              "      <td>0</td>\n",
              "      <td>0</td>\n",
              "      <td>0</td>\n",
              "      <td>0</td>\n",
              "      <td>0</td>\n",
              "      <td>0</td>\n",
              "      <td>0</td>\n",
              "      <td>0</td>\n",
              "      <td>0</td>\n",
              "      <td>0</td>\n",
              "      <td>0</td>\n",
              "      <td>0</td>\n",
              "      <td>0</td>\n",
              "      <td>0</td>\n",
              "      <td>0</td>\n",
              "      <td>0</td>\n",
              "      <td>0</td>\n",
              "      <td>0</td>\n",
              "      <td>0</td>\n",
              "      <td>0</td>\n",
              "      <td>0</td>\n",
              "      <td>0</td>\n",
              "      <td>0</td>\n",
              "      <td>0</td>\n",
              "      <td>0</td>\n",
              "      <td>0</td>\n",
              "      <td>0</td>\n",
              "      <td>0</td>\n",
              "      <td>0</td>\n",
              "      <td>0</td>\n",
              "      <td>8</td>\n",
              "      <td>6</td>\n",
              "      <td>1987</td>\n",
              "    </tr>\n",
              "    <tr>\n",
              "      <th>...</th>\n",
              "      <td>...</td>\n",
              "      <td>...</td>\n",
              "      <td>...</td>\n",
              "      <td>...</td>\n",
              "      <td>...</td>\n",
              "      <td>...</td>\n",
              "      <td>...</td>\n",
              "      <td>...</td>\n",
              "      <td>...</td>\n",
              "      <td>...</td>\n",
              "      <td>...</td>\n",
              "      <td>...</td>\n",
              "      <td>...</td>\n",
              "      <td>...</td>\n",
              "      <td>...</td>\n",
              "      <td>...</td>\n",
              "      <td>...</td>\n",
              "      <td>...</td>\n",
              "      <td>...</td>\n",
              "      <td>...</td>\n",
              "      <td>...</td>\n",
              "      <td>...</td>\n",
              "      <td>...</td>\n",
              "      <td>...</td>\n",
              "      <td>...</td>\n",
              "      <td>...</td>\n",
              "      <td>...</td>\n",
              "      <td>...</td>\n",
              "      <td>...</td>\n",
              "      <td>...</td>\n",
              "      <td>...</td>\n",
              "      <td>...</td>\n",
              "      <td>...</td>\n",
              "      <td>...</td>\n",
              "      <td>...</td>\n",
              "      <td>...</td>\n",
              "      <td>...</td>\n",
              "      <td>...</td>\n",
              "      <td>...</td>\n",
              "      <td>...</td>\n",
              "      <td>...</td>\n",
              "      <td>...</td>\n",
              "      <td>...</td>\n",
              "      <td>...</td>\n",
              "      <td>...</td>\n",
              "      <td>...</td>\n",
              "      <td>...</td>\n",
              "      <td>...</td>\n",
              "      <td>...</td>\n",
              "      <td>...</td>\n",
              "      <td>...</td>\n",
              "      <td>...</td>\n",
              "      <td>...</td>\n",
              "      <td>...</td>\n",
              "      <td>...</td>\n",
              "      <td>...</td>\n",
              "      <td>...</td>\n",
              "      <td>...</td>\n",
              "      <td>...</td>\n",
              "      <td>...</td>\n",
              "      <td>...</td>\n",
              "      <td>...</td>\n",
              "      <td>...</td>\n",
              "      <td>...</td>\n",
              "      <td>...</td>\n",
              "      <td>...</td>\n",
              "      <td>...</td>\n",
              "      <td>...</td>\n",
              "      <td>...</td>\n",
              "      <td>...</td>\n",
              "      <td>...</td>\n",
              "      <td>...</td>\n",
              "      <td>...</td>\n",
              "      <td>...</td>\n",
              "      <td>...</td>\n",
              "      <td>...</td>\n",
              "      <td>...</td>\n",
              "      <td>...</td>\n",
              "      <td>...</td>\n",
              "    </tr>\n",
              "    <tr>\n",
              "      <th>2993</th>\n",
              "      <td>1135654</td>\n",
              "      <td>3.878515</td>\n",
              "      <td>149.0</td>\n",
              "      <td>1213880</td>\n",
              "      <td>0</td>\n",
              "      <td>0</td>\n",
              "      <td>0</td>\n",
              "      <td>0</td>\n",
              "      <td>0</td>\n",
              "      <td>0</td>\n",
              "      <td>0</td>\n",
              "      <td>0</td>\n",
              "      <td>1</td>\n",
              "      <td>0</td>\n",
              "      <td>0</td>\n",
              "      <td>0</td>\n",
              "      <td>0</td>\n",
              "      <td>0</td>\n",
              "      <td>1</td>\n",
              "      <td>0</td>\n",
              "      <td>1</td>\n",
              "      <td>0</td>\n",
              "      <td>1</td>\n",
              "      <td>1</td>\n",
              "      <td>0</td>\n",
              "      <td>0</td>\n",
              "      <td>0</td>\n",
              "      <td>0</td>\n",
              "      <td>0</td>\n",
              "      <td>0</td>\n",
              "      <td>0</td>\n",
              "      <td>0</td>\n",
              "      <td>0</td>\n",
              "      <td>0</td>\n",
              "      <td>0</td>\n",
              "      <td>0</td>\n",
              "      <td>0</td>\n",
              "      <td>0</td>\n",
              "      <td>0</td>\n",
              "      <td>0</td>\n",
              "      <td>0</td>\n",
              "      <td>0</td>\n",
              "      <td>0</td>\n",
              "      <td>0</td>\n",
              "      <td>0</td>\n",
              "      <td>0</td>\n",
              "      <td>0</td>\n",
              "      <td>0</td>\n",
              "      <td>0</td>\n",
              "      <td>0</td>\n",
              "      <td>0</td>\n",
              "      <td>0</td>\n",
              "      <td>0</td>\n",
              "      <td>0</td>\n",
              "      <td>0</td>\n",
              "      <td>0</td>\n",
              "      <td>0</td>\n",
              "      <td>0</td>\n",
              "      <td>0</td>\n",
              "      <td>0</td>\n",
              "      <td>0</td>\n",
              "      <td>0</td>\n",
              "      <td>0</td>\n",
              "      <td>0</td>\n",
              "      <td>0</td>\n",
              "      <td>0</td>\n",
              "      <td>1</td>\n",
              "      <td>0</td>\n",
              "      <td>0</td>\n",
              "      <td>0</td>\n",
              "      <td>0</td>\n",
              "      <td>0</td>\n",
              "      <td>0</td>\n",
              "      <td>0</td>\n",
              "      <td>0</td>\n",
              "      <td>0</td>\n",
              "      <td>3</td>\n",
              "      <td>18</td>\n",
              "      <td>1924</td>\n",
              "    </tr>\n",
              "    <tr>\n",
              "      <th>2994</th>\n",
              "      <td>60000000</td>\n",
              "      <td>14.092373</td>\n",
              "      <td>128.0</td>\n",
              "      <td>219417255</td>\n",
              "      <td>0</td>\n",
              "      <td>1</td>\n",
              "      <td>0</td>\n",
              "      <td>0</td>\n",
              "      <td>0</td>\n",
              "      <td>0</td>\n",
              "      <td>1</td>\n",
              "      <td>0</td>\n",
              "      <td>1</td>\n",
              "      <td>0</td>\n",
              "      <td>0</td>\n",
              "      <td>0</td>\n",
              "      <td>0</td>\n",
              "      <td>0</td>\n",
              "      <td>0</td>\n",
              "      <td>0</td>\n",
              "      <td>0</td>\n",
              "      <td>0</td>\n",
              "      <td>0</td>\n",
              "      <td>0</td>\n",
              "      <td>0</td>\n",
              "      <td>0</td>\n",
              "      <td>0</td>\n",
              "      <td>0</td>\n",
              "      <td>0</td>\n",
              "      <td>0</td>\n",
              "      <td>0</td>\n",
              "      <td>0</td>\n",
              "      <td>0</td>\n",
              "      <td>0</td>\n",
              "      <td>0</td>\n",
              "      <td>0</td>\n",
              "      <td>0</td>\n",
              "      <td>0</td>\n",
              "      <td>0</td>\n",
              "      <td>0</td>\n",
              "      <td>0</td>\n",
              "      <td>0</td>\n",
              "      <td>0</td>\n",
              "      <td>0</td>\n",
              "      <td>0</td>\n",
              "      <td>0</td>\n",
              "      <td>0</td>\n",
              "      <td>0</td>\n",
              "      <td>0</td>\n",
              "      <td>0</td>\n",
              "      <td>0</td>\n",
              "      <td>1</td>\n",
              "      <td>0</td>\n",
              "      <td>0</td>\n",
              "      <td>0</td>\n",
              "      <td>0</td>\n",
              "      <td>0</td>\n",
              "      <td>0</td>\n",
              "      <td>0</td>\n",
              "      <td>0</td>\n",
              "      <td>0</td>\n",
              "      <td>0</td>\n",
              "      <td>0</td>\n",
              "      <td>0</td>\n",
              "      <td>0</td>\n",
              "      <td>0</td>\n",
              "      <td>1</td>\n",
              "      <td>0</td>\n",
              "      <td>0</td>\n",
              "      <td>0</td>\n",
              "      <td>0</td>\n",
              "      <td>0</td>\n",
              "      <td>0</td>\n",
              "      <td>0</td>\n",
              "      <td>0</td>\n",
              "      <td>0</td>\n",
              "      <td>6</td>\n",
              "      <td>17</td>\n",
              "      <td>2004</td>\n",
              "    </tr>\n",
              "    <tr>\n",
              "      <th>2998</th>\n",
              "      <td>65000000</td>\n",
              "      <td>14.482345</td>\n",
              "      <td>120.0</td>\n",
              "      <td>89456761</td>\n",
              "      <td>0</td>\n",
              "      <td>0</td>\n",
              "      <td>0</td>\n",
              "      <td>0</td>\n",
              "      <td>0</td>\n",
              "      <td>0</td>\n",
              "      <td>0</td>\n",
              "      <td>0</td>\n",
              "      <td>0</td>\n",
              "      <td>1</td>\n",
              "      <td>0</td>\n",
              "      <td>0</td>\n",
              "      <td>0</td>\n",
              "      <td>1</td>\n",
              "      <td>1</td>\n",
              "      <td>0</td>\n",
              "      <td>0</td>\n",
              "      <td>0</td>\n",
              "      <td>0</td>\n",
              "      <td>0</td>\n",
              "      <td>1</td>\n",
              "      <td>0</td>\n",
              "      <td>0</td>\n",
              "      <td>0</td>\n",
              "      <td>0</td>\n",
              "      <td>0</td>\n",
              "      <td>0</td>\n",
              "      <td>0</td>\n",
              "      <td>0</td>\n",
              "      <td>0</td>\n",
              "      <td>0</td>\n",
              "      <td>0</td>\n",
              "      <td>1</td>\n",
              "      <td>0</td>\n",
              "      <td>0</td>\n",
              "      <td>0</td>\n",
              "      <td>0</td>\n",
              "      <td>0</td>\n",
              "      <td>0</td>\n",
              "      <td>0</td>\n",
              "      <td>0</td>\n",
              "      <td>0</td>\n",
              "      <td>0</td>\n",
              "      <td>0</td>\n",
              "      <td>0</td>\n",
              "      <td>0</td>\n",
              "      <td>0</td>\n",
              "      <td>0</td>\n",
              "      <td>0</td>\n",
              "      <td>0</td>\n",
              "      <td>0</td>\n",
              "      <td>0</td>\n",
              "      <td>0</td>\n",
              "      <td>0</td>\n",
              "      <td>0</td>\n",
              "      <td>0</td>\n",
              "      <td>0</td>\n",
              "      <td>1</td>\n",
              "      <td>0</td>\n",
              "      <td>0</td>\n",
              "      <td>0</td>\n",
              "      <td>0</td>\n",
              "      <td>1</td>\n",
              "      <td>0</td>\n",
              "      <td>0</td>\n",
              "      <td>0</td>\n",
              "      <td>0</td>\n",
              "      <td>0</td>\n",
              "      <td>0</td>\n",
              "      <td>0</td>\n",
              "      <td>0</td>\n",
              "      <td>0</td>\n",
              "      <td>10</td>\n",
              "      <td>11</td>\n",
              "      <td>1996</td>\n",
              "    </tr>\n",
              "    <tr>\n",
              "      <th>2999</th>\n",
              "      <td>42000000</td>\n",
              "      <td>15.725542</td>\n",
              "      <td>90.0</td>\n",
              "      <td>171963386</td>\n",
              "      <td>0</td>\n",
              "      <td>1</td>\n",
              "      <td>0</td>\n",
              "      <td>0</td>\n",
              "      <td>0</td>\n",
              "      <td>1</td>\n",
              "      <td>1</td>\n",
              "      <td>0</td>\n",
              "      <td>0</td>\n",
              "      <td>0</td>\n",
              "      <td>0</td>\n",
              "      <td>0</td>\n",
              "      <td>0</td>\n",
              "      <td>0</td>\n",
              "      <td>0</td>\n",
              "      <td>0</td>\n",
              "      <td>0</td>\n",
              "      <td>0</td>\n",
              "      <td>0</td>\n",
              "      <td>0</td>\n",
              "      <td>0</td>\n",
              "      <td>0</td>\n",
              "      <td>0</td>\n",
              "      <td>0</td>\n",
              "      <td>0</td>\n",
              "      <td>0</td>\n",
              "      <td>0</td>\n",
              "      <td>0</td>\n",
              "      <td>0</td>\n",
              "      <td>0</td>\n",
              "      <td>0</td>\n",
              "      <td>0</td>\n",
              "      <td>0</td>\n",
              "      <td>0</td>\n",
              "      <td>0</td>\n",
              "      <td>0</td>\n",
              "      <td>0</td>\n",
              "      <td>0</td>\n",
              "      <td>0</td>\n",
              "      <td>0</td>\n",
              "      <td>0</td>\n",
              "      <td>0</td>\n",
              "      <td>0</td>\n",
              "      <td>0</td>\n",
              "      <td>0</td>\n",
              "      <td>0</td>\n",
              "      <td>0</td>\n",
              "      <td>0</td>\n",
              "      <td>0</td>\n",
              "      <td>0</td>\n",
              "      <td>0</td>\n",
              "      <td>0</td>\n",
              "      <td>0</td>\n",
              "      <td>0</td>\n",
              "      <td>0</td>\n",
              "      <td>0</td>\n",
              "      <td>0</td>\n",
              "      <td>0</td>\n",
              "      <td>0</td>\n",
              "      <td>0</td>\n",
              "      <td>0</td>\n",
              "      <td>0</td>\n",
              "      <td>1</td>\n",
              "      <td>0</td>\n",
              "      <td>0</td>\n",
              "      <td>0</td>\n",
              "      <td>0</td>\n",
              "      <td>0</td>\n",
              "      <td>0</td>\n",
              "      <td>0</td>\n",
              "      <td>0</td>\n",
              "      <td>0</td>\n",
              "      <td>1</td>\n",
              "      <td>16</td>\n",
              "      <td>2004</td>\n",
              "    </tr>\n",
              "    <tr>\n",
              "      <th>3000</th>\n",
              "      <td>35000000</td>\n",
              "      <td>10.512109</td>\n",
              "      <td>106.0</td>\n",
              "      <td>82087155</td>\n",
              "      <td>0</td>\n",
              "      <td>1</td>\n",
              "      <td>0</td>\n",
              "      <td>0</td>\n",
              "      <td>0</td>\n",
              "      <td>0</td>\n",
              "      <td>0</td>\n",
              "      <td>0</td>\n",
              "      <td>0</td>\n",
              "      <td>1</td>\n",
              "      <td>0</td>\n",
              "      <td>0</td>\n",
              "      <td>0</td>\n",
              "      <td>1</td>\n",
              "      <td>1</td>\n",
              "      <td>0</td>\n",
              "      <td>0</td>\n",
              "      <td>0</td>\n",
              "      <td>0</td>\n",
              "      <td>0</td>\n",
              "      <td>0</td>\n",
              "      <td>0</td>\n",
              "      <td>0</td>\n",
              "      <td>0</td>\n",
              "      <td>0</td>\n",
              "      <td>0</td>\n",
              "      <td>0</td>\n",
              "      <td>0</td>\n",
              "      <td>0</td>\n",
              "      <td>0</td>\n",
              "      <td>0</td>\n",
              "      <td>0</td>\n",
              "      <td>0</td>\n",
              "      <td>0</td>\n",
              "      <td>0</td>\n",
              "      <td>0</td>\n",
              "      <td>0</td>\n",
              "      <td>0</td>\n",
              "      <td>0</td>\n",
              "      <td>0</td>\n",
              "      <td>0</td>\n",
              "      <td>0</td>\n",
              "      <td>0</td>\n",
              "      <td>0</td>\n",
              "      <td>0</td>\n",
              "      <td>0</td>\n",
              "      <td>0</td>\n",
              "      <td>0</td>\n",
              "      <td>0</td>\n",
              "      <td>0</td>\n",
              "      <td>0</td>\n",
              "      <td>0</td>\n",
              "      <td>0</td>\n",
              "      <td>0</td>\n",
              "      <td>0</td>\n",
              "      <td>0</td>\n",
              "      <td>0</td>\n",
              "      <td>0</td>\n",
              "      <td>0</td>\n",
              "      <td>0</td>\n",
              "      <td>0</td>\n",
              "      <td>0</td>\n",
              "      <td>1</td>\n",
              "      <td>0</td>\n",
              "      <td>0</td>\n",
              "      <td>0</td>\n",
              "      <td>0</td>\n",
              "      <td>0</td>\n",
              "      <td>0</td>\n",
              "      <td>0</td>\n",
              "      <td>0</td>\n",
              "      <td>0</td>\n",
              "      <td>9</td>\n",
              "      <td>22</td>\n",
              "      <td>2011</td>\n",
              "    </tr>\n",
              "  </tbody>\n",
              "</table>\n",
              "<p>2012 rows × 79 columns</p>\n",
              "</div>"
            ],
            "text/plain": [
              "        budget  popularity  runtime  ...  release_month  release_day  release_year\n",
              "id                                   ...                                          \n",
              "1     14000000    6.575393     93.0  ...              2           20          2015\n",
              "2     40000000    8.248895    113.0  ...              8            6          2004\n",
              "3      3300000   64.299990    105.0  ...             10           10          2014\n",
              "4      1200000    3.174936    122.0  ...              3            9          2012\n",
              "6      8000000    0.743274     83.0  ...              8            6          1987\n",
              "...        ...         ...      ...  ...            ...          ...           ...\n",
              "2993   1135654    3.878515    149.0  ...              3           18          1924\n",
              "2994  60000000   14.092373    128.0  ...              6           17          2004\n",
              "2998  65000000   14.482345    120.0  ...             10           11          1996\n",
              "2999  42000000   15.725542     90.0  ...              1           16          2004\n",
              "3000  35000000   10.512109    106.0  ...              9           22          2011\n",
              "\n",
              "[2012 rows x 79 columns]"
            ]
          },
          "metadata": {
            "tags": []
          },
          "execution_count": 130
        }
      ]
    },
    {
      "cell_type": "markdown",
      "metadata": {
        "id": "OtWk6FH5QKB2"
      },
      "source": [
        "# Addestramento\n"
      ]
    },
    {
      "cell_type": "code",
      "metadata": {
        "colab": {
          "base_uri": "https://localhost:8080/"
        },
        "id": "2iThb3nVc2Tm",
        "outputId": "227ff47d-6443-402f-9cd8-4782dacc1a0a"
      },
      "source": [
        "data.isna().sum()"
      ],
      "execution_count": 131,
      "outputs": [
        {
          "output_type": "execute_result",
          "data": {
            "text/plain": [
              "budget                           0\n",
              "popularity                       0\n",
              "runtime                          1\n",
              "revenue                          0\n",
              "belongs_to_a_collection          0\n",
              "                                ..\n",
              "production_countries (China)     0\n",
              "production_countries (Russia)    0\n",
              "release_month                    0\n",
              "release_day                      0\n",
              "release_year                     0\n",
              "Length: 79, dtype: int64"
            ]
          },
          "metadata": {
            "tags": []
          },
          "execution_count": 131
        }
      ]
    },
    {
      "cell_type": "code",
      "metadata": {
        "id": "bSwfAR31fiOv"
      },
      "source": [
        "test.runtime.fillna(0, inplace=True)"
      ],
      "execution_count": 132,
      "outputs": []
    },
    {
      "cell_type": "code",
      "metadata": {
        "id": "2jy_-tG7fe-0",
        "outputId": "038f0303-51f1-45fd-acc3-f227066946f9",
        "colab": {
          "base_uri": "https://localhost:8080/"
        }
      },
      "source": [
        "test.isnull().sum().sum()"
      ],
      "execution_count": 133,
      "outputs": [
        {
          "output_type": "execute_result",
          "data": {
            "text/plain": [
              "0"
            ]
          },
          "metadata": {
            "tags": []
          },
          "execution_count": 133
        }
      ]
    },
    {
      "cell_type": "code",
      "metadata": {
        "id": "7RXbXT6ETSf_"
      },
      "source": [
        "data.dropna(inplace=True)\n",
        "#test.dropna(inplace=True)"
      ],
      "execution_count": 134,
      "outputs": []
    },
    {
      "cell_type": "code",
      "metadata": {
        "id": "yTDrTyfsOtF0",
        "outputId": "4b948f81-f55c-4329-d525-6f5fd55f29d1",
        "colab": {
          "base_uri": "https://localhost:8080/"
        }
      },
      "source": [
        "data.shape"
      ],
      "execution_count": 135,
      "outputs": [
        {
          "output_type": "execute_result",
          "data": {
            "text/plain": [
              "(2011, 79)"
            ]
          },
          "metadata": {
            "tags": []
          },
          "execution_count": 135
        }
      ]
    },
    {
      "cell_type": "code",
      "metadata": {
        "id": "ezmInzUiOwOY",
        "outputId": "d2890883-6ae4-4a2e-cfaf-8e31b502eef0",
        "colab": {
          "base_uri": "https://localhost:8080/"
        }
      },
      "source": [
        "test.shape"
      ],
      "execution_count": 136,
      "outputs": [
        {
          "output_type": "execute_result",
          "data": {
            "text/plain": [
              "(4398, 78)"
            ]
          },
          "metadata": {
            "tags": []
          },
          "execution_count": 136
        }
      ]
    },
    {
      "cell_type": "code",
      "metadata": {
        "id": "ZjwMDZH5ShzL"
      },
      "source": [
        "Y_data = data.revenue\n",
        "X_data = data.drop(columns='revenue')\n",
        "#X_data = data.loc[:,['budget','popularity', 'runtime']]"
      ],
      "execution_count": 137,
      "outputs": []
    },
    {
      "cell_type": "code",
      "metadata": {
        "id": "XN9WjjAKK5al"
      },
      "source": [
        "\n"
      ],
      "execution_count": 137,
      "outputs": []
    },
    {
      "cell_type": "code",
      "metadata": {
        "id": "ApQmXDHuNaan"
      },
      "source": [
        "from sklearn.linear_model import LinearRegression\n",
        "from sklearn.preprocessing import StandardScaler\n",
        "from sklearn.pipeline import Pipeline\n",
        "from sklearn.metrics import mean_squared_error, r2_score, mean_squared_log_error"
      ],
      "execution_count": 138,
      "outputs": []
    },
    {
      "cell_type": "code",
      "metadata": {
        "id": "xtVRXQC0UA66"
      },
      "source": [
        "\n",
        "\n",
        "# definisco funzione per errore relativo\n",
        "def relative_error(y_true, y_pred):\n",
        "    return np.mean(np.abs((y_true - y_pred) / y_true))\n",
        "\n",
        "# funzione per calcolare e stampare tutte e tre\n",
        "def print_eval(X, y, model):\n",
        "    preds = model.predict(X)\n",
        "    print(\"   Mean squared error: {:.5}\".format(mean_squared_error(y, preds)))\n",
        "    print(\"   Mean squared log error: {:.5}\".format(np.sqrt(mean_squared_log_error(y, np.abs(preds)))))\n",
        "    print(\"       Relative error: {:.5%}\".format(relative_error(y, preds)))\n",
        "    print(\"R-squared coefficient: {:.5}\".format(r2_score(y, preds)))"
      ],
      "execution_count": 139,
      "outputs": []
    },
    {
      "cell_type": "code",
      "metadata": {
        "id": "qL9Axv09NwwX"
      },
      "source": [
        "from sklearn.model_selection import train_test_split\n",
        "X_train, X_val, y_train, y_val = \\\n",
        "    train_test_split(X_data, Y_data, test_size=1/3, random_state=42)"
      ],
      "execution_count": 140,
      "outputs": []
    },
    {
      "cell_type": "code",
      "metadata": {
        "id": "gIYhHyQPNwse",
        "outputId": "0bc76506-3ba9-4dde-ae9f-c56cf4b62a36",
        "colab": {
          "base_uri": "https://localhost:8080/"
        }
      },
      "source": [
        "model = Pipeline([\n",
        "    (\"scale\", StandardScaler()),\n",
        "    (\"lrn\",  LinearRegression())\n",
        "])\n",
        "model.fit(X_train, y_train)\n",
        "print_eval(X_val, y_val, model)"
      ],
      "execution_count": 141,
      "outputs": [
        {
          "output_type": "stream",
          "text": [
            "   Mean squared error: 9.5197e+15\n",
            "   Mean squared log error: 2.0998\n",
            "       Relative error: 542989.55507%\n",
            "R-squared coefficient: 0.65394\n"
          ],
          "name": "stdout"
        }
      ]
    },
    {
      "cell_type": "code",
      "metadata": {
        "id": "hTVX_AzW4Gyh",
        "outputId": "e7e67124-b61e-4225-a49f-66f6ebb382c7",
        "colab": {
          "base_uri": "https://localhost:8080/"
        }
      },
      "source": [
        "from sklearn.linear_model import Lasso\n",
        "model = Pipeline([\n",
        "    (\"scale\", StandardScaler()),\n",
        "    (\"regr\", Lasso(alpha=1))\n",
        "])\n",
        "model.fit(X_train, y_train)"
      ],
      "execution_count": 142,
      "outputs": [
        {
          "output_type": "execute_result",
          "data": {
            "text/plain": [
              "Pipeline(memory=None,\n",
              "         steps=[('scale',\n",
              "                 StandardScaler(copy=True, with_mean=True, with_std=True)),\n",
              "                ('regr',\n",
              "                 Lasso(alpha=1, copy_X=True, fit_intercept=True, max_iter=1000,\n",
              "                       normalize=False, positive=False, precompute=False,\n",
              "                       random_state=None, selection='cyclic', tol=0.0001,\n",
              "                       warm_start=False))],\n",
              "         verbose=False)"
            ]
          },
          "metadata": {
            "tags": []
          },
          "execution_count": 142
        }
      ]
    },
    {
      "cell_type": "markdown",
      "metadata": {
        "id": "lDD43HylOEb9"
      },
      "source": [
        "Ci troviamo di fronte fin da subito all'evidenza di una discreta descrizione del modello, alla quale non corrisponde però una altrettanta minimizzazione dell'errore. Ciò è dovuto principalmente all'andamento esponenziale della variabile **budget** e della variabile target **revenue**. Si decide perciò di usare la funzione log(1+x) per effetturare una trasformazione in modo di avere una migliore modelizzazione"
      ]
    },
    {
      "cell_type": "code",
      "metadata": {
        "id": "TPGv3ilKNwrJ"
      },
      "source": [
        "#data.budget = np.log1p(data.budget)\n",
        "#data.revenue = np.log1p(data.revenue)\n",
        "#Y_data = data.revenue\n",
        "#X_data = data.drop(columns='revenue')\n",
        "#X_train, X_val, y_train, y_val = \\\n",
        " #   train_test_split(X_data, Y_data, test_size=1/3, random_state=42)"
      ],
      "execution_count": 143,
      "outputs": []
    },
    {
      "cell_type": "code",
      "metadata": {
        "id": "1NQg986A5vWO"
      },
      "source": [
        "from sklearn.kernel_ridge import KernelRidge\n",
        "from sklearn.model_selection import KFold\n",
        "from sklearn.model_selection import GridSearchCV"
      ],
      "execution_count": 144,
      "outputs": []
    },
    {
      "cell_type": "code",
      "metadata": {
        "id": "h4zfLOLaSXcj"
      },
      "source": [
        "model = Pipeline([\n",
        "    (\"scale\", StandardScaler()),\n",
        "    (\"regr\",  KernelRidge(alpha=1, kernel=\"poly\", degree=2))\n",
        "])\n",
        "model.fit(X_train, y_train);"
      ],
      "execution_count": 145,
      "outputs": []
    },
    {
      "cell_type": "code",
      "metadata": {
        "id": "HXyQxEqCU4EI",
        "outputId": "1fbd034e-694d-43da-9e6b-3e86d19f61c7",
        "colab": {
          "base_uri": "https://localhost:8080/"
        }
      },
      "source": [
        "print_eval(X_val, y_val, model)"
      ],
      "execution_count": 146,
      "outputs": [
        {
          "output_type": "stream",
          "text": [
            "   Mean squared error: 8.1243e+15\n",
            "   Mean squared log error: 2.0065\n",
            "       Relative error: 447357.50604%\n",
            "R-squared coefficient: 0.70466\n"
          ],
          "name": "stdout"
        }
      ]
    },
    {
      "cell_type": "code",
      "metadata": {
        "id": "jTX04BbovoaX"
      },
      "source": [
        "from sklearn.tree import DecisionTreeRegressor\n",
        "model = DecisionTreeRegressor(max_depth=8, random_state=42)\n",
        "model.fit(X_train, y_train);"
      ],
      "execution_count": 147,
      "outputs": []
    },
    {
      "cell_type": "code",
      "metadata": {
        "id": "aLWB2NBhGMLV",
        "colab": {
          "base_uri": "https://localhost:8080/"
        },
        "outputId": "e69b5b1e-b4e2-428a-f698-31d02c72902a"
      },
      "source": [
        "print_eval(X_train, y_train, model)"
      ],
      "execution_count": 148,
      "outputs": [
        {
          "output_type": "stream",
          "text": [
            "   Mean squared error: 2.0302e+15\n",
            "   Mean squared log error: 1.696\n",
            "       Relative error: 976067.23351%\n",
            "R-squared coefficient: 0.91779\n"
          ],
          "name": "stdout"
        }
      ]
    },
    {
      "cell_type": "code",
      "metadata": {
        "id": "ZBIcYn24GTI8",
        "colab": {
          "base_uri": "https://localhost:8080/"
        },
        "outputId": "6c6de799-67a6-4d5f-f45b-c3923519c190"
      },
      "source": [
        "print_eval(X_val, y_val, model)"
      ],
      "execution_count": 149,
      "outputs": [
        {
          "output_type": "stream",
          "text": [
            "   Mean squared error: 1.429e+16\n",
            "   Mean squared log error: 1.8676\n",
            "       Relative error: 203787.49710%\n",
            "R-squared coefficient: 0.48053\n"
          ],
          "name": "stdout"
        }
      ]
    },
    {
      "cell_type": "code",
      "metadata": {
        "id": "txyD1hpk9C7C"
      },
      "source": [
        "res1 = model.predict(test)"
      ],
      "execution_count": 150,
      "outputs": []
    },
    {
      "cell_type": "code",
      "metadata": {
        "id": "EfWqpi3ZwxxO"
      },
      "source": [
        "model = DecisionTreeRegressor(min_samples_split=0.4, random_state=42)\n",
        "model.fit(X_train, y_train);"
      ],
      "execution_count": 151,
      "outputs": []
    },
    {
      "cell_type": "code",
      "metadata": {
        "id": "ZzXO4_-Lw8Dx",
        "colab": {
          "base_uri": "https://localhost:8080/"
        },
        "outputId": "b6f4cb7f-3cf7-4a78-a613-1beed7681129"
      },
      "source": [
        "model.score(X_train, y_train)"
      ],
      "execution_count": 152,
      "outputs": [
        {
          "output_type": "execute_result",
          "data": {
            "text/plain": [
              "0.4969336588663307"
            ]
          },
          "metadata": {
            "tags": []
          },
          "execution_count": 152
        }
      ]
    },
    {
      "cell_type": "code",
      "metadata": {
        "id": "r7PPuHwaxAhJ",
        "colab": {
          "base_uri": "https://localhost:8080/"
        },
        "outputId": "de42eb06-3f2f-4831-c03c-ecb338a452d1"
      },
      "source": [
        "model.score(X_val, y_val)"
      ],
      "execution_count": 153,
      "outputs": [
        {
          "output_type": "execute_result",
          "data": {
            "text/plain": [
              "0.40528901181773447"
            ]
          },
          "metadata": {
            "tags": []
          },
          "execution_count": 153
        }
      ]
    },
    {
      "cell_type": "code",
      "metadata": {
        "id": "0T62LO0Q6JrP",
        "outputId": "42eb3178-1db0-47bf-8484-b60f4201aa12",
        "colab": {
          "base_uri": "https://localhost:8080/"
        }
      },
      "source": [
        "print_eval(X_val, y_val, model)"
      ],
      "execution_count": 154,
      "outputs": [
        {
          "output_type": "stream",
          "text": [
            "   Mean squared error: 1.636e+16\n",
            "   Mean squared log error: 2.0612\n",
            "       Relative error: 634266.86746%\n",
            "R-squared coefficient: 0.40529\n"
          ],
          "name": "stdout"
        }
      ]
    },
    {
      "cell_type": "code",
      "metadata": {
        "id": "YXnDJMeuyg4Q",
        "colab": {
          "base_uri": "https://localhost:8080/"
        },
        "outputId": "0cd0a2e1-f81d-44ef-d6b7-d09414d6cd26"
      },
      "source": [
        "model = DecisionTreeRegressor(random_state=42)\n",
        "grid = {\n",
        "    \"max_depth\": [3, 5, 10, None],\n",
        "    \"min_samples_split\": [2, 0.02, 0.05, 0.1]\n",
        "}\n",
        "kf = KFold(3, shuffle=True, random_state=42)\n",
        "gs = GridSearchCV(model, grid, cv=kf)\n",
        "gs.fit(X_train, y_train)\n",
        "gs.best_params_"
      ],
      "execution_count": 155,
      "outputs": [
        {
          "output_type": "execute_result",
          "data": {
            "text/plain": [
              "{'max_depth': 5, 'min_samples_split': 0.1}"
            ]
          },
          "metadata": {
            "tags": []
          },
          "execution_count": 155
        }
      ]
    },
    {
      "cell_type": "code",
      "metadata": {
        "id": "MFHv62tWykn2",
        "colab": {
          "base_uri": "https://localhost:8080/"
        },
        "outputId": "a671b8be-9b42-4f0a-d676-8b7ed8eb69d7"
      },
      "source": [
        "gs.score(X_val, y_val)"
      ],
      "execution_count": 156,
      "outputs": [
        {
          "output_type": "execute_result",
          "data": {
            "text/plain": [
              "0.485507147712153"
            ]
          },
          "metadata": {
            "tags": []
          },
          "execution_count": 156
        }
      ]
    },
    {
      "cell_type": "code",
      "metadata": {
        "id": "s_xPc8ke1NDq"
      },
      "source": [
        "from sklearn.neural_network import MLPRegressor\n",
        "model = MLPRegressor(\n",
        "    hidden_layer_sizes=[4],\n",
        "    activation=\"relu\",\n",
        "    solver=\"sgd\",\n",
        "    random_state=12345\n",
        ")"
      ],
      "execution_count": 157,
      "outputs": []
    },
    {
      "cell_type": "code",
      "metadata": {
        "id": "2MAs-jKn1RF6"
      },
      "source": [
        "model.fit(X_train, y_train);"
      ],
      "execution_count": 158,
      "outputs": []
    },
    {
      "cell_type": "code",
      "metadata": {
        "id": "SvysjAM81UXy",
        "colab": {
          "base_uri": "https://localhost:8080/"
        },
        "outputId": "e59a0cde-c1d7-40da-9228-b267c531d536"
      },
      "source": [
        "model.score(X_val, y_val)"
      ],
      "execution_count": 159,
      "outputs": [
        {
          "output_type": "execute_result",
          "data": {
            "text/plain": [
              "-3.6236673215761545e+45"
            ]
          },
          "metadata": {
            "tags": []
          },
          "execution_count": 159
        }
      ]
    },
    {
      "cell_type": "code",
      "metadata": {
        "id": "RFFiWQeg12pk"
      },
      "source": [
        "from tensorflow.keras.models import Sequential\n",
        "from tensorflow.keras.layers import Dense"
      ],
      "execution_count": 160,
      "outputs": []
    },
    {
      "cell_type": "code",
      "metadata": {
        "id": "kHS1sSvF1zB6"
      },
      "source": [
        "model = Sequential([\n",
        "    Dense(128, activation=\"relu\", input_dim=X_train.shape[1]),\n",
        "    Dense(1)\n",
        "])\n",
        "model.compile(optimizer=\"adam\", loss=\"mean_squared_logarithmic_error\")"
      ],
      "execution_count": 161,
      "outputs": []
    },
    {
      "cell_type": "code",
      "metadata": {
        "id": "u7J2IKNx1_pg",
        "colab": {
          "base_uri": "https://localhost:8080/"
        },
        "outputId": "832221df-abbb-4a3b-e38c-72420ac2c9a5"
      },
      "source": [
        "model.fit(X_train, y_train, batch_size=100, epochs=5)\n"
      ],
      "execution_count": 162,
      "outputs": [
        {
          "output_type": "stream",
          "text": [
            "Epoch 1/5\n",
            "14/14 [==============================] - 0s 2ms/step - loss: 6.5719\n",
            "Epoch 2/5\n",
            "14/14 [==============================] - 0s 3ms/step - loss: 4.9846\n",
            "Epoch 3/5\n",
            "14/14 [==============================] - 0s 2ms/step - loss: 4.3287\n",
            "Epoch 4/5\n",
            "14/14 [==============================] - 0s 2ms/step - loss: 3.9909\n",
            "Epoch 5/5\n",
            "14/14 [==============================] - 0s 2ms/step - loss: 3.7764\n"
          ],
          "name": "stdout"
        },
        {
          "output_type": "execute_result",
          "data": {
            "text/plain": [
              "<tensorflow.python.keras.callbacks.History at 0x7f7b201039d0>"
            ]
          },
          "metadata": {
            "tags": []
          },
          "execution_count": 162
        }
      ]
    },
    {
      "cell_type": "code",
      "metadata": {
        "id": "E20Ja7er3sbG"
      },
      "source": [
        "model = Sequential([\n",
        "    Dense(512, activation=\"relu\", input_dim=X_train.shape[1]),\n",
        "    Dense(128, activation=\"relu\"),\n",
        "    Dense(32, activation=\"relu\"),\n",
        "    Dense(1)\n",
        "])\n",
        "model.compile(optimizer=\"adam\", loss=\"mean_squared_logarithmic_error\")"
      ],
      "execution_count": 163,
      "outputs": []
    },
    {
      "cell_type": "code",
      "metadata": {
        "id": "ESXRUzrn5JSq",
        "colab": {
          "base_uri": "https://localhost:8080/"
        },
        "outputId": "21ef6434-b6cb-4d36-ee69-2dabb6dca64b"
      },
      "source": [
        "model.fit(X_train, y_train, batch_size=100, epochs=5)"
      ],
      "execution_count": 164,
      "outputs": [
        {
          "output_type": "stream",
          "text": [
            "Epoch 1/5\n",
            "14/14 [==============================] - 1s 4ms/step - loss: 8.2976\n",
            "Epoch 2/5\n",
            "14/14 [==============================] - 0s 5ms/step - loss: 4.4178\n",
            "Epoch 3/5\n",
            "14/14 [==============================] - 0s 5ms/step - loss: 3.7657\n",
            "Epoch 4/5\n",
            "14/14 [==============================] - 0s 5ms/step - loss: 3.4184\n",
            "Epoch 5/5\n",
            "14/14 [==============================] - 0s 5ms/step - loss: 3.2481\n"
          ],
          "name": "stdout"
        },
        {
          "output_type": "execute_result",
          "data": {
            "text/plain": [
              "<tensorflow.python.keras.callbacks.History at 0x7f7b1fed7950>"
            ]
          },
          "metadata": {
            "tags": []
          },
          "execution_count": 164
        }
      ]
    },
    {
      "cell_type": "code",
      "metadata": {
        "id": "AKD5AIgS5TR2"
      },
      "source": [
        "from tensorflow.keras.regularizers import l2\n",
        "model = Sequential([\n",
        "    Dense(128, activation=\"relu\", kernel_regularizer=l2(0.001), input_dim=X_train.shape[1]),\n",
        "    Dense(1)\n",
        "])\n",
        "model.compile(optimizer=\"adam\", loss=\"mean_squared_logarithmic_error\")"
      ],
      "execution_count": 165,
      "outputs": []
    },
    {
      "cell_type": "code",
      "metadata": {
        "id": "-M2Gowfh5W7u",
        "colab": {
          "base_uri": "https://localhost:8080/"
        },
        "outputId": "c778b857-256d-4fdf-8ac4-bbff39aa4241"
      },
      "source": [
        "model.fit(X_train, y_train, batch_size=100, epochs=50)"
      ],
      "execution_count": 166,
      "outputs": [
        {
          "output_type": "stream",
          "text": [
            "Epoch 1/50\n",
            "14/14 [==============================] - 0s 2ms/step - loss: 294.7389\n",
            "Epoch 2/50\n",
            "14/14 [==============================] - 0s 2ms/step - loss: 294.7190\n",
            "Epoch 3/50\n",
            "14/14 [==============================] - 0s 2ms/step - loss: 294.7031\n",
            "Epoch 4/50\n",
            "14/14 [==============================] - 0s 3ms/step - loss: 294.6906\n",
            "Epoch 5/50\n",
            "14/14 [==============================] - 0s 2ms/step - loss: 294.6809\n",
            "Epoch 6/50\n",
            "14/14 [==============================] - 0s 2ms/step - loss: 294.6735\n",
            "Epoch 7/50\n",
            "14/14 [==============================] - 0s 3ms/step - loss: 294.6679\n",
            "Epoch 8/50\n",
            "14/14 [==============================] - 0s 2ms/step - loss: 46.3264\n",
            "Epoch 9/50\n",
            "14/14 [==============================] - 0s 2ms/step - loss: 12.0265\n",
            "Epoch 10/50\n",
            "14/14 [==============================] - 0s 2ms/step - loss: 9.9203\n",
            "Epoch 11/50\n",
            "14/14 [==============================] - 0s 2ms/step - loss: 8.3134\n",
            "Epoch 12/50\n",
            "14/14 [==============================] - 0s 3ms/step - loss: 6.9737\n",
            "Epoch 13/50\n",
            "14/14 [==============================] - 0s 3ms/step - loss: 6.0171\n",
            "Epoch 14/50\n",
            "14/14 [==============================] - 0s 2ms/step - loss: 5.3560\n",
            "Epoch 15/50\n",
            "14/14 [==============================] - 0s 3ms/step - loss: 4.8933\n",
            "Epoch 16/50\n",
            "14/14 [==============================] - 0s 2ms/step - loss: 4.5030\n",
            "Epoch 17/50\n",
            "14/14 [==============================] - 0s 2ms/step - loss: 4.2045\n",
            "Epoch 18/50\n",
            "14/14 [==============================] - 0s 2ms/step - loss: 3.9361\n",
            "Epoch 19/50\n",
            "14/14 [==============================] - 0s 2ms/step - loss: 3.7320\n",
            "Epoch 20/50\n",
            "14/14 [==============================] - 0s 2ms/step - loss: 3.5874\n",
            "Epoch 21/50\n",
            "14/14 [==============================] - 0s 2ms/step - loss: 3.4778\n",
            "Epoch 22/50\n",
            "14/14 [==============================] - 0s 2ms/step - loss: 3.3984\n",
            "Epoch 23/50\n",
            "14/14 [==============================] - 0s 4ms/step - loss: 3.3368\n",
            "Epoch 24/50\n",
            "14/14 [==============================] - 0s 3ms/step - loss: 3.2935\n",
            "Epoch 25/50\n",
            "14/14 [==============================] - 0s 2ms/step - loss: 3.2647\n",
            "Epoch 26/50\n",
            "14/14 [==============================] - 0s 2ms/step - loss: 3.2444\n",
            "Epoch 27/50\n",
            "14/14 [==============================] - 0s 2ms/step - loss: 3.2313\n",
            "Epoch 28/50\n",
            "14/14 [==============================] - 0s 2ms/step - loss: 3.2245\n",
            "Epoch 29/50\n",
            "14/14 [==============================] - 0s 2ms/step - loss: 3.2185\n",
            "Epoch 30/50\n",
            "14/14 [==============================] - 0s 2ms/step - loss: 3.2155\n",
            "Epoch 31/50\n",
            "14/14 [==============================] - 0s 2ms/step - loss: 3.2140\n",
            "Epoch 32/50\n",
            "14/14 [==============================] - 0s 3ms/step - loss: 3.2133\n",
            "Epoch 33/50\n",
            "14/14 [==============================] - 0s 2ms/step - loss: 3.2127\n",
            "Epoch 34/50\n",
            "14/14 [==============================] - 0s 2ms/step - loss: 3.2124\n",
            "Epoch 35/50\n",
            "14/14 [==============================] - 0s 2ms/step - loss: 3.2125\n",
            "Epoch 36/50\n",
            "14/14 [==============================] - 0s 3ms/step - loss: 3.2123\n",
            "Epoch 37/50\n",
            "14/14 [==============================] - 0s 2ms/step - loss: 3.2121\n",
            "Epoch 38/50\n",
            "14/14 [==============================] - 0s 2ms/step - loss: 3.2122\n",
            "Epoch 39/50\n",
            "14/14 [==============================] - 0s 3ms/step - loss: 3.2122\n",
            "Epoch 40/50\n",
            "14/14 [==============================] - 0s 3ms/step - loss: 3.2120\n",
            "Epoch 41/50\n",
            "14/14 [==============================] - 0s 2ms/step - loss: 3.2120\n",
            "Epoch 42/50\n",
            "14/14 [==============================] - 0s 2ms/step - loss: 3.2123\n",
            "Epoch 43/50\n",
            "14/14 [==============================] - 0s 2ms/step - loss: 3.2121\n",
            "Epoch 44/50\n",
            "14/14 [==============================] - 0s 3ms/step - loss: 3.2122\n",
            "Epoch 45/50\n",
            "14/14 [==============================] - 0s 2ms/step - loss: 3.2122\n",
            "Epoch 46/50\n",
            "14/14 [==============================] - 0s 2ms/step - loss: 3.2126\n",
            "Epoch 47/50\n",
            "14/14 [==============================] - 0s 2ms/step - loss: 3.2122\n",
            "Epoch 48/50\n",
            "14/14 [==============================] - 0s 2ms/step - loss: 3.2122\n",
            "Epoch 49/50\n",
            "14/14 [==============================] - 0s 2ms/step - loss: 3.2122\n",
            "Epoch 50/50\n",
            "14/14 [==============================] - 0s 2ms/step - loss: 3.2120\n"
          ],
          "name": "stdout"
        },
        {
          "output_type": "execute_result",
          "data": {
            "text/plain": [
              "<tensorflow.python.keras.callbacks.History at 0x7f7b207e8690>"
            ]
          },
          "metadata": {
            "tags": []
          },
          "execution_count": 166
        }
      ]
    },
    {
      "cell_type": "code",
      "metadata": {
        "id": "KXk4wWt5-ii2"
      },
      "source": [
        "res1 = model.predict(test)"
      ],
      "execution_count": 167,
      "outputs": []
    },
    {
      "cell_type": "code",
      "metadata": {
        "id": "CnUMihQg-g2T",
        "colab": {
          "base_uri": "https://localhost:8080/",
          "height": 177
        },
        "outputId": "a03b847d-1173-4559-9fa0-038ba6fe5489"
      },
      "source": [
        "X_train.head(1)"
      ],
      "execution_count": 168,
      "outputs": [
        {
          "output_type": "execute_result",
          "data": {
            "text/html": [
              "<div>\n",
              "<style scoped>\n",
              "    .dataframe tbody tr th:only-of-type {\n",
              "        vertical-align: middle;\n",
              "    }\n",
              "\n",
              "    .dataframe tbody tr th {\n",
              "        vertical-align: top;\n",
              "    }\n",
              "\n",
              "    .dataframe thead th {\n",
              "        text-align: right;\n",
              "    }\n",
              "</style>\n",
              "<table border=\"1\" class=\"dataframe\">\n",
              "  <thead>\n",
              "    <tr style=\"text-align: right;\">\n",
              "      <th></th>\n",
              "      <th>budget</th>\n",
              "      <th>popularity</th>\n",
              "      <th>runtime</th>\n",
              "      <th>belongs_to_a_collection</th>\n",
              "      <th>homepage_is_present</th>\n",
              "      <th>genre_Animation</th>\n",
              "      <th>genre_Music</th>\n",
              "      <th>genre_War</th>\n",
              "      <th>genre_Romance</th>\n",
              "      <th>genre_Comedy</th>\n",
              "      <th>genre_TV Movie</th>\n",
              "      <th>genre_Drama</th>\n",
              "      <th>genre_Mystery</th>\n",
              "      <th>genre_Western</th>\n",
              "      <th>genre_Documentary</th>\n",
              "      <th>genre_Foreign</th>\n",
              "      <th>genre_Thriller</th>\n",
              "      <th>genre_Action</th>\n",
              "      <th>genre_Science Fiction</th>\n",
              "      <th>genre_Adventure</th>\n",
              "      <th>genre_History</th>\n",
              "      <th>genre_Fantasy</th>\n",
              "      <th>genre_Family</th>\n",
              "      <th>genre_Crime</th>\n",
              "      <th>genre_Horror</th>\n",
              "      <th>Keywords (duringcreditsstinger)</th>\n",
              "      <th>Keywords (woman director)</th>\n",
              "      <th>Keywords (murder)</th>\n",
              "      <th>Keywords (based on novel)</th>\n",
              "      <th>Keywords (independent film)</th>\n",
              "      <th>Keywords (violence)</th>\n",
              "      <th>Keywords (dystopia)</th>\n",
              "      <th>Keywords (aftercreditsstinger)</th>\n",
              "      <th>Keywords (sport)</th>\n",
              "      <th>Keywords (revenge)</th>\n",
              "      <th>cast (Samuel L. Jackson)</th>\n",
              "      <th>cast (Bruce Willis)</th>\n",
              "      <th>cast (J.K. Simmons)</th>\n",
              "      <th>cast (Morgan Freeman)</th>\n",
              "      <th>cast (Bruce McGill)</th>\n",
              "      <th>cast (Robert De Niro)</th>\n",
              "      <th>cast (Nicolas Cage)</th>\n",
              "      <th>cast (Jason Statham)</th>\n",
              "      <th>cast (Owen Wilson)</th>\n",
              "      <th>cast (George Clooney)</th>\n",
              "      <th>crew (Robert Rodriguez)</th>\n",
              "      <th>crew (Avy Kaufman)</th>\n",
              "      <th>crew (James Newton Howard)</th>\n",
              "      <th>crew (Francine Maisler)</th>\n",
              "      <th>crew (Deborah Aquila)</th>\n",
              "      <th>crew (Steven Spielberg)</th>\n",
              "      <th>crew (Mary Vernieu)</th>\n",
              "      <th>crew (Jerry Goldsmith)</th>\n",
              "      <th>crew (Luc Besson)</th>\n",
              "      <th>crew (Tricia Wood)</th>\n",
              "      <th>production_companies (Warner Bros.)</th>\n",
              "      <th>production_companies (Universal Pictures)</th>\n",
              "      <th>production_companies (Paramount Pictures)</th>\n",
              "      <th>production_companies (Twentieth Century Fox Film Corporation)</th>\n",
              "      <th>production_companies (Columbia Pictures)</th>\n",
              "      <th>production_companies (New Line Cinema)</th>\n",
              "      <th>production_companies (Metro-Goldwyn-Mayer (MGM))</th>\n",
              "      <th>production_companies (Walt Disney Pictures)</th>\n",
              "      <th>production_companies (Touchstone Pictures)</th>\n",
              "      <th>production_companies (Columbia Pictures Corporation)</th>\n",
              "      <th>production_countries (United States of America)</th>\n",
              "      <th>production_countries (United Kingdom)</th>\n",
              "      <th>production_countries (France)</th>\n",
              "      <th>production_countries (Germany)</th>\n",
              "      <th>production_countries (Canada)</th>\n",
              "      <th>production_countries (India)</th>\n",
              "      <th>production_countries (Australia)</th>\n",
              "      <th>production_countries (Italy)</th>\n",
              "      <th>production_countries (China)</th>\n",
              "      <th>production_countries (Russia)</th>\n",
              "      <th>release_month</th>\n",
              "      <th>release_day</th>\n",
              "      <th>release_year</th>\n",
              "    </tr>\n",
              "    <tr>\n",
              "      <th>id</th>\n",
              "      <th></th>\n",
              "      <th></th>\n",
              "      <th></th>\n",
              "      <th></th>\n",
              "      <th></th>\n",
              "      <th></th>\n",
              "      <th></th>\n",
              "      <th></th>\n",
              "      <th></th>\n",
              "      <th></th>\n",
              "      <th></th>\n",
              "      <th></th>\n",
              "      <th></th>\n",
              "      <th></th>\n",
              "      <th></th>\n",
              "      <th></th>\n",
              "      <th></th>\n",
              "      <th></th>\n",
              "      <th></th>\n",
              "      <th></th>\n",
              "      <th></th>\n",
              "      <th></th>\n",
              "      <th></th>\n",
              "      <th></th>\n",
              "      <th></th>\n",
              "      <th></th>\n",
              "      <th></th>\n",
              "      <th></th>\n",
              "      <th></th>\n",
              "      <th></th>\n",
              "      <th></th>\n",
              "      <th></th>\n",
              "      <th></th>\n",
              "      <th></th>\n",
              "      <th></th>\n",
              "      <th></th>\n",
              "      <th></th>\n",
              "      <th></th>\n",
              "      <th></th>\n",
              "      <th></th>\n",
              "      <th></th>\n",
              "      <th></th>\n",
              "      <th></th>\n",
              "      <th></th>\n",
              "      <th></th>\n",
              "      <th></th>\n",
              "      <th></th>\n",
              "      <th></th>\n",
              "      <th></th>\n",
              "      <th></th>\n",
              "      <th></th>\n",
              "      <th></th>\n",
              "      <th></th>\n",
              "      <th></th>\n",
              "      <th></th>\n",
              "      <th></th>\n",
              "      <th></th>\n",
              "      <th></th>\n",
              "      <th></th>\n",
              "      <th></th>\n",
              "      <th></th>\n",
              "      <th></th>\n",
              "      <th></th>\n",
              "      <th></th>\n",
              "      <th></th>\n",
              "      <th></th>\n",
              "      <th></th>\n",
              "      <th></th>\n",
              "      <th></th>\n",
              "      <th></th>\n",
              "      <th></th>\n",
              "      <th></th>\n",
              "      <th></th>\n",
              "      <th></th>\n",
              "      <th></th>\n",
              "      <th></th>\n",
              "      <th></th>\n",
              "      <th></th>\n",
              "    </tr>\n",
              "  </thead>\n",
              "  <tbody>\n",
              "    <tr>\n",
              "      <th>495</th>\n",
              "      <td>2000000</td>\n",
              "      <td>2.300459</td>\n",
              "      <td>97.0</td>\n",
              "      <td>0</td>\n",
              "      <td>1</td>\n",
              "      <td>0</td>\n",
              "      <td>0</td>\n",
              "      <td>0</td>\n",
              "      <td>0</td>\n",
              "      <td>0</td>\n",
              "      <td>0</td>\n",
              "      <td>1</td>\n",
              "      <td>1</td>\n",
              "      <td>0</td>\n",
              "      <td>0</td>\n",
              "      <td>0</td>\n",
              "      <td>1</td>\n",
              "      <td>0</td>\n",
              "      <td>0</td>\n",
              "      <td>0</td>\n",
              "      <td>0</td>\n",
              "      <td>0</td>\n",
              "      <td>0</td>\n",
              "      <td>1</td>\n",
              "      <td>0</td>\n",
              "      <td>0</td>\n",
              "      <td>0</td>\n",
              "      <td>0</td>\n",
              "      <td>0</td>\n",
              "      <td>0</td>\n",
              "      <td>0</td>\n",
              "      <td>0</td>\n",
              "      <td>0</td>\n",
              "      <td>0</td>\n",
              "      <td>0</td>\n",
              "      <td>0</td>\n",
              "      <td>0</td>\n",
              "      <td>0</td>\n",
              "      <td>0</td>\n",
              "      <td>0</td>\n",
              "      <td>0</td>\n",
              "      <td>0</td>\n",
              "      <td>0</td>\n",
              "      <td>0</td>\n",
              "      <td>0</td>\n",
              "      <td>0</td>\n",
              "      <td>0</td>\n",
              "      <td>0</td>\n",
              "      <td>0</td>\n",
              "      <td>0</td>\n",
              "      <td>0</td>\n",
              "      <td>0</td>\n",
              "      <td>0</td>\n",
              "      <td>0</td>\n",
              "      <td>0</td>\n",
              "      <td>0</td>\n",
              "      <td>0</td>\n",
              "      <td>0</td>\n",
              "      <td>0</td>\n",
              "      <td>0</td>\n",
              "      <td>0</td>\n",
              "      <td>0</td>\n",
              "      <td>0</td>\n",
              "      <td>0</td>\n",
              "      <td>0</td>\n",
              "      <td>1</td>\n",
              "      <td>0</td>\n",
              "      <td>0</td>\n",
              "      <td>0</td>\n",
              "      <td>0</td>\n",
              "      <td>0</td>\n",
              "      <td>0</td>\n",
              "      <td>0</td>\n",
              "      <td>0</td>\n",
              "      <td>0</td>\n",
              "      <td>10</td>\n",
              "      <td>10</td>\n",
              "      <td>2009</td>\n",
              "    </tr>\n",
              "  </tbody>\n",
              "</table>\n",
              "</div>"
            ],
            "text/plain": [
              "      budget  popularity  runtime  ...  release_month  release_day  release_year\n",
              "id                                 ...                                          \n",
              "495  2000000    2.300459     97.0  ...             10           10          2009\n",
              "\n",
              "[1 rows x 78 columns]"
            ]
          },
          "metadata": {
            "tags": []
          },
          "execution_count": 168
        }
      ]
    },
    {
      "cell_type": "code",
      "metadata": {
        "id": "OtS-C3FF223V"
      },
      "source": [
        "if not os.path.exists(\"sample_submission.csv\"):\n",
        "    from urllib.request import urlretrieve\n",
        "    urlretrieve(\"https://raw.githubusercontent.com/sergiorolnic/datascience/main/sample_submission.csv\", \"sample_submission.csv\")\n",
        "\n",
        "sub = pd.read_csv(\"sample_submission.csv\")  \n",
        "df_sub = pd.DataFrame()\n",
        "df_sub['id'] = sub['id']"
      ],
      "execution_count": 169,
      "outputs": []
    },
    {
      "cell_type": "code",
      "metadata": {
        "id": "g528NHf5-gzF"
      },
      "source": [
        "#res1 = model.predict(test)\n",
        "#df_sub[\"revenue\"] = res1\n",
        "#df_sub.to_csv(\"./submission.csv\", index=False)"
      ],
      "execution_count": 170,
      "outputs": []
    },
    {
      "cell_type": "code",
      "metadata": {
        "id": "G2ECgAVM9WQr"
      },
      "source": [
        "df_sub[\"revenue\"] = np.abs(res1)\n",
        "df_sub.to_csv(\"./submission.csv\", index=False)"
      ],
      "execution_count": 171,
      "outputs": []
    }
  ]
}