{
  "nbformat": 4,
  "nbformat_minor": 0,
  "metadata": {
    "colab": {
      "name": "datascience-project.ipynb",
      "provenance": [],
      "collapsed_sections": [],
      "toc_visible": true,
      "authorship_tag": "ABX9TyPZJhvEZN9gVGt1gmUcWo1F",
      "include_colab_link": true
    },
    "kernelspec": {
      "name": "python3",
      "display_name": "Python 3"
    },
    "language_info": {
      "name": "python"
    }
  },
  "cells": [
    {
      "cell_type": "markdown",
      "metadata": {
        "id": "view-in-github",
        "colab_type": "text"
      },
      "source": [
        "<a href=\"https://colab.research.google.com/github/sergiorolnic/datascience/blob/main/datascience_project.ipynb\" target=\"_parent\"><img src=\"https://colab.research.google.com/assets/colab-badge.svg\" alt=\"Open In Colab\"/></a>"
      ]
    },
    {
      "cell_type": "code",
      "metadata": {
        "id": "RD8sVLIbVDNS"
      },
      "source": [
        "import numpy as np\n",
        "import pandas as pd\n",
        "import matplotlib.pyplot as plt\n",
        "import sklearn"
      ],
      "execution_count": 19,
      "outputs": []
    },
    {
      "cell_type": "code",
      "metadata": {
        "id": "jyPL4Ntv3Tc8"
      },
      "source": [
        "%matplotlib inline\n"
      ],
      "execution_count": 20,
      "outputs": []
    },
    {
      "cell_type": "code",
      "metadata": {
        "id": "RBpzi_d3VKpt"
      },
      "source": [
        "import os.path\n",
        "if not os.path.exists(\"train.csv\"):\n",
        "    from urllib.request import urlretrieve\n",
        "    urlretrieve(\"https://raw.githubusercontent.com/sergiorolnic/datascience/main/train.csv\", \"train.csv\")"
      ],
      "execution_count": 13,
      "outputs": []
    },
    {
      "cell_type": "code",
      "metadata": {
        "id": "iXqD8WcB3STA"
      },
      "source": [
        "\n",
        "    \n",
        "    "
      ],
      "execution_count": 14,
      "outputs": []
    },
    {
      "cell_type": "code",
      "metadata": {
        "id": "scdCuxMK4m9z"
      },
      "source": [
        "train_data = pd.read_csv(\"train.csv\", index_col=0)"
      ],
      "execution_count": 15,
      "outputs": []
    },
    {
      "cell_type": "markdown",
      "metadata": {
        "id": "UZJcfexXmC59"
      },
      "source": [
        "# **Esporazione Dati**"
      ]
    },
    {
      "cell_type": "code",
      "metadata": {
        "colab": {
          "base_uri": "https://localhost:8080/"
        },
        "id": "doziER_xC46N",
        "outputId": "e4299308-0fe1-4e8b-fcaa-2e52efe2158d"
      },
      "source": [
        "train_data.shape"
      ],
      "execution_count": 22,
      "outputs": [
        {
          "output_type": "execute_result",
          "data": {
            "text/plain": [
              "(3000, 22)"
            ]
          },
          "metadata": {
            "tags": []
          },
          "execution_count": 22
        }
      ]
    },
    {
      "cell_type": "code",
      "metadata": {
        "colab": {
          "base_uri": "https://localhost:8080/",
          "height": 648
        },
        "id": "vCahw2vvmj_r",
        "outputId": "904532a1-4f82-4b7e-f037-dd39631f9526"
      },
      "source": [
        "train_data.head()"
      ],
      "execution_count": 23,
      "outputs": [
        {
          "output_type": "execute_result",
          "data": {
            "text/html": [
              "<div>\n",
              "<style scoped>\n",
              "    .dataframe tbody tr th:only-of-type {\n",
              "        vertical-align: middle;\n",
              "    }\n",
              "\n",
              "    .dataframe tbody tr th {\n",
              "        vertical-align: top;\n",
              "    }\n",
              "\n",
              "    .dataframe thead th {\n",
              "        text-align: right;\n",
              "    }\n",
              "</style>\n",
              "<table border=\"1\" class=\"dataframe\">\n",
              "  <thead>\n",
              "    <tr style=\"text-align: right;\">\n",
              "      <th></th>\n",
              "      <th>belongs_to_collection</th>\n",
              "      <th>budget</th>\n",
              "      <th>genres</th>\n",
              "      <th>homepage</th>\n",
              "      <th>imdb_id</th>\n",
              "      <th>original_language</th>\n",
              "      <th>original_title</th>\n",
              "      <th>overview</th>\n",
              "      <th>popularity</th>\n",
              "      <th>poster_path</th>\n",
              "      <th>production_companies</th>\n",
              "      <th>production_countries</th>\n",
              "      <th>release_date</th>\n",
              "      <th>runtime</th>\n",
              "      <th>spoken_languages</th>\n",
              "      <th>status</th>\n",
              "      <th>tagline</th>\n",
              "      <th>title</th>\n",
              "      <th>Keywords</th>\n",
              "      <th>cast</th>\n",
              "      <th>crew</th>\n",
              "      <th>revenue</th>\n",
              "    </tr>\n",
              "    <tr>\n",
              "      <th>id</th>\n",
              "      <th></th>\n",
              "      <th></th>\n",
              "      <th></th>\n",
              "      <th></th>\n",
              "      <th></th>\n",
              "      <th></th>\n",
              "      <th></th>\n",
              "      <th></th>\n",
              "      <th></th>\n",
              "      <th></th>\n",
              "      <th></th>\n",
              "      <th></th>\n",
              "      <th></th>\n",
              "      <th></th>\n",
              "      <th></th>\n",
              "      <th></th>\n",
              "      <th></th>\n",
              "      <th></th>\n",
              "      <th></th>\n",
              "      <th></th>\n",
              "      <th></th>\n",
              "      <th></th>\n",
              "    </tr>\n",
              "  </thead>\n",
              "  <tbody>\n",
              "    <tr>\n",
              "      <th>1</th>\n",
              "      <td>[{'id': 313576, 'name': 'Hot Tub Time Machine ...</td>\n",
              "      <td>14000000</td>\n",
              "      <td>[{'id': 35, 'name': 'Comedy'}]</td>\n",
              "      <td>NaN</td>\n",
              "      <td>tt2637294</td>\n",
              "      <td>en</td>\n",
              "      <td>Hot Tub Time Machine 2</td>\n",
              "      <td>When Lou, who has become the \"father of the In...</td>\n",
              "      <td>6.575393</td>\n",
              "      <td>/tQtWuwvMf0hCc2QR2tkolwl7c3c.jpg</td>\n",
              "      <td>[{'name': 'Paramount Pictures', 'id': 4}, {'na...</td>\n",
              "      <td>[{'iso_3166_1': 'US', 'name': 'United States o...</td>\n",
              "      <td>2/20/15</td>\n",
              "      <td>93.0</td>\n",
              "      <td>[{'iso_639_1': 'en', 'name': 'English'}]</td>\n",
              "      <td>Released</td>\n",
              "      <td>The Laws of Space and Time are About to be Vio...</td>\n",
              "      <td>Hot Tub Time Machine 2</td>\n",
              "      <td>[{'id': 4379, 'name': 'time travel'}, {'id': 9...</td>\n",
              "      <td>[{'cast_id': 4, 'character': 'Lou', 'credit_id...</td>\n",
              "      <td>[{'credit_id': '59ac067c92514107af02c8c8', 'de...</td>\n",
              "      <td>12314651</td>\n",
              "    </tr>\n",
              "    <tr>\n",
              "      <th>2</th>\n",
              "      <td>[{'id': 107674, 'name': 'The Princess Diaries ...</td>\n",
              "      <td>40000000</td>\n",
              "      <td>[{'id': 35, 'name': 'Comedy'}, {'id': 18, 'nam...</td>\n",
              "      <td>NaN</td>\n",
              "      <td>tt0368933</td>\n",
              "      <td>en</td>\n",
              "      <td>The Princess Diaries 2: Royal Engagement</td>\n",
              "      <td>Mia Thermopolis is now a college graduate and ...</td>\n",
              "      <td>8.248895</td>\n",
              "      <td>/w9Z7A0GHEhIp7etpj0vyKOeU1Wx.jpg</td>\n",
              "      <td>[{'name': 'Walt Disney Pictures', 'id': 2}]</td>\n",
              "      <td>[{'iso_3166_1': 'US', 'name': 'United States o...</td>\n",
              "      <td>8/6/04</td>\n",
              "      <td>113.0</td>\n",
              "      <td>[{'iso_639_1': 'en', 'name': 'English'}]</td>\n",
              "      <td>Released</td>\n",
              "      <td>It can take a lifetime to find true love; she'...</td>\n",
              "      <td>The Princess Diaries 2: Royal Engagement</td>\n",
              "      <td>[{'id': 2505, 'name': 'coronation'}, {'id': 42...</td>\n",
              "      <td>[{'cast_id': 1, 'character': 'Mia Thermopolis'...</td>\n",
              "      <td>[{'credit_id': '52fe43fe9251416c7502563d', 'de...</td>\n",
              "      <td>95149435</td>\n",
              "    </tr>\n",
              "    <tr>\n",
              "      <th>3</th>\n",
              "      <td>NaN</td>\n",
              "      <td>3300000</td>\n",
              "      <td>[{'id': 18, 'name': 'Drama'}]</td>\n",
              "      <td>http://sonyclassics.com/whiplash/</td>\n",
              "      <td>tt2582802</td>\n",
              "      <td>en</td>\n",
              "      <td>Whiplash</td>\n",
              "      <td>Under the direction of a ruthless instructor, ...</td>\n",
              "      <td>64.299990</td>\n",
              "      <td>/lIv1QinFqz4dlp5U4lQ6HaiskOZ.jpg</td>\n",
              "      <td>[{'name': 'Bold Films', 'id': 2266}, {'name': ...</td>\n",
              "      <td>[{'iso_3166_1': 'US', 'name': 'United States o...</td>\n",
              "      <td>10/10/14</td>\n",
              "      <td>105.0</td>\n",
              "      <td>[{'iso_639_1': 'en', 'name': 'English'}]</td>\n",
              "      <td>Released</td>\n",
              "      <td>The road to greatness can take you to the edge.</td>\n",
              "      <td>Whiplash</td>\n",
              "      <td>[{'id': 1416, 'name': 'jazz'}, {'id': 1523, 'n...</td>\n",
              "      <td>[{'cast_id': 5, 'character': 'Andrew Neimann',...</td>\n",
              "      <td>[{'credit_id': '54d5356ec3a3683ba0000039', 'de...</td>\n",
              "      <td>13092000</td>\n",
              "    </tr>\n",
              "    <tr>\n",
              "      <th>4</th>\n",
              "      <td>NaN</td>\n",
              "      <td>1200000</td>\n",
              "      <td>[{'id': 53, 'name': 'Thriller'}, {'id': 18, 'n...</td>\n",
              "      <td>http://kahaanithefilm.com/</td>\n",
              "      <td>tt1821480</td>\n",
              "      <td>hi</td>\n",
              "      <td>Kahaani</td>\n",
              "      <td>Vidya Bagchi (Vidya Balan) arrives in Kolkata ...</td>\n",
              "      <td>3.174936</td>\n",
              "      <td>/aTXRaPrWSinhcmCrcfJK17urp3F.jpg</td>\n",
              "      <td>NaN</td>\n",
              "      <td>[{'iso_3166_1': 'IN', 'name': 'India'}]</td>\n",
              "      <td>3/9/12</td>\n",
              "      <td>122.0</td>\n",
              "      <td>[{'iso_639_1': 'en', 'name': 'English'}, {'iso...</td>\n",
              "      <td>Released</td>\n",
              "      <td>NaN</td>\n",
              "      <td>Kahaani</td>\n",
              "      <td>[{'id': 10092, 'name': 'mystery'}, {'id': 1054...</td>\n",
              "      <td>[{'cast_id': 1, 'character': 'Vidya Bagchi', '...</td>\n",
              "      <td>[{'credit_id': '52fe48779251416c9108d6eb', 'de...</td>\n",
              "      <td>16000000</td>\n",
              "    </tr>\n",
              "    <tr>\n",
              "      <th>5</th>\n",
              "      <td>NaN</td>\n",
              "      <td>0</td>\n",
              "      <td>[{'id': 28, 'name': 'Action'}, {'id': 53, 'nam...</td>\n",
              "      <td>NaN</td>\n",
              "      <td>tt1380152</td>\n",
              "      <td>ko</td>\n",
              "      <td>마린보이</td>\n",
              "      <td>Marine Boy is the story of a former national s...</td>\n",
              "      <td>1.148070</td>\n",
              "      <td>/m22s7zvkVFDU9ir56PiiqIEWFdT.jpg</td>\n",
              "      <td>NaN</td>\n",
              "      <td>[{'iso_3166_1': 'KR', 'name': 'South Korea'}]</td>\n",
              "      <td>2/5/09</td>\n",
              "      <td>118.0</td>\n",
              "      <td>[{'iso_639_1': 'ko', 'name': '한국어/조선말'}]</td>\n",
              "      <td>Released</td>\n",
              "      <td>NaN</td>\n",
              "      <td>Marine Boy</td>\n",
              "      <td>NaN</td>\n",
              "      <td>[{'cast_id': 3, 'character': 'Chun-soo', 'cred...</td>\n",
              "      <td>[{'credit_id': '52fe464b9251416c75073b43', 'de...</td>\n",
              "      <td>3923970</td>\n",
              "    </tr>\n",
              "  </tbody>\n",
              "</table>\n",
              "</div>"
            ],
            "text/plain": [
              "                                belongs_to_collection  ...   revenue\n",
              "id                                                     ...          \n",
              "1   [{'id': 313576, 'name': 'Hot Tub Time Machine ...  ...  12314651\n",
              "2   [{'id': 107674, 'name': 'The Princess Diaries ...  ...  95149435\n",
              "3                                                 NaN  ...  13092000\n",
              "4                                                 NaN  ...  16000000\n",
              "5                                                 NaN  ...   3923970\n",
              "\n",
              "[5 rows x 22 columns]"
            ]
          },
          "metadata": {
            "tags": []
          },
          "execution_count": 23
        }
      ]
    },
    {
      "cell_type": "code",
      "metadata": {
        "colab": {
          "base_uri": "https://localhost:8080/",
          "height": 631
        },
        "id": "cGNZ9bCamtZU",
        "outputId": "f481ce0b-718f-4cd8-b57d-adf23247f710"
      },
      "source": [
        "train_data.tail()"
      ],
      "execution_count": 24,
      "outputs": [
        {
          "output_type": "execute_result",
          "data": {
            "text/html": [
              "<div>\n",
              "<style scoped>\n",
              "    .dataframe tbody tr th:only-of-type {\n",
              "        vertical-align: middle;\n",
              "    }\n",
              "\n",
              "    .dataframe tbody tr th {\n",
              "        vertical-align: top;\n",
              "    }\n",
              "\n",
              "    .dataframe thead th {\n",
              "        text-align: right;\n",
              "    }\n",
              "</style>\n",
              "<table border=\"1\" class=\"dataframe\">\n",
              "  <thead>\n",
              "    <tr style=\"text-align: right;\">\n",
              "      <th></th>\n",
              "      <th>belongs_to_collection</th>\n",
              "      <th>budget</th>\n",
              "      <th>genres</th>\n",
              "      <th>homepage</th>\n",
              "      <th>imdb_id</th>\n",
              "      <th>original_language</th>\n",
              "      <th>original_title</th>\n",
              "      <th>overview</th>\n",
              "      <th>popularity</th>\n",
              "      <th>poster_path</th>\n",
              "      <th>production_companies</th>\n",
              "      <th>production_countries</th>\n",
              "      <th>release_date</th>\n",
              "      <th>runtime</th>\n",
              "      <th>spoken_languages</th>\n",
              "      <th>status</th>\n",
              "      <th>tagline</th>\n",
              "      <th>title</th>\n",
              "      <th>Keywords</th>\n",
              "      <th>cast</th>\n",
              "      <th>crew</th>\n",
              "      <th>revenue</th>\n",
              "    </tr>\n",
              "    <tr>\n",
              "      <th>id</th>\n",
              "      <th></th>\n",
              "      <th></th>\n",
              "      <th></th>\n",
              "      <th></th>\n",
              "      <th></th>\n",
              "      <th></th>\n",
              "      <th></th>\n",
              "      <th></th>\n",
              "      <th></th>\n",
              "      <th></th>\n",
              "      <th></th>\n",
              "      <th></th>\n",
              "      <th></th>\n",
              "      <th></th>\n",
              "      <th></th>\n",
              "      <th></th>\n",
              "      <th></th>\n",
              "      <th></th>\n",
              "      <th></th>\n",
              "      <th></th>\n",
              "      <th></th>\n",
              "      <th></th>\n",
              "    </tr>\n",
              "  </thead>\n",
              "  <tbody>\n",
              "    <tr>\n",
              "      <th>2996</th>\n",
              "      <td>NaN</td>\n",
              "      <td>0</td>\n",
              "      <td>[{'id': 35, 'name': 'Comedy'}, {'id': 10749, '...</td>\n",
              "      <td>NaN</td>\n",
              "      <td>tt0109403</td>\n",
              "      <td>en</td>\n",
              "      <td>Chasers</td>\n",
              "      <td>Military men Rock Reilly and Eddie Devane are ...</td>\n",
              "      <td>9.853270</td>\n",
              "      <td>/j8Q7pQ27hvH54wpxJzIuQgQCdro.jpg</td>\n",
              "      <td>[{'name': 'Warner Bros.', 'id': 6194}, {'name'...</td>\n",
              "      <td>[{'iso_3166_1': 'US', 'name': 'United States o...</td>\n",
              "      <td>4/22/94</td>\n",
              "      <td>102.0</td>\n",
              "      <td>[{'iso_639_1': 'en', 'name': 'English'}]</td>\n",
              "      <td>Released</td>\n",
              "      <td>It was supposed to be a routine prisoner trans...</td>\n",
              "      <td>Chasers</td>\n",
              "      <td>[{'id': 378, 'name': 'prison'}, {'id': 572, 'n...</td>\n",
              "      <td>[{'cast_id': 2, 'character': 'Rock Reilly', 'c...</td>\n",
              "      <td>[{'credit_id': '52fe4494c3a368484e02ac7d', 'de...</td>\n",
              "      <td>1596687</td>\n",
              "    </tr>\n",
              "    <tr>\n",
              "      <th>2997</th>\n",
              "      <td>NaN</td>\n",
              "      <td>0</td>\n",
              "      <td>[{'id': 18, 'name': 'Drama'}, {'id': 10402, 'n...</td>\n",
              "      <td>NaN</td>\n",
              "      <td>tt2364975</td>\n",
              "      <td>sv</td>\n",
              "      <td>Vi är bäst!</td>\n",
              "      <td>Three girls in 1980s Stockholm decide to form ...</td>\n",
              "      <td>3.727996</td>\n",
              "      <td>/sS01LSy6KDrCZAhtkO18UdnWFT1.jpg</td>\n",
              "      <td>[{'name': 'Memfis Film', 'id': 321}, {'name': ...</td>\n",
              "      <td>[{'iso_3166_1': 'DK', 'name': 'Denmark'}, {'is...</td>\n",
              "      <td>3/28/13</td>\n",
              "      <td>102.0</td>\n",
              "      <td>[{'iso_639_1': 'sv', 'name': 'svenska'}]</td>\n",
              "      <td>Released</td>\n",
              "      <td>NaN</td>\n",
              "      <td>We Are the Best!</td>\n",
              "      <td>[{'id': 1192, 'name': 'sweden'}, {'id': 4470, ...</td>\n",
              "      <td>[{'cast_id': 5, 'character': 'Bobo', 'credit_i...</td>\n",
              "      <td>[{'credit_id': '5716b72ac3a3686678012c84', 'de...</td>\n",
              "      <td>180590</td>\n",
              "    </tr>\n",
              "    <tr>\n",
              "      <th>2998</th>\n",
              "      <td>NaN</td>\n",
              "      <td>65000000</td>\n",
              "      <td>[{'id': 80, 'name': 'Crime'}, {'id': 28, 'name...</td>\n",
              "      <td>NaN</td>\n",
              "      <td>tt0116908</td>\n",
              "      <td>en</td>\n",
              "      <td>The Long Kiss Goodnight</td>\n",
              "      <td>Samantha Caine, suburban homemaker, is the ide...</td>\n",
              "      <td>14.482345</td>\n",
              "      <td>/4MENR8x6mYqnZvp2hGjSaPJz64J.jpg</td>\n",
              "      <td>[{'name': 'New Line Cinema', 'id': 12}, {'name...</td>\n",
              "      <td>[{'iso_3166_1': 'US', 'name': 'United States o...</td>\n",
              "      <td>10/11/96</td>\n",
              "      <td>120.0</td>\n",
              "      <td>[{'iso_639_1': 'en', 'name': 'English'}]</td>\n",
              "      <td>Released</td>\n",
              "      <td>What's forgotten is not always gone.</td>\n",
              "      <td>The Long Kiss Goodnight</td>\n",
              "      <td>[{'id': 441, 'name': 'assassination'}, {'id': ...</td>\n",
              "      <td>[{'cast_id': 10, 'character': 'Samantha Caine ...</td>\n",
              "      <td>[{'credit_id': '52fe443a9251416c7502d579', 'de...</td>\n",
              "      <td>89456761</td>\n",
              "    </tr>\n",
              "    <tr>\n",
              "      <th>2999</th>\n",
              "      <td>NaN</td>\n",
              "      <td>42000000</td>\n",
              "      <td>[{'id': 35, 'name': 'Comedy'}, {'id': 10749, '...</td>\n",
              "      <td>http://www.alongcamepolly.com/</td>\n",
              "      <td>tt0343135</td>\n",
              "      <td>en</td>\n",
              "      <td>Along Came Polly</td>\n",
              "      <td>Reuben Feffer is a guy who's spent his entire ...</td>\n",
              "      <td>15.725542</td>\n",
              "      <td>/nIY4kvJTTnxoBR0wycrXng5MOYs.jpg</td>\n",
              "      <td>[{'name': 'Jersey Films', 'id': 216}, {'name':...</td>\n",
              "      <td>[{'iso_3166_1': 'US', 'name': 'United States o...</td>\n",
              "      <td>1/16/04</td>\n",
              "      <td>90.0</td>\n",
              "      <td>[{'iso_639_1': 'en', 'name': 'English'}]</td>\n",
              "      <td>Released</td>\n",
              "      <td>For the most cautious man on Earth, life is ab...</td>\n",
              "      <td>Along Came Polly</td>\n",
              "      <td>[{'id': 966, 'name': 'beach'}, {'id': 2676, 'n...</td>\n",
              "      <td>[{'cast_id': 8, 'character': 'Reuben Feffer', ...</td>\n",
              "      <td>[{'credit_id': '556f817b9251410866000a63', 'de...</td>\n",
              "      <td>171963386</td>\n",
              "    </tr>\n",
              "    <tr>\n",
              "      <th>3000</th>\n",
              "      <td>NaN</td>\n",
              "      <td>35000000</td>\n",
              "      <td>[{'id': 53, 'name': 'Thriller'}, {'id': 28, 'n...</td>\n",
              "      <td>http://www.abductionthefilm.com/</td>\n",
              "      <td>tt1600195</td>\n",
              "      <td>en</td>\n",
              "      <td>Abduction</td>\n",
              "      <td>A young man sets out to uncover the truth abou...</td>\n",
              "      <td>10.512109</td>\n",
              "      <td>/cUT6NQP5LAJpmUoStGtXmvNt4zA.jpg</td>\n",
              "      <td>[{'name': 'Lions Gate Films', 'id': 35}, {'nam...</td>\n",
              "      <td>[{'iso_3166_1': 'US', 'name': 'United States o...</td>\n",
              "      <td>9/22/11</td>\n",
              "      <td>106.0</td>\n",
              "      <td>[{'iso_639_1': 'en', 'name': 'English'}]</td>\n",
              "      <td>Released</td>\n",
              "      <td>They stole his life. He's taking it back.</td>\n",
              "      <td>Abduction</td>\n",
              "      <td>[{'id': 591, 'name': 'cia'}, {'id': 822, 'name...</td>\n",
              "      <td>[{'cast_id': 2, 'character': 'Nathan Harper', ...</td>\n",
              "      <td>[{'credit_id': '5391990d0e0a260fb5001629', 'de...</td>\n",
              "      <td>82087155</td>\n",
              "    </tr>\n",
              "  </tbody>\n",
              "</table>\n",
              "</div>"
            ],
            "text/plain": [
              "     belongs_to_collection  ...    revenue\n",
              "id                          ...           \n",
              "2996                   NaN  ...    1596687\n",
              "2997                   NaN  ...     180590\n",
              "2998                   NaN  ...   89456761\n",
              "2999                   NaN  ...  171963386\n",
              "3000                   NaN  ...   82087155\n",
              "\n",
              "[5 rows x 22 columns]"
            ]
          },
          "metadata": {
            "tags": []
          },
          "execution_count": 24
        }
      ]
    },
    {
      "cell_type": "markdown",
      "metadata": {
        "id": "NPhp8Ubnm9Eb"
      },
      "source": [
        "## Significato delle colonne"
      ]
    },
    {
      "cell_type": "markdown",
      "metadata": {
        "id": "85KDEc5EodZQ"
      },
      "source": [
        "\n",
        "\n",
        "*   *belongs_to_collection*: appartenenza ad una serie cinematografica\n",
        "*   *budget*: costo di produzione\n",
        "*   *genres*: generi\n",
        "*   *homepage*: link al sito web\n",
        "\n",
        "\n",
        "*   *imdb_id*: id imbd\n",
        "\n",
        "*   *original_language*: lingua originale\n",
        "\n",
        "*   *original_title*: titolo originale\n",
        "\n",
        "*   *overview*: plot\n",
        "*   *popularity*: popolarità\n",
        "*   *poster_path*: path del poster ufficiale\n",
        "*   *production_companies*: compagnia di produzione\n",
        "*   *production_countries*: paese di produzione\n",
        "*   *release_date*: data di uscita\n",
        "*   *runtime*: durata\n",
        "*   *spoken_languages*: lingua del film\n",
        "* status\n",
        "tagline\n",
        "title\n",
        "Keywords\n",
        "cast\n",
        "crew\n",
        "revenue"
      ]
    },
    {
      "cell_type": "code",
      "metadata": {
        "colab": {
          "base_uri": "https://localhost:8080/",
          "height": 162
        },
        "id": "qMJ6tqw4nCO2",
        "outputId": "7a2ac9c0-4f08-41ed-80ee-81bfee389e68"
      },
      "source": [
        "train_data.columns[]"
      ],
      "execution_count": 32,
      "outputs": [
        {
          "output_type": "error",
          "ename": "TypeError",
          "evalue": "ignored",
          "traceback": [
            "\u001b[0;31m---------------------------------------------------------------------------\u001b[0m",
            "\u001b[0;31mTypeError\u001b[0m                                 Traceback (most recent call last)",
            "\u001b[0;32m<ipython-input-32-74ff3e9c3698>\u001b[0m in \u001b[0;36m<module>\u001b[0;34m()\u001b[0m\n\u001b[0;32m----> 1\u001b[0;31m \u001b[0mtrain_data\u001b[0m\u001b[0;34m.\u001b[0m\u001b[0mcolumns\u001b[0m\u001b[0;34m.\u001b[0m\u001b[0mdtype\u001b[0m\u001b[0;34m(\u001b[0m\u001b[0;34m)\u001b[0m\u001b[0;34m\u001b[0m\u001b[0;34m\u001b[0m\u001b[0m\n\u001b[0m",
            "\u001b[0;31mTypeError\u001b[0m: 'numpy.dtype' object is not callable"
          ]
        }
      ]
    }
  ]
}